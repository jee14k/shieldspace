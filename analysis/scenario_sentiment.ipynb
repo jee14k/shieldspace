{
 "cells": [
  {
   "cell_type": "code",
   "execution_count": 1,
   "id": "0d66adab",
   "metadata": {},
   "outputs": [],
   "source": [
    "import pandas as pd\n",
    "import random\n",
    "from nltk.sentiment.vader import SentimentIntensityAnalyzer"
   ]
  },
  {
   "cell_type": "code",
   "execution_count": 2,
   "id": "cf75e6be",
   "metadata": {},
   "outputs": [],
   "source": [
    "twitter_data = pd.read_csv('../cleaned/twitter_cleaned_dataset.csv')"
   ]
  },
  {
   "cell_type": "code",
   "execution_count": 3,
   "id": "3718bc2e",
   "metadata": {},
   "outputs": [
    {
     "data": {
      "text/html": [
       "<div>\n",
       "<style scoped>\n",
       "    .dataframe tbody tr th:only-of-type {\n",
       "        vertical-align: middle;\n",
       "    }\n",
       "\n",
       "    .dataframe tbody tr th {\n",
       "        vertical-align: top;\n",
       "    }\n",
       "\n",
       "    .dataframe thead th {\n",
       "        text-align: right;\n",
       "    }\n",
       "</style>\n",
       "<table border=\"1\" class=\"dataframe\">\n",
       "  <thead>\n",
       "    <tr style=\"text-align: right;\">\n",
       "      <th></th>\n",
       "      <th>formatted_id</th>\n",
       "      <th>cleaned_text</th>\n",
       "      <th>Annotation</th>\n",
       "      <th>oh_label</th>\n",
       "      <th>users</th>\n",
       "      <th>hashtags</th>\n",
       "      <th>links</th>\n",
       "    </tr>\n",
       "  </thead>\n",
       "  <tbody>\n",
       "    <tr>\n",
       "      <th>0</th>\n",
       "      <td>5767-4933-6190-5250-56</td>\n",
       "      <td>muslim mob violence against hindus in banglade...</td>\n",
       "      <td>racism</td>\n",
       "      <td>1.0</td>\n",
       "      <td>@AAlwuhaib1977</td>\n",
       "      <td>#Islam</td>\n",
       "      <td>http://t.co/C1JBWJwuRc</td>\n",
       "    </tr>\n",
       "    <tr>\n",
       "      <th>1</th>\n",
       "      <td>5678-4332-0338-1249-92</td>\n",
       "      <td>islamophobia is like the idea of naziphobia. i...</td>\n",
       "      <td>racism</td>\n",
       "      <td>1.0</td>\n",
       "      <td>@jncatron @isra_jourisra @AMPalestine</td>\n",
       "      <td>NaN</td>\n",
       "      <td>NaN</td>\n",
       "    </tr>\n",
       "    <tr>\n",
       "      <th>2</th>\n",
       "      <td>5646-0409-0752-0609-92</td>\n",
       "      <td>islam invaded and conquered 2/3 of christiando...</td>\n",
       "      <td>racism</td>\n",
       "      <td>1.0</td>\n",
       "      <td>@HuffPostRelig</td>\n",
       "      <td>NaN</td>\n",
       "      <td>NaN</td>\n",
       "    </tr>\n",
       "    <tr>\n",
       "      <th>3</th>\n",
       "      <td>5633-6995-6734-0300-16</td>\n",
       "      <td>do you approve of your pedophile prophet rapin...</td>\n",
       "      <td>racism</td>\n",
       "      <td>1.0</td>\n",
       "      <td>@semzyxx</td>\n",
       "      <td>NaN</td>\n",
       "      <td>NaN</td>\n",
       "    </tr>\n",
       "    <tr>\n",
       "      <th>4</th>\n",
       "      <td>5669-8397-0571-5790-08</td>\n",
       "      <td>problem with vile muslims is that they try to ...</td>\n",
       "      <td>racism</td>\n",
       "      <td>1.0</td>\n",
       "      <td>@watan71969 @geeky_zekey</td>\n",
       "      <td>NaN</td>\n",
       "      <td>NaN</td>\n",
       "    </tr>\n",
       "  </tbody>\n",
       "</table>\n",
       "</div>"
      ],
      "text/plain": [
       "             formatted_id                                       cleaned_text  \\\n",
       "0  5767-4933-6190-5250-56  muslim mob violence against hindus in banglade...   \n",
       "1  5678-4332-0338-1249-92  islamophobia is like the idea of naziphobia. i...   \n",
       "2  5646-0409-0752-0609-92  islam invaded and conquered 2/3 of christiando...   \n",
       "3  5633-6995-6734-0300-16  do you approve of your pedophile prophet rapin...   \n",
       "4  5669-8397-0571-5790-08  problem with vile muslims is that they try to ...   \n",
       "\n",
       "  Annotation  oh_label                                  users hashtags  \\\n",
       "0     racism       1.0                         @AAlwuhaib1977   #Islam   \n",
       "1     racism       1.0  @jncatron @isra_jourisra @AMPalestine      NaN   \n",
       "2     racism       1.0                         @HuffPostRelig      NaN   \n",
       "3     racism       1.0                               @semzyxx      NaN   \n",
       "4     racism       1.0               @watan71969 @geeky_zekey      NaN   \n",
       "\n",
       "                    links  \n",
       "0  http://t.co/C1JBWJwuRc  \n",
       "1                     NaN  \n",
       "2                     NaN  \n",
       "3                     NaN  \n",
       "4                     NaN  "
      ]
     },
     "execution_count": 3,
     "metadata": {},
     "output_type": "execute_result"
    }
   ],
   "source": [
    "twitter_data.head()"
   ]
  },
  {
   "cell_type": "code",
   "execution_count": 7,
   "id": "4ecfb195",
   "metadata": {},
   "outputs": [],
   "source": [
    "sia = SentimentIntensityAnalyzer()\n",
    "\n",
    "def get_sentiment_score(text):\n",
    "    if isinstance(text, str):  # Ensure the text is a string\n",
    "        return sia.polarity_scores(text)\n",
    "    else:\n",
    "        return {\"neg\": 0, \"neu\": 0, \"pos\": 0, \"compound\": 0}"
   ]
  },
  {
   "cell_type": "code",
   "execution_count": 8,
   "id": "1621c62d",
   "metadata": {},
   "outputs": [],
   "source": [
    "# Apply the function to the 'cleaned_text' column and store the result in a new column 'sentiment_score'\n",
    "twitter_data['sentiment_score'] = twitter_data['cleaned_text'].apply(lambda x: get_sentiment_score(x))"
   ]
  },
  {
   "cell_type": "code",
   "execution_count": 14,
   "id": "128d1804",
   "metadata": {},
   "outputs": [],
   "source": [
    "# Step 1: Extract the compound score from the sentiment_score dictionary\n",
    "twitter_data['compound'] = twitter_data['sentiment_score'].apply(lambda x: x['compound'])"
   ]
  },
  {
   "cell_type": "code",
   "execution_count": 15,
   "id": "00ef1191",
   "metadata": {},
   "outputs": [],
   "source": [
    "def categorize_sentiment(compound_score):\n",
    "    if compound_score > 0.1:\n",
    "        return 'Positive'\n",
    "    elif compound_score < -0.1:\n",
    "        return 'Negative'\n",
    "    else:\n",
    "        return 'Neutral'\n",
    "\n",
    "# Step 3: Apply categorization\n",
    "twitter_data['sentiment_category'] = twitter_data['compound'].apply(categorize_sentiment)"
   ]
  },
  {
   "cell_type": "code",
   "execution_count": 17,
   "id": "6fc4965a",
   "metadata": {},
   "outputs": [],
   "source": [
    "twitter_data['cleaned_text'] = twitter_data['cleaned_text'].str.replace(r'^rt\\s*:\\s*', '', case=False, regex=True)"
   ]
  },
  {
   "cell_type": "code",
   "execution_count": 18,
   "id": "5f953838",
   "metadata": {},
   "outputs": [],
   "source": [
    "twitter_data.to_csv('../cleaned/twitter_data_with_sentiment.csv', index=False)"
   ]
  },
  {
   "cell_type": "code",
   "execution_count": null,
   "id": "f800e44f",
   "metadata": {},
   "outputs": [],
   "source": []
  }
 ],
 "metadata": {
  "kernelspec": {
   "display_name": "base",
   "language": "python",
   "name": "python3"
  },
  "language_info": {
   "codemirror_mode": {
    "name": "ipython",
    "version": 3
   },
   "file_extension": ".py",
   "mimetype": "text/x-python",
   "name": "python",
   "nbconvert_exporter": "python",
   "pygments_lexer": "ipython3",
   "version": "3.12.4"
  }
 },
 "nbformat": 4,
 "nbformat_minor": 5
}
