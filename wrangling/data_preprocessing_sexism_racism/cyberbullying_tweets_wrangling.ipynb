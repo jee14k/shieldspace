{
 "cells": [
  {
   "cell_type": "code",
   "execution_count": 1,
   "id": "765cd637",
   "metadata": {},
   "outputs": [],
   "source": [
    "import pandas as pd\n",
    "import re\n",
    "import string"
   ]
  },
  {
   "cell_type": "code",
   "execution_count": 7,
   "id": "a5efca24",
   "metadata": {},
   "outputs": [],
   "source": [
    "tweets = pd.read_csv('../data/cyberbullying_tweets.csv')"
   ]
  },
  {
   "cell_type": "code",
   "execution_count": 8,
   "id": "67f38eba",
   "metadata": {},
   "outputs": [],
   "source": [
    "#Defining regex patterns for preprocessing\n",
    "URL_PATTERN   = re.compile(r\"https?://\\S+|www\\.\\S+\")\n",
    "MENTION_PAT   = re.compile(r\"@\\w+\")\n",
    "PUNCT_TABLE   = str.maketrans(\"\", \"\", string.punctuation)"
   ]
  },
  {
   "cell_type": "code",
   "execution_count": 9,
   "id": "4b239efc",
   "metadata": {},
   "outputs": [],
   "source": [
    "def clean(text: str) -> str:\n",
    "    text = URL_PATTERN.sub(\"\", text)          \n",
    "    text = MENTION_PAT.sub(\"\", text)         \n",
    "    text = text.translate(PUNCT_TABLE)        \n",
    "    return text.lower().strip()\n",
    "    \n",
    "tweets[\"cleaned_text\"] = tweets[\"tweet_text\"].astype(str).apply(clean)"
   ]
  },
  {
   "cell_type": "code",
   "execution_count": 10,
   "id": "3bcb06a4",
   "metadata": {},
   "outputs": [],
   "source": [
    "tweets.to_csv('../cleaned/cyberbullying_tweets_cleaned.csv', index=False)"
   ]
  },
  {
   "cell_type": "code",
   "execution_count": null,
   "id": "3ef26979",
   "metadata": {},
   "outputs": [],
   "source": []
  }
 ],
 "metadata": {
  "kernelspec": {
   "display_name": "base",
   "language": "python",
   "name": "python3"
  },
  "language_info": {
   "codemirror_mode": {
    "name": "ipython",
    "version": 3
   },
   "file_extension": ".py",
   "mimetype": "text/x-python",
   "name": "python",
   "nbconvert_exporter": "python",
   "pygments_lexer": "ipython3",
   "version": "3.12.4"
  }
 },
 "nbformat": 4,
 "nbformat_minor": 5
}
