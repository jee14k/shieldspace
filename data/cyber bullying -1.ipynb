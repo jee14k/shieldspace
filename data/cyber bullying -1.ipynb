{
 "cells": [
  {
   "cell_type": "markdown",
   "metadata": {},
   "source": [
    "<h1 style=\"color: #FF5733; font-size: 56px;\"> Cyber Bullying prevention</h1>"
   ]
  },
  {
   "cell_type": "markdown",
   "metadata": {},
   "source": [
    "<h1 style=\"color: pink; font-size: 36px;\">Digital Defender: Game Wrangling and Analysis File</h1>"
   ]
  },
  {
   "cell_type": "markdown",
   "metadata": {},
   "source": [
    "<h1 style=\"color: green; font-size: 19px;\"> Data details"
   ]
  },
  {
   "cell_type": "markdown",
   "metadata": {},
   "source": [
    "This script uses the os and pandas libraries to manage and process multiple CSV files stored in the same directory. It iterates over a list of CSV filenames, reads each file into a pandas DataFrame, and then prints essential details such as column names, data types, the shape of the DataFrame, and a preview of the first few rows. If a file can’t be read due to an error, the code prints an error message and continues with the next file, ensuring a clear separation between the outputs of each file. This setup provides a quick and efficient way to explore and understand the structure and content of your CSV data."
   ]
  },
  {
   "cell_type": "code",
   "execution_count": 8,
   "metadata": {},
   "outputs": [
    {
     "name": "stdout",
     "output_type": "stream",
     "text": [
      "=== Processing File: aggression_parsed_dataset.csv ===\n",
      "Column Names:\n",
      "['index', 'Text', 'ed_label_0', 'ed_label_1', 'oh_label']\n",
      "\n",
      "Data Types:\n",
      "index           int64\n",
      "Text           object\n",
      "ed_label_0    float64\n",
      "ed_label_1    float64\n",
      "oh_label        int64\n",
      "dtype: object\n",
      "\n",
      "Number of Rows: 115864\n",
      "Number of Columns: 5\n",
      "\n",
      "First 5 Rows:\n",
      "   index                                               Text  ed_label_0  \\\n",
      "0      0  `- This is not ``creative``.  Those are the di...    0.900000   \n",
      "1      1  `  :: the term ``standard model`` is itself le...    1.000000   \n",
      "2      2    True or false, the situation as of March 200...    1.000000   \n",
      "3      3   Next, maybe you could work on being less cond...    0.555556   \n",
      "4      4               This page will need disambiguation.     1.000000   \n",
      "\n",
      "   ed_label_1  oh_label  \n",
      "0    0.100000         0  \n",
      "1    0.000000         0  \n",
      "2    0.000000         0  \n",
      "3    0.444444         0  \n",
      "4    0.000000         0  \n",
      "\n",
      "------------------------------------------------------------\n",
      "\n",
      "=== Processing File: attack_parsed_dataset.csv ===\n",
      "Column Names:\n",
      "['index', 'Text', 'ed_label_0', 'ed_label_1', 'oh_label']\n",
      "\n",
      "Data Types:\n",
      "index           int64\n",
      "Text           object\n",
      "ed_label_0    float64\n",
      "ed_label_1    float64\n",
      "oh_label        int64\n",
      "dtype: object\n",
      "\n",
      "Number of Rows: 115864\n",
      "Number of Columns: 5\n",
      "\n",
      "First 5 Rows:\n",
      "   index                                               Text  ed_label_0  \\\n",
      "0      0  `- This is not ``creative``.  Those are the di...    1.000000   \n",
      "1      1  `  :: the term ``standard model`` is itself le...    1.000000   \n",
      "2      2    True or false, the situation as of March 200...    1.000000   \n",
      "3      3   Next, maybe you could work on being less cond...    0.555556   \n",
      "4      4               This page will need disambiguation.     1.000000   \n",
      "\n",
      "   ed_label_1  oh_label  \n",
      "0    0.000000         0  \n",
      "1    0.000000         0  \n",
      "2    0.000000         0  \n",
      "3    0.444444         0  \n",
      "4    0.000000         0  \n",
      "\n",
      "------------------------------------------------------------\n",
      "\n",
      "=== Processing File: Cyberbullying_Dataset_Summary_Table__Detailed_.csv ===\n",
      "Column Names:\n",
      "['Names', 'File Type', 'Link address', 'Description']\n",
      "\n",
      "Data Types:\n",
      "Names           object\n",
      "File Type       object\n",
      "Link address    object\n",
      "Description     object\n",
      "dtype: object\n",
      "\n",
      "Number of Rows: 8\n",
      "Number of Columns: 4\n",
      "\n",
      "First 5 Rows:\n",
      "                Names File Type           Link address  \\\n",
      "0  Aggression dataset       CSV  User uploaded locally   \n",
      "1      Attack dataset       CSV  User uploaded locally   \n",
      "2    Toxicity dataset       CSV  User uploaded locally   \n",
      "3      Kaggle dataset       CSV  User uploaded locally   \n",
      "4     Twitter dataset       CSV  User uploaded locally   \n",
      "\n",
      "                                         Description  \n",
      "0  Contains user-generated comments along with ma...  \n",
      "1  Similar to the aggression dataset, this file c...  \n",
      "2  This dataset is geared toward detecting toxic ...  \n",
      "3  A streamlined dataset from Kaggle containing t...  \n",
      "4  This dataset includes text messages with annot...  \n",
      "\n",
      "------------------------------------------------------------\n",
      "\n",
      "=== Processing File: kaggle_parsed_dataset.csv ===\n",
      "Column Names:\n",
      "['index', 'oh_label', 'Date', 'Text']\n",
      "\n",
      "Data Types:\n",
      "index        int64\n",
      "oh_label     int64\n",
      "Date        object\n",
      "Text        object\n",
      "dtype: object\n",
      "\n",
      "Number of Rows: 8799\n",
      "Number of Columns: 4\n",
      "\n",
      "First 5 Rows:\n",
      "   index  oh_label             Date  \\\n",
      "0      0         1  20120618192155Z   \n",
      "1      1         0  20120528192215Z   \n",
      "2      2         0              NaN   \n",
      "3      3         0              NaN   \n",
      "4      4         0  20120619094753Z   \n",
      "\n",
      "                                                Text  \n",
      "0                               \"You fuck your dad.\"  \n",
      "1  \"i really don't understand your point.\\xa0 It ...  \n",
      "2  \"A\\\\xc2\\\\xa0majority of Canadians can and has ...  \n",
      "3  \"listen if you dont wanna get married to a man...  \n",
      "4  \"C\\xe1c b\\u1ea1n xu\\u1ed1ng \\u0111\\u01b0\\u1edd...  \n",
      "\n",
      "------------------------------------------------------------\n",
      "\n",
      "=== Processing File: twitter_sexism_parsed_dataset.csv ===\n",
      "Column Names:\n",
      "['index', 'id', 'Text', 'Annotation', 'oh_label']\n",
      "\n",
      "Data Types:\n",
      "index          object\n",
      "id             object\n",
      "Text           object\n",
      "Annotation     object\n",
      "oh_label      float64\n",
      "dtype: object\n",
      "\n",
      "Number of Rows: 14881\n",
      "Number of Columns: 5\n",
      "\n",
      "First 5 Rows:\n",
      "                   index                     id  \\\n",
      "0  5.35198627292254E+017  5.35198627292254E+017   \n",
      "1  5.75984924030714E+017  5.75984924030714E+017   \n",
      "2   5.7233536016588E+017   5.7233536016588E+017   \n",
      "3  5.72337925708374E+017  5.72337925708374E+017   \n",
      "4  4.43033024528011E+017  4.43033024528011E+017   \n",
      "\n",
      "                                                Text Annotation  oh_label  \n",
      "0  RT @BeepsS: @senna1 @BeepsS: I'm not sexist bu...     sexism       1.0  \n",
      "1   There's some very hate able teams this year #MKR       none       0.0  \n",
      "2  RT @The_Eccles: \"Everyone underestimated us\" \\...       none       0.0  \n",
      "3  RT @NOTLukeDarcy: did @Channel7 or #MKR actual...       none       0.0  \n",
      "4  No, you don't. @Shut_Up_Jeff: I thought of a r...     sexism       1.0  \n",
      "\n",
      "------------------------------------------------------------\n",
      "\n",
      "=== Processing File: twitter_racism_parsed_dataset.csv ===\n",
      "Column Names:\n",
      "['index', 'id', 'Text', 'Annotation', 'oh_label']\n",
      "\n",
      "Data Types:\n",
      "index         float64\n",
      "id            float64\n",
      "Text           object\n",
      "Annotation     object\n",
      "oh_label        int64\n",
      "dtype: object\n",
      "\n",
      "Number of Rows: 13471\n",
      "Number of Columns: 5\n",
      "\n",
      "First 5 Rows:\n",
      "          index            id  \\\n",
      "0  5.767493e+17  5.767493e+17   \n",
      "1  5.408905e+17  5.408905e+17   \n",
      "2  5.678433e+17  5.678433e+17   \n",
      "3  5.766462e+17  5.766462e+17   \n",
      "4  5.713492e+17  5.713492e+17   \n",
      "\n",
      "                                                Text Annotation  oh_label  \n",
      "0  @AAlwuhaib1977 Muslim mob violence against Hin...     racism         1  \n",
      "1             @Te4m_NiGhtM4Re http://t.co/5Ih7MkDbQG       none         0  \n",
      "2  @jncatron @isra_jourisra @AMPalestine Islamoph...     racism         1  \n",
      "3  Finally I'm all caught up, and that sudden dea...       none         0  \n",
      "4             @carolinesinders @herecomesfran *hugs*       none         0  \n",
      "\n",
      "------------------------------------------------------------\n",
      "\n",
      "=== Processing File: twitter_parsed_dataset.csv ===\n",
      "Column Names:\n",
      "['index', 'id', 'Text', 'Annotation', 'oh_label']\n",
      "\n",
      "Data Types:\n",
      "index          object\n",
      "id             object\n",
      "Text           object\n",
      "Annotation     object\n",
      "oh_label      float64\n",
      "dtype: object\n",
      "\n",
      "Number of Rows: 16851\n",
      "Number of Columns: 5\n",
      "\n",
      "First 5 Rows:\n",
      "                   index                     id  \\\n",
      "0  5.74948705591165E+017  5.74948705591165E+017   \n",
      "1  5.71917888690393E+017  5.71917888690393E+017   \n",
      "2  3.90255841338601E+017  3.90255841338601E+017   \n",
      "3  5.68208850655916E+017  5.68208850655916E+017   \n",
      "4  5.75596338802373E+017  5.75596338802373E+017   \n",
      "\n",
      "                                                Text Annotation  oh_label  \n",
      "0  @halalflaws @biebervalue @greenlinerzjm I read...       none       0.0  \n",
      "1  @ShreyaBafna3 Now you idiots claim that people...       none       0.0  \n",
      "2  RT @Mooseoftorment Call me sexist, but when I ...     sexism       1.0  \n",
      "3  @g0ssipsquirrelx Wrong, ISIS follows the examp...     racism       1.0  \n",
      "4                             #mkr No No No No No No       none       0.0  \n",
      "\n",
      "------------------------------------------------------------\n",
      "\n",
      "=== Processing File: toxicity_parsed_dataset.csv ===\n",
      "Column Names:\n",
      "['index', 'Text', 'ed_label_0', 'ed_label_1', 'oh_label']\n",
      "\n",
      "Data Types:\n",
      "index           int64\n",
      "Text           object\n",
      "ed_label_0    float64\n",
      "ed_label_1    float64\n",
      "oh_label        int64\n",
      "dtype: object\n",
      "\n",
      "Number of Rows: 159686\n",
      "Number of Columns: 5\n",
      "\n",
      "First 5 Rows:\n",
      "   index                                               Text  ed_label_0  \\\n",
      "0      0  This: :One can make an analogy in mathematical...         0.9   \n",
      "1      1  `  :Clarification for you  (and Zundark's righ...         1.0   \n",
      "2      2                          Elected or Electoral? JHK         1.0   \n",
      "3      3  `This is such a fun entry.   Devotchka  I once...         1.0   \n",
      "4      4  Please relate the ozone hole to increases in c...         0.8   \n",
      "\n",
      "   ed_label_1  oh_label  \n",
      "0         0.1         0  \n",
      "1         0.0         0  \n",
      "2         0.0         0  \n",
      "3         0.0         0  \n",
      "4         0.2         0  \n",
      "\n",
      "------------------------------------------------------------\n",
      "\n",
      "=== Processing File: youtube_parsed_dataset.csv ===\n",
      "Column Names:\n",
      "['index', 'UserIndex', 'Text', 'Number of Comments', 'Number of Subscribers', 'Membership Duration', 'Number of Uploads', 'Profanity in UserID', 'Age', 'oh_label']\n",
      "\n",
      "Data Types:\n",
      "index                     int64\n",
      "UserIndex                object\n",
      "Text                     object\n",
      "Number of Comments        int64\n",
      "Number of Subscribers     int64\n",
      "Membership Duration       int64\n",
      "Number of Uploads         int64\n",
      "Profanity in UserID       int64\n",
      "Age                       int64\n",
      "oh_label                  int64\n",
      "dtype: object\n",
      "\n",
      "Number of Rows: 3464\n",
      "Number of Columns: 10\n",
      "\n",
      "First 5 Rows:\n",
      "   index UserIndex                                               Text  \\\n",
      "0      0        X1  Does N.e.bodyelse Hear her Crazy ass Screamin ...   \n",
      "1      1        X2  There are so many things that are incorrect wi...   \n",
      "2      2        X3  3:26 hahah my boyfriend showed this song to me...   \n",
      "3      3     X2218  dick beyonce fuck y a ass hole you are truely ...   \n",
      "4      4        X5  DongHaeTaemin and Kai ;A; luhansehun and bacon...   \n",
      "\n",
      "   Number of Comments  Number of Subscribers  Membership Duration  \\\n",
      "0                  10                      1                    3   \n",
      "1                   3                      0                    6   \n",
      "2                   7                      0                    3   \n",
      "3                  34                      0                    3   \n",
      "4                  11                    173                    5   \n",
      "\n",
      "   Number of Uploads  Profanity in UserID  Age  oh_label  \n",
      "0                  3                    0   15         0  \n",
      "1                  5                    0   31         0  \n",
      "2                  5                    0   43         1  \n",
      "3                  5                    0   44         1  \n",
      "4                  5                    0   21         0  \n",
      "\n",
      "------------------------------------------------------------\n",
      "\n",
      "=== Processing File: Aggressive_All.csv ===\n",
      "Column Names:\n",
      "['No.', 'Message']\n",
      "\n",
      "Data Types:\n",
      "No.         int64\n",
      "Message    object\n",
      "dtype: object\n",
      "\n",
      "Number of Rows: 118828\n",
      "Number of Columns: 2\n",
      "\n",
      "First 5 Rows:\n",
      "   No.                                            Message\n",
      "0    1  zhha Islam does nothing but freeze the status ...\n",
      "1    2                       You dont get out much do you\n",
      "2    3  MaxBlumenthal Campagnebds Blumenthal self prom...\n",
      "3    4  No silly it isnt ITS UR MOMS and might I say q...\n",
      "4    5  Yes there is even more rape in Muslim countrie...\n",
      "\n",
      "------------------------------------------------------------\n",
      "\n",
      "=== Processing File: Non_Aggressive_All.csv ===\n",
      "Column Names:\n",
      "['No.', 'Message']\n",
      "\n",
      "Data Types:\n",
      "No.         int64\n",
      "Message    object\n",
      "dtype: object\n",
      "\n",
      "Number of Rows: 118828\n",
      "Number of Columns: 2\n",
      "\n",
      "First 5 Rows:\n",
      "   No.                                            Message\n",
      "0    1  Libya casualty report French operations   You ...\n",
      "1    2  Just for the record that IP is blocked for  ho...\n",
      "2    3  Big Brother Australia   I see you have partial...\n",
      "3    4  WikipediaFeatured portal candidatesPortalOrgan...\n",
      "4    5  wiki cant edit   could you make Thai airways s...\n",
      "\n",
      "------------------------------------------------------------\n",
      "\n"
     ]
    }
   ],
   "source": [
    "import os\n",
    "import pandas as pd\n",
    "\n",
    "# List of CSV file names present in the folder.\n",
    "csv_file_list = [\n",
    "    \"aggression_parsed_dataset.csv\",\n",
    "    \"attack_parsed_dataset.csv\",\n",
    "    \"Cyberbullying_Dataset_Summary_Table__Detailed_.csv\",\n",
    "    \"kaggle_parsed_dataset.csv\",\n",
    "    \"twitter_sexism_parsed_dataset.csv\",\n",
    "    \"twitter_racism_parsed_dataset.csv\",\n",
    "    \"twitter_parsed_dataset.csv\",\n",
    "    \"toxicity_parsed_dataset.csv\",\n",
    "    \"youtube_parsed_dataset.csv\",\n",
    "    \"Aggressive_All.csv\",\n",
    "    \"Non_Aggressive_All.csv\"\n",
    "\n",
    "]\n",
    "\n",
    "# Loop through each CSV file in the list.\n",
    "for file_name in csv_file_list:\n",
    "    # Since the CSV files are in the same folder as the notebook,\n",
    "    # the file path is simply the file name.\n",
    "    file_path = os.path.join(file_name)\n",
    "    \n",
    "    # Print header for current file processing.\n",
    "    print(f\"=== Processing File: {file_name} ===\")\n",
    "    \n",
    "    # Try to read the CSV file into a pandas DataFrame.\n",
    "    try:\n",
    "        data_frame = pd.read_csv(file_path)\n",
    "    except Exception as error:\n",
    "        print(f\"Error reading {file_name}: {error}\")\n",
    "        print(\"-\" * 60 + \"\\n\")\n",
    "        continue  # Skip to the next file if an error occurs.\n",
    "    \n",
    "    # Display the column names of the DataFrame.\n",
    "    print(\"Column Names:\")\n",
    "    print(data_frame.columns.tolist())\n",
    "    \n",
    "    # Display the data types of each column.\n",
    "    print(\"\\nData Types:\")\n",
    "    print(data_frame.dtypes)\n",
    "    \n",
    "    # Display the number of rows and columns in the DataFrame.\n",
    "    num_rows, num_columns = data_frame.shape\n",
    "    print(f\"\\nNumber of Rows: {num_rows}\")\n",
    "    print(f\"Number of Columns: {num_columns}\")\n",
    "    \n",
    "    # Display the first 5 rows of the DataFrame as a preview.\n",
    "    print(\"\\nFirst 5 Rows:\")\n",
    "    print(data_frame.head())\n",
    "    \n",
    "    # Print a separator line after processing each file.\n",
    "    print(\"\\n\" + \"-\" * 60 + \"\\n\")"
   ]
  },
  {
   "cell_type": "markdown",
   "metadata": {},
   "source": [
    "<h1 style=\"color: green; font-size: 19px;\"> Data wrangling"
   ]
  },
  {
   "cell_type": "markdown",
   "metadata": {},
   "source": [
    "The script begins by loading the CSV file into a DataFrame, which serves as the initial dataset. It then checks for duplicate rows by counting and printing their number, and subsequently removes any duplicates found. In addition, the script identifies rows that are entirely empty—meaning all values are missing—counts and prints these empty rows, and removes them from the DataFrame. Finally, it saves the cleaned DataFrame to a new CSV file, ensuring that all modifications are preserved."
   ]
  },
  {
   "cell_type": "code",
   "execution_count": null,
   "metadata": {},
   "outputs": [],
   "source": [
    "import pandas as pd\n",
    "\n",
    "# Specify the file name (update with your file name)\n",
    "file_name = 'your_file.csv' #put the file we want to check \n",
    "\n",
    "# Load the CSV file into a DataFrame\n",
    "df = pd.read_csv(file_name)\n",
    "\n",
    "# Check for duplicate rows\n",
    "num_duplicates = df.duplicated().sum()\n",
    "print(f\"Found {num_duplicates} duplicate rows.\")\n",
    "\n",
    "# Remove duplicate rows, if any\n",
    "if num_duplicates > 0:\n",
    "    df = df.drop_duplicates()\n",
    "    print(\"Duplicate rows have been removed.\")\n",
    "\n",
    "# Check for empty rows (rows where all cells are NaN)\n",
    "num_empty_rows = df.isnull().all(axis=1).sum()\n",
    "print(f\"Found {num_empty_rows} empty rows.\")\n",
    "\n",
    "# Remove empty rows, if any\n",
    "if num_empty_rows > 0:\n",
    "    df = df.dropna(how='all')\n",
    "    print(\"Empty rows have been removed.\")\n",
    "\n",
    "# Save the cleaned DataFrame to a new CSV file\n",
    "clean_file_name = 'your_file_cleaned.csv'# \n",
    "df.to_csv(clean_file_name, index=False)\n",
    "print(f\"Cleaned data has been saved to {clean_file_name}.\")"
   ]
  },
  {
   "cell_type": "code",
   "execution_count": null,
   "metadata": {},
   "outputs": [],
   "source": [
    "import pandas as pd\n",
    "import os\n",
    "\n",
    "# --------------------- Helper Function ---------------------\n",
    "def clean_text(text):\n",
    "    \"\"\"Cleans input text by lowercasing it and removing extra whitespace.\"\"\"\n",
    "    if pd.isnull(text):\n",
    "        return \"\"\n",
    "    text = str(text).lower()          # Convert to lowercase\n",
    "    text = \" \".join(text.split())     # Remove extra spaces/newlines\n",
    "    return text\n",
    "\n",
    "# --------------------- File & Column Mapping ---------------------\n",
    "# Dictionary mapping each file name to the list of text columns to clean.\n",
    "file_info = {\n",
    "    \"aggression_parsed_dataset.csv\": [\"Text\"],\n",
    "    \"attack_parsed_dataset.csv\": [\"Text\"],\n",
    "    \"toxicity_parsed_dataset.csv\": [\"Text\"],\n",
    "    \"Aggressive_All.csv\": [\"Message\"],\n",
    "    \"Non_Aggressive_All.csv\": [\"Message\"]\n",
    "}\n",
    "\n",
    "# --------------------- Processing Each File ---------------------\n",
    "for file_name, text_columns in file_info.items():\n",
    "    if os.path.exists(file_name):\n",
    "        print(f\"Processing file: {file_name}\")\n",
    "        df = pd.read_csv(file_name)\n",
    "        \n",
    "        # Process each text column specified for this file\n",
    "        for col in text_columns:\n",
    "            if col in df.columns:\n",
    "                # Remove rows where the column is missing or empty\n",
    "                df = df[~(df[col].isnull() | (df[col].astype(str).str.strip() == \"\"))]\n",
    "                # Clean the column\n",
    "                df[col] = df[col].apply(clean_text)\n",
    "            else:\n",
    "                print(f\"Warning: Column '{col}' not found in {file_name}\")\n",
    "\n",
    "        # Save the cleaned DataFrame to a new CSV file\n",
    "        new_file_name = file_name.replace(\".csv\", \"\") + \"_cleaned.csv\"\n",
    "        df.to_csv(new_file_name, index=False, encoding=\"utf-8\")\n",
    "        print(f\"Saved cleaned file: {new_file_name}\\n\")\n",
    "    else:\n",
    "        print(f\"File {file_name} does not exist.\\n\")\n"
   ]
  },
  {
   "cell_type": "markdown",
   "metadata": {},
   "source": [
    "Statistical analysis"
   ]
  },
  {
   "cell_type": "code",
   "execution_count": null,
   "metadata": {},
   "outputs": [],
   "source": [
    "import pandas as pd\n",
    "import scipy.stats as stats\n",
    "import matplotlib.pyplot as plt\n",
    "import seaborn as sns\n",
    "\n",
    "# --------------------- Aggression, Attack, and Toxicity Datasets ---------------------\n",
    "# Load the CSV files\n",
    "df_aggression = pd.read_csv(\"aggression_parsed_dataset.csv\")\n",
    "df_attack = pd.read_csv(\"attack_parsed_dataset.csv\")\n",
    "df_toxicity = pd.read_csv(\"toxicity_parsed_dataset.csv\")\n",
    "\n",
    "# For these datasets, we use the \"ed_label_0\" column (ensure it is numeric)\n",
    "df_aggression[\"ed_label_0\"] = pd.to_numeric(df_aggression[\"ed_label_0\"], errors='coerce')\n",
    "df_attack[\"ed_label_0\"]     = pd.to_numeric(df_attack[\"ed_label_0\"], errors='coerce')\n",
    "df_toxicity[\"ed_label_0\"]   = pd.to_numeric(df_toxicity[\"ed_label_0\"], errors='coerce')\n",
    "\n",
    "# Remove any missing values from ed_label_0\n",
    "group_aggression = df_aggression[\"ed_label_0\"].dropna()\n",
    "group_attack     = df_attack[\"ed_label_0\"].dropna()\n",
    "group_toxicity   = df_toxicity[\"ed_label_0\"].dropna()\n",
    "\n",
    "# Print descriptive statistics\n",
    "print(\"Descriptive Statistics for 'ed_label_0':\\n\")\n",
    "print(\"Aggression Dataset:\")\n",
    "print(group_aggression.describe())\n",
    "print(\"\\nAttack Dataset:\")\n",
    "print(group_attack.describe())\n",
    "print(\"\\nToxicity Dataset:\")\n",
    "print(group_toxicity.describe())\n",
    "\n",
    "# --------------------- One-Way ANOVA Test ---------------------\n",
    "f_stat, p_val = stats.f_oneway(group_aggression, group_attack, group_toxicity)\n",
    "print(\"\\nOne-Way ANOVA Results on 'ed_label_0':\")\n",
    "print(f\"  F-statistic = {f_stat:.3f}\")\n",
    "print(f\"  p-value = {p_val:.3f}\")\n",
    "\n",
    "# --------------------- Boxplot Visualization ---------------------\n",
    "# Combine the three groups in a single DataFrame for plotting\n",
    "data = pd.concat([group_aggression, group_attack, group_toxicity], axis=0)\n",
    "group_labels = ([\"Aggression\"] * len(group_aggression)) + \\\n",
    "               ([\"Attack\"] * len(group_attack)) + \\\n",
    "               ([\"Toxicity\"] * len(group_toxicity))\n",
    "df_plot = pd.DataFrame({\"ed_label_0\": data, \"Dataset\": group_labels})\n",
    "\n",
    "plt.figure(figsize=(8, 6))\n",
    "sns.boxplot(x=\"Dataset\", y=\"ed_label_0\", data=df_plot, palette=\"Set2\")\n",
    "plt.title(\"Distribution of 'ed_label_0' Across Datasets\")\n",
    "plt.xlabel(\"Dataset\")\n",
    "plt.ylabel(\"ed_label_0\")\n",
    "plt.show()\n",
    "\n",
    "\n",
    "\n",
    "# --------------------- YouTube Parsed Dataset ---------------------\n",
    "df_youtube = pd.read_csv(\"youtube_parsed_dataset.csv\")\n",
    "print(\"\\n=== YouTube Parsed Dataset ===\")\n",
    "print(\"Column Names:\", df_youtube.columns.tolist())\n",
    "\n",
    "# For example, examine descriptive statistics for 'Age'\n",
    "df_youtube[\"Age\"] = pd.to_numeric(df_youtube[\"Age\"], errors='coerce')\n",
    "print(\"Descriptive Statistics for 'Age':\")\n",
    "print(df_youtube[\"Age\"].describe())\n",
    "\n",
    "# And examine correlation between 'Age' and 'Number of Comments'\n",
    "df_youtube[\"Number of Comments\"] = pd.to_numeric(df_youtube[\"Number of Comments\"], errors='coerce')\n",
    "corr, p_val_corr = stats.pearsonr(df_youtube[\"Age\"].dropna(), df_youtube[\"Number of Comments\"].dropna())\n",
    "print(\"\\nPearson Correlation between Age and Number of Comments:\")\n",
    "print(f\"  Correlation = {corr:.3f}\")\n",
    "print(f\"  p-value = {p_val_corr:.3f}\")\n",
    "\n",
    "# Optional: Scatter plot of Age vs. Number of Comments\n",
    "plt.figure(figsize=(8, 6))\n",
    "sns.scatterplot(x=\"Age\", y=\"Number of Comments\", data=df_youtube, alpha=0.7)\n",
    "plt.title(\"Scatter Plot: Age vs. Number of Comments\")\n",
    "plt.xlabel(\"Age\")\n",
    "plt.ylabel(\"Number of Comments\")\n",
    "plt.show()\n"
   ]
  },
  {
   "cell_type": "code",
   "execution_count": null,
   "metadata": {},
   "outputs": [],
   "source": [
    "import pandas as pd\n",
    "from scipy.stats import chisquare\n",
    "\n",
    "# Load the CB Multi-Labeled Balanced Dataset\n",
    "df_cb = pd.read_csv(\"cb_multi_labeled_balanced.csv\")\n",
    "\n",
    "print(\"=== CB Multi-Labeled Balanced Dataset ===\")\n",
    "print(\"Column Names:\", df_cb.columns.tolist())\n",
    "print(\"Descriptive Statistics (Label counts):\")\n",
    "print(df_cb[\"label\"].value_counts())\n",
    "\n",
    "# Create the contingency counts: observed frequencies for each label.\n",
    "observed = df_cb[\"label\"].value_counts().sort_index()\n",
    "# For a goodness-of-fit test, we assume a uniform distribution:\n",
    "expected = [observed.sum() / len(observed)] * len(observed)\n",
    "\n",
    "# Perform chi-square goodness-of-fit test\n",
    "chi2, p_val = chisquare(f_obs=observed, f_exp=expected)\n",
    "print(\"\\nChi-Square Goodness-of-Fit Test for 'label':\")\n",
    "print(f\"  Chi-square Statistic = {chi2:.3f}\")\n",
    "print(f\"  p-value = {p_val:.3f}\")\n"
   ]
  },
  {
   "cell_type": "markdown",
   "metadata": {},
   "source": [
    "<h1 style=\"color: #FF5733; font-size: 19px;\">Natural language processing  and analysis in file "
   ]
  },
  {
   "cell_type": "markdown",
   "metadata": {},
   "source": [
    "Overview of the Process\n",
    "\n",
    "In our pipeline, we began by loading and preprocessing a cleaned CSV file containing messages. We removed any rows with empty messages and standardized the text by converting it to lowercase and stripping extra whitespace. This ensured that our subsequent analysis was performed on a consistent and high-quality dataset.\n",
    "\n",
    "Emotion Analysis Approaches\n",
    "\n",
    "We employed two distinct emotion analysis methods. First, we used a lexicon-based approach with NRCLex. NRCLex utilizes the NRC Emotion Lexicon, which maps words to basic emotions such as anger, fear, joy, sadness, and disgust. By analyzing the frequency of these emotion-related words in a message, NRCLex returns a list of top emotions with their associated scores. This method is fast and interpretable, providing a straightforward snapshot of the emotional cues in the text.\n",
    "\n",
    "In addition, we applied a transformer-based approach using a pretrained model, specifically “bhadresh-savani/distilbert-base-uncased-emotion”. This model is a distilled version of BERT that has been fine-tuned for emotion classification. It predicts multiple emotion categories—such as anger, joy, sadness, fear, love, and surprise—by returning a probability distribution over these labels for each message. We chose this model because DistilBERT is lighter and faster than the full BERT model while maintaining strong performance, and because it offers a detailed, probability-based classification that can capture nuanced emotional content.\n",
    "\n",
    "Creating the Trigger Column\n",
    "\n",
    "After obtaining the transformer-based emotion predictions, we created an additional column labeled “trigger.” This column identifies the dominant emotion for each message by selecting the emotion with the highest probability from the transformer’s output. This trigger word serves as an immediate indicator of the primary emotional signal in a message, which can be very useful for further analysis or for developing interactive tools such as quizzes aimed at cyber bullying prevention.\n",
    "\n",
    "Saving the Results\n",
    "\n",
    "Finally, the enriched DataFrame—now containing the original messages, NRCLex emotion outputs, transformer-based emotion probabilities, and the trigger column—is saved in both CSV and JSON formats. The CSV file offers ease of use for further data manipulation or viewing in spreadsheet applications, while the JSON format is ideal for integration with web-based applications and interactive educational tools.\n",
    "\n",
    "By combining these methods, we achieve a comprehensive understanding of the emotional content in each message, enabling more informed analysis and effective strategies for cyber bullying prevention and educational initiatives."
   ]
  },
  {
   "cell_type": "code",
   "execution_count": null,
   "metadata": {},
   "outputs": [],
   "source": [
    "import pandas as pd\n",
    "import nltk\n",
    "from nrclex import NRCLex\n",
    "from transformers import pipeline\n",
    "import textwrap\n",
    "import torch\n",
    "import os\n",
    "import multiprocessing as mp\n",
    "import logging\n",
    "\n",
    "# Set logging level for transformers to suppress informational messages\n",
    "logging.getLogger(\"transformers\").setLevel(logging.ERROR)\n",
    "\n",
    "# Verify PyTorch installation\n",
    "print(\"Installed PyTorch version:\", torch.__version__)\n",
    "print(\"Number of GPUs available:\", torch.cuda.device_count())\n",
    "\n",
    "# Download necessary NLTK data (if needed)\n",
    "nltk.download('vader_lexicon')\n",
    "\n",
    "# ------------------- Load and Preprocess Data -------------------\n",
    "file_name = \"Aggressive_All_cleaned.csv\"\n",
    "df = pd.read_csv(file_name)\n",
    "print(\"Columns in dataset:\", df.columns.tolist())\n",
    "\n",
    "# Remove rows where 'Message' is missing or empty\n",
    "df = df[~(df['Message'].isnull() | (df['Message'].astype(str).str.strip() == \"\"))]\n",
    "print(\"Number of rows after cleaning empty messages:\", len(df))\n",
    "\n",
    "# Standardize messages: convert to lowercase and strip extra whitespace\n",
    "df['Message'] = df['Message'].astype(str).str.lower().str.strip()\n",
    "\n",
    "# ------------------- Define Emotion Analysis Functions -------------------\n",
    "\n",
    "def get_nrc_emotions(text):\n",
    "    \"\"\"\n",
    "    Uses NRCLex to analyze the text and returns the top emotions as a list of (emotion, score) tuples.\n",
    "    \"\"\"\n",
    "    emotion_obj = NRCLex(text)\n",
    "    return emotion_obj.top_emotions\n",
    "\n",
    "def convert_transformer_results(results):\n",
    "    \"\"\"Convert a list of dictionaries to a single dictionary mapping emotion labels to scores.\"\"\"\n",
    "    return {item['label']: item['score'] for item in results}\n",
    "\n",
    "def process_batch(batch):\n",
    "    \"\"\"\n",
    "    Processes a batch of messages using the transformer pipeline.\n",
    "    Each process initializes its own pipeline instance.\n",
    "    \"\"\"\n",
    "    # Initialize the pipeline inside each process using CPU (change device=0 if using GPU)\n",
    "    emotion_classifier = pipeline(\n",
    "        \"text-classification\", \n",
    "        model=\"bhadresh-savani/distilbert-base-uncased-emotion\", \n",
    "        framework=\"pt\",        # explicitly use PyTorch\n",
    "        device=-1,             # use CPU; change to device=0 if GPU is available\n",
    "        top_k=None,            # equivalent to return_all_scores=True\n",
    "        truncation=True        # truncate texts longer than model's max length\n",
    "    )\n",
    "    results = emotion_classifier(batch)\n",
    "    # Convert each result (a list of dictionaries) into a single dictionary\n",
    "    processed = [convert_transformer_results(result) for result in results]\n",
    "    return processed\n",
    "\n",
    "# ------------------- Parallel Processing for Transformer Emotions -------------------\n",
    "def main():\n",
    "    # For faster experimentation, you can sample a subset (remove or adjust sampling as needed)\n",
    "    sample_size = 5000  # change or remove to process full dataset\n",
    "    df_sample = df.sample(n=sample_size, random_state=42)\n",
    "    messages = df_sample['Message'].tolist()\n",
    "    \n",
    "    batch_size = 32  # adjust based on your hardware\n",
    "    batches = [messages[i:i+batch_size] for i in range(0, len(messages), batch_size)]\n",
    "    \n",
    "    print(f\"Total messages in sample: {len(messages)}\")\n",
    "    print(f\"Total batches (batch size={batch_size}): {len(batches)}\")\n",
    "    \n",
    "    # Use multiprocessing Pool to process batches in parallel\n",
    "    with mp.Pool(mp.cpu_count()) as pool:\n",
    "        transformer_results = pool.map(process_batch, batches)\n",
    "    \n",
    "    # Flatten the list of lists into a single list for each message's transformer predictions\n",
    "    transformer_emotions = [item for sublist in transformer_results for item in sublist]\n",
    "    df_sample['transformer_emotions'] = transformer_emotions\n",
    "    \n",
    "    # Process NRCLex emotions (this step remains sequential)\n",
    "    print(\"Processing NRCLex emotions...\")\n",
    "    df_sample['nrc_emotions'] = df_sample['Message'].apply(get_nrc_emotions)\n",
    "    \n",
    "    # ------------------- Add 'trigger' Column -------------------\n",
    "    # For each row, pick the emotion from transformer_emotions with the highest probability.\n",
    "    df_sample['trigger'] = df_sample['transformer_emotions'].apply(\n",
    "        lambda x: max(x, key=x.get) if isinstance(x, dict) and len(x) > 0 else None\n",
    "    )\n",
    "    \n",
    "    # ------------------- Display Sample Results -------------------\n",
    "    print(\"\\n=== Sample Data with Emotion Predictions and Trigger Word ===\")\n",
    "    sample_display = df_sample[['Message', 'nrc_emotions', 'transformer_emotions', 'trigger']].head(5)\n",
    "    for idx, row in sample_display.iterrows():\n",
    "        print(\"-\" * 80)\n",
    "        print(\"Message:\")\n",
    "        print(textwrap.fill(row['Message'], width=80))\n",
    "        print(\"\\nNRCLex Top Emotions:\")\n",
    "        print(row['nrc_emotions'])\n",
    "        print(\"\\nTransformer-Based Emotions:\")\n",
    "        print(row['transformer_emotions'])\n",
    "        print(\"\\nTrigger Emotion (Highest Probability):\")\n",
    "        print(row['trigger'])\n",
    "        print(\"-\" * 80 + \"\\n\")\n",
    "    \n",
    "    # ------------------- Save the Updated DataFrame -------------------\n",
    "    csv_output = \"Aggressive_All_with_trigger.csv\"\n",
    "    json_output = \"Aggressive_All_with_trigger.json\"\n",
    "    \n",
    "    df_sample.to_csv(csv_output, index=False)\n",
    "    df_sample.to_json(json_output, orient='records', lines=True)\n",
    "    \n",
    "    print(\"CSV file saved as:\", csv_output)\n",
    "    print(\"JSON file saved as:\", json_output)\n",
    "\n",
    "if __name__ == \"__main__\":\n",
    "    main()"
   ]
  },
  {
   "cell_type": "markdown",
   "metadata": {},
   "source": [
    "In case nltk verifiactions are failed u can use this code to bypass it "
   ]
  },
  {
   "cell_type": "code",
   "execution_count": 5,
   "metadata": {},
   "outputs": [],
   "source": [
    "# TEMPORARY: bypass SSL error (if it still exists)\n",
    "import nltk\n",
    "import ssl\n",
    "\n",
    "# TEMPORARY: bypass SSL error (if it still exists)\n",
    "ssl._create_default_https_context = ssl._create_unverified_context"
   ]
  },
  {
   "cell_type": "markdown",
   "metadata": {},
   "source": [
    "1. Toxicity Detection Model Training (Using Toxic-BERT)\n",
    "This script uses data from \"attack_parsed_dataset.csv\" and \"toxicity_parsed_dataset.csv\".\n",
    "our CSV files have a text column named \"Text\" and a toxicity label column (\"oh_label\", with 0 for non‑toxic and 1 for toxic)."
   ]
  },
  {
   "cell_type": "code",
   "execution_count": null,
   "metadata": {},
   "outputs": [],
   "source": [
    "import pandas as pd\n",
    "from datasets import Dataset, DatasetDict\n",
    "from transformers import AutoTokenizer, AutoModelForSequenceClassification, TrainingArguments, Trainer\n",
    "import numpy as np\n",
    "import evaluate\n",
    "\n",
    "# --------------------- Load & Prepare Data ---------------------\n",
    "# Load your toxicity datasets\n",
    "df_attack = pd.read_csv(\"attack_parsed_dataset.csv\")\n",
    "df_toxicity = pd.read_csv(\"toxicity_parsed_dataset.csv\")\n",
    "\n",
    "# Ensure that the label is integer (0 or 1)\n",
    "df_attack[\"oh_label\"] = df_attack[\"oh_label\"].astype(int)\n",
    "df_toxicity[\"oh_label\"] = df_toxicity[\"oh_label\"].astype(int)\n",
    "\n",
    "# Combine the datasets\n",
    "df_combined = pd.concat([df_attack, df_toxicity], ignore_index=True)\n",
    "\n",
    "# Remove rows where \"Text\" is missing or empty, and clean the text.\n",
    "df_combined = df_combined[df_combined[\"Text\"].notnull()].copy()\n",
    "df_combined[\"Text\"] = df_combined[\"Text\"].astype(str).str.lower().str.strip()\n",
    "\n",
    "# Keep only the columns \"Text\" and \"oh_label\"\n",
    "df_combined = df_combined[[\"Text\", \"oh_label\"]]\n",
    "\n",
    "# Convert to Hugging Face Dataset and split\n",
    "dataset = Dataset.from_pandas(df_combined)\n",
    "dataset = dataset.train_test_split(test_size=0.2)\n",
    "dataset_dict = DatasetDict({\n",
    "    \"train\": dataset[\"train\"],\n",
    "    \"validation\": dataset[\"test\"]\n",
    "})\n",
    "\n",
    "# --------------------- Tokenization ---------------------\n",
    "model_checkpoint = \"unitary/toxic-bert\"\n",
    "tokenizer = AutoTokenizer.from_pretrained(model_checkpoint)\n",
    "\n",
    "def tokenize_function(examples):\n",
    "    return tokenizer(examples[\"Text\"], padding=\"max_length\", truncation=True, max_length=128)\n",
    "\n",
    "tokenized_datasets = dataset_dict.map(tokenize_function, batched=True)\n",
    "\n",
    "# --------------------- Model & Training Setup ---------------------\n",
    "# Load the Toxic-BERT model for sequence classification with 2 labels.\n",
    "model = AutoModelForSequenceClassification.from_pretrained(model_checkpoint, num_labels=2)\n",
    "\n",
    "accuracy_metric = evaluate.load(\"accuracy\")\n",
    "\n",
    "def compute_metrics(eval_pred):\n",
    "    logits, labels = eval_pred\n",
    "    predictions = np.argmax(logits, axis=-1)\n",
    "    return accuracy_metric.compute(predictions=predictions, references=labels)\n",
    "\n",
    "training_args = TrainingArguments(\n",
    "    output_dir=\"./toxic_model_results\",\n",
    "    evaluation_strategy=\"epoch\",\n",
    "    learning_rate=2e-5,\n",
    "    per_device_train_batch_size=16,\n",
    "    per_device_eval_batch_size=16,\n",
    "    num_train_epochs=3,\n",
    "    weight_decay=0.01,\n",
    "    logging_steps=10,\n",
    "    load_best_model_at_end=True,\n",
    "    metric_for_best_model=\"accuracy\"\n",
    ")\n",
    "\n",
    "trainer = Trainer(\n",
    "    model=model,\n",
    "    args=training_args,\n",
    "    train_dataset=tokenized_datasets[\"train\"],\n",
    "    eval_dataset=tokenized_datasets[\"validation\"],\n",
    "    compute_metrics=compute_metrics,\n",
    "    tokenizer=tokenizer\n",
    ")\n",
    "\n",
    "# --------------------- Train & Evaluate ---------------------\n",
    "trainer.train()\n",
    "eval_results = trainer.evaluate()\n",
    "print(\"Evaluation Results:\", eval_results)\n",
    "\n",
    "# Save the fine-tuned model with the same name as the original.\n",
    "# This will create a folder named \"unitary/toxic-bert\" locally.\n",
    "trainer.save_model(\"unitary/toxic-bert\")\n"
   ]
  },
  {
   "cell_type": "markdown",
   "metadata": {},
   "source": [
    "2. Emotion Detection Model Training (Using SamLowe's GoEmotions)\n",
    "This script uses data from \"Aggressive_All.csv\", \"Non_Aggressive_All.csv\", and \"aggression_parsed_dataset.csv\".\n",
    "For this training, we are creating a binary classifier for cyberbullying:\n",
    "\n",
    "Files with aggressive language (or labels) are assigned label 1.\n",
    "\n",
    "Files with non-aggressive language are assigned label 0."
   ]
  },
  {
   "cell_type": "code",
   "execution_count": null,
   "metadata": {},
   "outputs": [],
   "source": [
    "import pandas as pd\n",
    "from datasets import Dataset, DatasetDict\n",
    "from transformers import AutoTokenizer, AutoModelForSequenceClassification, TrainingArguments, Trainer\n",
    "import numpy as np\n",
    "import evaluate\n",
    "\n",
    "# --------------------- Load & Prepare Data ---------------------\n",
    "# Load aggressive and non-aggressive datasets\n",
    "df_aggressive = pd.read_csv(\"Aggressive_All.csv\")\n",
    "df_non_aggressive = pd.read_csv(\"Non_Aggressive_All.csv\")\n",
    "df_aggression = pd.read_csv(\"aggression_parsed_dataset.csv\")\n",
    "\n",
    "# Assign binary labels: aggressive = 1, non-aggressive = 0.\n",
    "df_aggressive[\"label\"] = 1\n",
    "df_non_aggressive[\"label\"] = 0\n",
    "# For aggression_parsed_dataset.csv, assume the \"oh_label\" column (convert to integer)\n",
    "df_aggression[\"label\"] = df_aggression[\"oh_label\"].astype(int)\n",
    "\n",
    "# Standardize text columns. Adjust the column names if necessary.\n",
    "df_aggressive[\"text\"] = df_aggressive[\"Message\"].astype(str).str.lower().str.strip()\n",
    "df_non_aggressive[\"text\"] = df_non_aggressive[\"Message\"].astype(str).str.lower().str.strip()\n",
    "df_aggression[\"text\"] = df_aggression[\"Text\"].astype(str).str.lower().str.strip()\n",
    "\n",
    "# Keep only the relevant columns (\"text\" and \"label\")\n",
    "df_aggressive = df_aggressive[[\"text\", \"label\"]]\n",
    "df_non_aggressive = df_non_aggressive[[\"text\", \"label\"]]\n",
    "df_aggression = df_aggression[[\"text\", \"label\"]]\n",
    "\n",
    "# Combine the datasets\n",
    "df_combined = pd.concat([df_aggressive, df_non_aggressive, df_aggression], ignore_index=True)\n",
    "# Remove rows with empty text\n",
    "df_combined = df_combined[df_combined[\"text\"].str.strip() != \"\"]\n",
    "\n",
    "# Convert to Hugging Face Dataset and split\n",
    "dataset = Dataset.from_pandas(df_combined)\n",
    "dataset = dataset.train_test_split(test_size=0.2)\n",
    "dataset_dict = DatasetDict({\"train\": dataset[\"train\"], \"validation\": dataset[\"test\"]})\n",
    "\n",
    "# --------------------- Tokenization ---------------------\n",
    "model_checkpoint = \"SamLowe/roberta-base-go_emotions\"\n",
    "tokenizer = AutoTokenizer.from_pretrained(model_checkpoint)\n",
    "\n",
    "def tokenize_function(examples):\n",
    "    return tokenizer(examples[\"text\"], padding=\"max_length\", truncation=True, max_length=128)\n",
    "\n",
    "tokenized_datasets = dataset_dict.map(tokenize_function, batched=True)\n",
    "\n",
    "# --------------------- Model & Training Setup ---------------------\n",
    "# Load the emotion model for sequence classification; set num_labels=2 for binary classification.\n",
    "model = AutoModelForSequenceClassification.from_pretrained(model_checkpoint, num_labels=2)\n",
    "\n",
    "accuracy_metric = evaluate.load(\"accuracy\")\n",
    "\n",
    "def compute_metrics(eval_pred):\n",
    "    logits, labels = eval_pred\n",
    "    predictions = np.argmax(logits, axis=-1)\n",
    "    return accuracy_metric.compute(predictions=predictions, references=labels)\n",
    "\n",
    "training_args = TrainingArguments(\n",
    "    output_dir=\"./emotion_model_results\",\n",
    "    evaluation_strategy=\"epoch\",\n",
    "    learning_rate=2e-5,\n",
    "    per_device_train_batch_size=16,\n",
    "    per_device_eval_batch_size=16,\n",
    "    num_train_epochs=3,\n",
    "    weight_decay=0.01,\n",
    "    logging_steps=10,\n",
    "    load_best_model_at_end=True,\n",
    "    metric_for_best_model=\"accuracy\"\n",
    ")\n",
    "\n",
    "trainer = Trainer(\n",
    "    model=model,\n",
    "    args=training_args,\n",
    "    train_dataset=tokenized_datasets[\"train\"],\n",
    "    eval_dataset=tokenized_datasets[\"validation\"],\n",
    "    compute_metrics=compute_metrics,\n",
    "    tokenizer=tokenizer\n",
    ")\n",
    "\n",
    "# --------------------- Train & Evaluate ---------------------\n",
    "trainer.train()\n",
    "eval_results = trainer.evaluate()\n",
    "print(\"Evaluation Results:\", eval_results)\n",
    "\n",
    "# Save the fine-tuned model using the same name as the original.\n",
    "trainer.save_model(\"SamLowe/roberta-base-go_emotions\")\n"
   ]
  },
  {
   "cell_type": "markdown",
   "metadata": {},
   "source": [
    "<h1 style=\"color: #FF5733; font-size: 19px;\"> Self assesment tools\n"
   ]
  },
  {
   "cell_type": "markdown",
   "metadata": {},
   "source": [
    "This Python script implements an interactive survey aimed at assessing responses to potentially cyberbullying online messages. It leverages advanced natural language processing by integrating a transformer-based emotion classifier and the NRCLex library. Specifically, the script uses the “bhadresh-savani/distilbert-base-uncased-emotion” model from HuggingFace, chosen for its efficiency and accuracy in identifying a range of emotions in text. The transformer model processes each user-provided message to yield a detailed probability distribution across different emotions, while NRCLex offers an alternative view by extracting the top emotions present. Following the automated analysis, the survey asks users to share how the message makes them feel, rate the intensity of their emotions, comment on the overall mood impact, and describe their potential real-life responses. Each response, along with the computed emotion metrics, is stored and eventually saved as a CSV file. This combined approach not only enriches the survey by providing data-driven insights into emotional triggers associated with cyberbullying but also gathers user perceptions that can be further analyzed to develop effective prevention strategies."
   ]
  },
  {
   "cell_type": "markdown",
   "metadata": {},
   "source": [
    "<h1 style=\"color: #FF5733; font-size: 19px;\"> "
   ]
  },
  {
   "cell_type": "code",
   "execution_count": null,
   "metadata": {},
   "outputs": [],
   "source": [
    "##############################ITERATION 1 \n",
    "#MODEL\n",
    "\n",
    "\n",
    "import nltk\n",
    "from transformers import pipeline\n",
    "import textwrap\n",
    "\n",
    "# Download necessary NLTK data\n",
    "nltk.download('punkt')\n",
    "nltk.download('vader_lexicon')\n",
    "\n",
    "# --------------------- Initialize Models ---------------------\n",
    "# Emotion analysis model using SamLowe's GoEmotions model for improved emotion detection\n",
    "emotion_classifier = pipeline(\n",
    "    \"text-classification\",\n",
    "    model=\"SamLowe/roberta-base-go_emotions\",\n",
    "    top_k=None,         # Return all scores then we'll pick the top 5\n",
    "    truncation=True\n",
    ")\n",
    "\n",
    "# Toxicity detection model using Toxic-BERT\n",
    "toxicity_classifier = pipeline(\n",
    "    \"text-classification\",\n",
    "    model=\"unitary/toxic-bert\",\n",
    "    top_k=None,\n",
    "    truncation=True\n",
    ")\n",
    "\n",
    "# --------------------- Helper Functions ---------------------\n",
    "def get_transformer_emotions(text):\n",
    "    \"\"\"\n",
    "    Uses the GoEmotions model to compute emotion scores.\n",
    "    Returns the top 5 emotions (sorted by score) as a dictionary.\n",
    "    \"\"\"\n",
    "    results = emotion_classifier(text)[0]\n",
    "    # Sort the results in descending order by score, and take the top 5 entries\n",
    "    sorted_results = sorted(results, key=lambda x: x['score'], reverse=True)[:5]\n",
    "    return {item['label']: item['score'] for item in sorted_results}\n",
    "\n",
    "def get_toxicity_score(text):\n",
    "    \"\"\"\n",
    "    Uses the Toxic-BERT model to compute toxicity scores.\n",
    "    Returns a dictionary mapping each toxicity label to its score.\n",
    "    \"\"\"\n",
    "    results = toxicity_classifier(text)[0]\n",
    "    return {item['label']: item['score'] for item in results}\n",
    "\n",
    "def display_analysis(message):\n",
    "    \"\"\"\n",
    "    Performs and displays both emotion analysis (top 5) and toxicity analysis\n",
    "    with friendly labels and detected tags.\n",
    "    \"\"\"\n",
    "    # Emotion Analysis\n",
    "    emotions = get_transformer_emotions(message)\n",
    "    trigger_emotion = max(emotions, key=emotions.get)\n",
    "    \n",
    "    # Toxicity Analysis\n",
    "    toxicity = get_toxicity_score(message)\n",
    "    toxic_level = toxicity.get('toxic', 0.0)\n",
    "    \n",
    "    # Determine friendly toxicity label based on the toxicity score.\n",
    "    if toxic_level > 0.85:\n",
    "        friendly_tox_level = \"🔥 Highly Toxic\"\n",
    "    elif toxic_level > 0.5:\n",
    "        friendly_tox_level = \"⚠️ Possibly Offensive\"\n",
    "    elif toxic_level > 0.2:\n",
    "        friendly_tox_level = \"🟡 Mildly Risky\"\n",
    "    else:\n",
    "        friendly_tox_level = \"✅ Low or Safe\"\n",
    "    \n",
    "    # Generate descriptive tags if certain toxicity sub-scores exceed thresholds.\n",
    "    tags = []\n",
    "    if toxicity.get(\"insult\", 0) > 0.6:\n",
    "        tags.append(\"🔴 Insult\")\n",
    "    if toxicity.get(\"obscene\", 0) > 0.6:\n",
    "        tags.append(\"🤬 Obscene\")\n",
    "    if toxicity.get(\"severe_toxic\", 0) > 0.4:\n",
    "        tags.append(\"🚨 Severe Toxicity\")\n",
    "    if toxicity.get(\"identity_hate\", 0) > 0.4:\n",
    "        tags.append(\"🛑 Identity Hate\")\n",
    "    if toxicity.get(\"threat\", 0) > 0.3:\n",
    "        tags.append(\"⚠️ Threat\")\n",
    "    tags_str = \", \".join(tags) if tags else \"No critical flags\"\n",
    "    \n",
    "    # Print the analysis results.\n",
    "    print(\"\\n\" + \"-\" * 80)\n",
    "    print(\"Message Analyzed:\")\n",
    "    print(textwrap.fill(message, width=80))\n",
    "    \n",
    "    print(\"\\n💡 Emotion Analysis (Top 5):\")\n",
    "    for label, score in emotions.items():\n",
    "        print(f\"  {label}: {score:.3f}\")\n",
    "    print(f\"\\n🧠 Primary Emotion: {trigger_emotion}\")\n",
    "    \n",
    "    print(\"\\n⚠️ Toxicity Analysis:\")\n",
    "    print(f\"  Toxicity Level: {friendly_tox_level}\")\n",
    "    print(f\"  Detected Tags: {tags_str}\")\n",
    "    print(\"-\" * 80 + \"\\n\")\n",
    "\n",
    "def main():\n",
    "    print(\"Enter a message to analyze its emotions and toxicity.\")\n",
    "    print(\"Type 'quit' at any time to exit.\\n\")\n",
    "    \n",
    "    while True:\n",
    "        message = input(\"Message: \").strip()\n",
    "        if message.lower() == 'quit':\n",
    "            print(\"Exiting. Thank you!\")\n",
    "            break\n",
    "        display_analysis(message)\n",
    "\n",
    "if __name__ == \"__main__\":\n",
    "    main()"
   ]
  },
  {
   "cell_type": "markdown",
   "metadata": {},
   "source": [
    "This code is designed to analyze survey responses related to cyber bullying by visualizing trends and identifying risk clusters based on user responses. First, it loads survey data from a CSV file and preprocesses the data by converting the ‘intensity’ column to numeric values and transforming the ‘mood_impact’ responses from “yes/no” to a numeric binary format (1 for yes, 0 for no). It then performs a trend analysis by creating bar charts that show the frequency of various trigger emotions (as reported by users) and the average intensity of these emotions.\n",
    "\n",
    "Next, the code builds a feature matrix using the ‘intensity’ and ‘mood_impact_numeric’ columns to assess risk levels among users. It standardizes these features using StandardScaler and applies the KMeans clustering algorithm (with 3 clusters, in this case) to group users who share similar emotional responses. The resulting clusters are then visualized in a scatter plot, where each point represents a user and is colored by its cluster assignment.\n",
    "\n",
    "Overall, this analysis provides data-driven insights by revealing which trigger emotions are most common, how intensely they affect users, and by identifying groups of users who might be at higher risk of adverse emotional impacts from cyber bullying."
   ]
  },
  {
   "cell_type": "code",
   "execution_count": 1,
   "metadata": {},
   "outputs": [
    {
     "ename": "FileNotFoundError",
     "evalue": "[Errno 2] No such file or directory: 'survey_responses.csv'",
     "output_type": "error",
     "traceback": [
      "\u001b[0;31m---------------------------------------------------------------------------\u001b[0m",
      "\u001b[0;31mFileNotFoundError\u001b[0m                         Traceback (most recent call last)",
      "Cell \u001b[0;32mIn[1], line 8\u001b[0m\n\u001b[1;32m      5\u001b[0m \u001b[38;5;28;01mfrom\u001b[39;00m \u001b[38;5;21;01msklearn\u001b[39;00m\u001b[38;5;21;01m.\u001b[39;00m\u001b[38;5;21;01mpreprocessing\u001b[39;00m \u001b[38;5;28;01mimport\u001b[39;00m StandardScaler\n\u001b[1;32m      7\u001b[0m \u001b[38;5;66;03m# Load the survey responses CSV file\u001b[39;00m\n\u001b[0;32m----> 8\u001b[0m df \u001b[38;5;241m=\u001b[39m \u001b[43mpd\u001b[49m\u001b[38;5;241;43m.\u001b[39;49m\u001b[43mread_csv\u001b[49m\u001b[43m(\u001b[49m\u001b[38;5;124;43m\"\u001b[39;49m\u001b[38;5;124;43msurvey_responses.csv\u001b[39;49m\u001b[38;5;124;43m\"\u001b[39;49m\u001b[43m)\u001b[49m\n\u001b[1;32m     10\u001b[0m \u001b[38;5;66;03m# Inspect the columns\u001b[39;00m\n\u001b[1;32m     11\u001b[0m \u001b[38;5;28mprint\u001b[39m(\u001b[38;5;124m\"\u001b[39m\u001b[38;5;124mColumns in survey data:\u001b[39m\u001b[38;5;124m\"\u001b[39m, df\u001b[38;5;241m.\u001b[39mcolumns\u001b[38;5;241m.\u001b[39mtolist())\n",
      "File \u001b[0;32m/Library/Frameworks/Python.framework/Versions/3.10/lib/python3.10/site-packages/pandas/io/parsers/readers.py:1026\u001b[0m, in \u001b[0;36mread_csv\u001b[0;34m(filepath_or_buffer, sep, delimiter, header, names, index_col, usecols, dtype, engine, converters, true_values, false_values, skipinitialspace, skiprows, skipfooter, nrows, na_values, keep_default_na, na_filter, verbose, skip_blank_lines, parse_dates, infer_datetime_format, keep_date_col, date_parser, date_format, dayfirst, cache_dates, iterator, chunksize, compression, thousands, decimal, lineterminator, quotechar, quoting, doublequote, escapechar, comment, encoding, encoding_errors, dialect, on_bad_lines, delim_whitespace, low_memory, memory_map, float_precision, storage_options, dtype_backend)\u001b[0m\n\u001b[1;32m   1013\u001b[0m kwds_defaults \u001b[38;5;241m=\u001b[39m _refine_defaults_read(\n\u001b[1;32m   1014\u001b[0m     dialect,\n\u001b[1;32m   1015\u001b[0m     delimiter,\n\u001b[0;32m   (...)\u001b[0m\n\u001b[1;32m   1022\u001b[0m     dtype_backend\u001b[38;5;241m=\u001b[39mdtype_backend,\n\u001b[1;32m   1023\u001b[0m )\n\u001b[1;32m   1024\u001b[0m kwds\u001b[38;5;241m.\u001b[39mupdate(kwds_defaults)\n\u001b[0;32m-> 1026\u001b[0m \u001b[38;5;28;01mreturn\u001b[39;00m \u001b[43m_read\u001b[49m\u001b[43m(\u001b[49m\u001b[43mfilepath_or_buffer\u001b[49m\u001b[43m,\u001b[49m\u001b[43m \u001b[49m\u001b[43mkwds\u001b[49m\u001b[43m)\u001b[49m\n",
      "File \u001b[0;32m/Library/Frameworks/Python.framework/Versions/3.10/lib/python3.10/site-packages/pandas/io/parsers/readers.py:620\u001b[0m, in \u001b[0;36m_read\u001b[0;34m(filepath_or_buffer, kwds)\u001b[0m\n\u001b[1;32m    617\u001b[0m _validate_names(kwds\u001b[38;5;241m.\u001b[39mget(\u001b[38;5;124m\"\u001b[39m\u001b[38;5;124mnames\u001b[39m\u001b[38;5;124m\"\u001b[39m, \u001b[38;5;28;01mNone\u001b[39;00m))\n\u001b[1;32m    619\u001b[0m \u001b[38;5;66;03m# Create the parser.\u001b[39;00m\n\u001b[0;32m--> 620\u001b[0m parser \u001b[38;5;241m=\u001b[39m \u001b[43mTextFileReader\u001b[49m\u001b[43m(\u001b[49m\u001b[43mfilepath_or_buffer\u001b[49m\u001b[43m,\u001b[49m\u001b[43m \u001b[49m\u001b[38;5;241;43m*\u001b[39;49m\u001b[38;5;241;43m*\u001b[39;49m\u001b[43mkwds\u001b[49m\u001b[43m)\u001b[49m\n\u001b[1;32m    622\u001b[0m \u001b[38;5;28;01mif\u001b[39;00m chunksize \u001b[38;5;129;01mor\u001b[39;00m iterator:\n\u001b[1;32m    623\u001b[0m     \u001b[38;5;28;01mreturn\u001b[39;00m parser\n",
      "File \u001b[0;32m/Library/Frameworks/Python.framework/Versions/3.10/lib/python3.10/site-packages/pandas/io/parsers/readers.py:1620\u001b[0m, in \u001b[0;36mTextFileReader.__init__\u001b[0;34m(self, f, engine, **kwds)\u001b[0m\n\u001b[1;32m   1617\u001b[0m     \u001b[38;5;28mself\u001b[39m\u001b[38;5;241m.\u001b[39moptions[\u001b[38;5;124m\"\u001b[39m\u001b[38;5;124mhas_index_names\u001b[39m\u001b[38;5;124m\"\u001b[39m] \u001b[38;5;241m=\u001b[39m kwds[\u001b[38;5;124m\"\u001b[39m\u001b[38;5;124mhas_index_names\u001b[39m\u001b[38;5;124m\"\u001b[39m]\n\u001b[1;32m   1619\u001b[0m \u001b[38;5;28mself\u001b[39m\u001b[38;5;241m.\u001b[39mhandles: IOHandles \u001b[38;5;241m|\u001b[39m \u001b[38;5;28;01mNone\u001b[39;00m \u001b[38;5;241m=\u001b[39m \u001b[38;5;28;01mNone\u001b[39;00m\n\u001b[0;32m-> 1620\u001b[0m \u001b[38;5;28mself\u001b[39m\u001b[38;5;241m.\u001b[39m_engine \u001b[38;5;241m=\u001b[39m \u001b[38;5;28;43mself\u001b[39;49m\u001b[38;5;241;43m.\u001b[39;49m\u001b[43m_make_engine\u001b[49m\u001b[43m(\u001b[49m\u001b[43mf\u001b[49m\u001b[43m,\u001b[49m\u001b[43m \u001b[49m\u001b[38;5;28;43mself\u001b[39;49m\u001b[38;5;241;43m.\u001b[39;49m\u001b[43mengine\u001b[49m\u001b[43m)\u001b[49m\n",
      "File \u001b[0;32m/Library/Frameworks/Python.framework/Versions/3.10/lib/python3.10/site-packages/pandas/io/parsers/readers.py:1880\u001b[0m, in \u001b[0;36mTextFileReader._make_engine\u001b[0;34m(self, f, engine)\u001b[0m\n\u001b[1;32m   1878\u001b[0m     \u001b[38;5;28;01mif\u001b[39;00m \u001b[38;5;124m\"\u001b[39m\u001b[38;5;124mb\u001b[39m\u001b[38;5;124m\"\u001b[39m \u001b[38;5;129;01mnot\u001b[39;00m \u001b[38;5;129;01min\u001b[39;00m mode:\n\u001b[1;32m   1879\u001b[0m         mode \u001b[38;5;241m+\u001b[39m\u001b[38;5;241m=\u001b[39m \u001b[38;5;124m\"\u001b[39m\u001b[38;5;124mb\u001b[39m\u001b[38;5;124m\"\u001b[39m\n\u001b[0;32m-> 1880\u001b[0m \u001b[38;5;28mself\u001b[39m\u001b[38;5;241m.\u001b[39mhandles \u001b[38;5;241m=\u001b[39m \u001b[43mget_handle\u001b[49m\u001b[43m(\u001b[49m\n\u001b[1;32m   1881\u001b[0m \u001b[43m    \u001b[49m\u001b[43mf\u001b[49m\u001b[43m,\u001b[49m\n\u001b[1;32m   1882\u001b[0m \u001b[43m    \u001b[49m\u001b[43mmode\u001b[49m\u001b[43m,\u001b[49m\n\u001b[1;32m   1883\u001b[0m \u001b[43m    \u001b[49m\u001b[43mencoding\u001b[49m\u001b[38;5;241;43m=\u001b[39;49m\u001b[38;5;28;43mself\u001b[39;49m\u001b[38;5;241;43m.\u001b[39;49m\u001b[43moptions\u001b[49m\u001b[38;5;241;43m.\u001b[39;49m\u001b[43mget\u001b[49m\u001b[43m(\u001b[49m\u001b[38;5;124;43m\"\u001b[39;49m\u001b[38;5;124;43mencoding\u001b[39;49m\u001b[38;5;124;43m\"\u001b[39;49m\u001b[43m,\u001b[49m\u001b[43m \u001b[49m\u001b[38;5;28;43;01mNone\u001b[39;49;00m\u001b[43m)\u001b[49m\u001b[43m,\u001b[49m\n\u001b[1;32m   1884\u001b[0m \u001b[43m    \u001b[49m\u001b[43mcompression\u001b[49m\u001b[38;5;241;43m=\u001b[39;49m\u001b[38;5;28;43mself\u001b[39;49m\u001b[38;5;241;43m.\u001b[39;49m\u001b[43moptions\u001b[49m\u001b[38;5;241;43m.\u001b[39;49m\u001b[43mget\u001b[49m\u001b[43m(\u001b[49m\u001b[38;5;124;43m\"\u001b[39;49m\u001b[38;5;124;43mcompression\u001b[39;49m\u001b[38;5;124;43m\"\u001b[39;49m\u001b[43m,\u001b[49m\u001b[43m \u001b[49m\u001b[38;5;28;43;01mNone\u001b[39;49;00m\u001b[43m)\u001b[49m\u001b[43m,\u001b[49m\n\u001b[1;32m   1885\u001b[0m \u001b[43m    \u001b[49m\u001b[43mmemory_map\u001b[49m\u001b[38;5;241;43m=\u001b[39;49m\u001b[38;5;28;43mself\u001b[39;49m\u001b[38;5;241;43m.\u001b[39;49m\u001b[43moptions\u001b[49m\u001b[38;5;241;43m.\u001b[39;49m\u001b[43mget\u001b[49m\u001b[43m(\u001b[49m\u001b[38;5;124;43m\"\u001b[39;49m\u001b[38;5;124;43mmemory_map\u001b[39;49m\u001b[38;5;124;43m\"\u001b[39;49m\u001b[43m,\u001b[49m\u001b[43m \u001b[49m\u001b[38;5;28;43;01mFalse\u001b[39;49;00m\u001b[43m)\u001b[49m\u001b[43m,\u001b[49m\n\u001b[1;32m   1886\u001b[0m \u001b[43m    \u001b[49m\u001b[43mis_text\u001b[49m\u001b[38;5;241;43m=\u001b[39;49m\u001b[43mis_text\u001b[49m\u001b[43m,\u001b[49m\n\u001b[1;32m   1887\u001b[0m \u001b[43m    \u001b[49m\u001b[43merrors\u001b[49m\u001b[38;5;241;43m=\u001b[39;49m\u001b[38;5;28;43mself\u001b[39;49m\u001b[38;5;241;43m.\u001b[39;49m\u001b[43moptions\u001b[49m\u001b[38;5;241;43m.\u001b[39;49m\u001b[43mget\u001b[49m\u001b[43m(\u001b[49m\u001b[38;5;124;43m\"\u001b[39;49m\u001b[38;5;124;43mencoding_errors\u001b[39;49m\u001b[38;5;124;43m\"\u001b[39;49m\u001b[43m,\u001b[49m\u001b[43m \u001b[49m\u001b[38;5;124;43m\"\u001b[39;49m\u001b[38;5;124;43mstrict\u001b[39;49m\u001b[38;5;124;43m\"\u001b[39;49m\u001b[43m)\u001b[49m\u001b[43m,\u001b[49m\n\u001b[1;32m   1888\u001b[0m \u001b[43m    \u001b[49m\u001b[43mstorage_options\u001b[49m\u001b[38;5;241;43m=\u001b[39;49m\u001b[38;5;28;43mself\u001b[39;49m\u001b[38;5;241;43m.\u001b[39;49m\u001b[43moptions\u001b[49m\u001b[38;5;241;43m.\u001b[39;49m\u001b[43mget\u001b[49m\u001b[43m(\u001b[49m\u001b[38;5;124;43m\"\u001b[39;49m\u001b[38;5;124;43mstorage_options\u001b[39;49m\u001b[38;5;124;43m\"\u001b[39;49m\u001b[43m,\u001b[49m\u001b[43m \u001b[49m\u001b[38;5;28;43;01mNone\u001b[39;49;00m\u001b[43m)\u001b[49m\u001b[43m,\u001b[49m\n\u001b[1;32m   1889\u001b[0m \u001b[43m\u001b[49m\u001b[43m)\u001b[49m\n\u001b[1;32m   1890\u001b[0m \u001b[38;5;28;01massert\u001b[39;00m \u001b[38;5;28mself\u001b[39m\u001b[38;5;241m.\u001b[39mhandles \u001b[38;5;129;01mis\u001b[39;00m \u001b[38;5;129;01mnot\u001b[39;00m \u001b[38;5;28;01mNone\u001b[39;00m\n\u001b[1;32m   1891\u001b[0m f \u001b[38;5;241m=\u001b[39m \u001b[38;5;28mself\u001b[39m\u001b[38;5;241m.\u001b[39mhandles\u001b[38;5;241m.\u001b[39mhandle\n",
      "File \u001b[0;32m/Library/Frameworks/Python.framework/Versions/3.10/lib/python3.10/site-packages/pandas/io/common.py:873\u001b[0m, in \u001b[0;36mget_handle\u001b[0;34m(path_or_buf, mode, encoding, compression, memory_map, is_text, errors, storage_options)\u001b[0m\n\u001b[1;32m    868\u001b[0m \u001b[38;5;28;01melif\u001b[39;00m \u001b[38;5;28misinstance\u001b[39m(handle, \u001b[38;5;28mstr\u001b[39m):\n\u001b[1;32m    869\u001b[0m     \u001b[38;5;66;03m# Check whether the filename is to be opened in binary mode.\u001b[39;00m\n\u001b[1;32m    870\u001b[0m     \u001b[38;5;66;03m# Binary mode does not support 'encoding' and 'newline'.\u001b[39;00m\n\u001b[1;32m    871\u001b[0m     \u001b[38;5;28;01mif\u001b[39;00m ioargs\u001b[38;5;241m.\u001b[39mencoding \u001b[38;5;129;01mand\u001b[39;00m \u001b[38;5;124m\"\u001b[39m\u001b[38;5;124mb\u001b[39m\u001b[38;5;124m\"\u001b[39m \u001b[38;5;129;01mnot\u001b[39;00m \u001b[38;5;129;01min\u001b[39;00m ioargs\u001b[38;5;241m.\u001b[39mmode:\n\u001b[1;32m    872\u001b[0m         \u001b[38;5;66;03m# Encoding\u001b[39;00m\n\u001b[0;32m--> 873\u001b[0m         handle \u001b[38;5;241m=\u001b[39m \u001b[38;5;28;43mopen\u001b[39;49m\u001b[43m(\u001b[49m\n\u001b[1;32m    874\u001b[0m \u001b[43m            \u001b[49m\u001b[43mhandle\u001b[49m\u001b[43m,\u001b[49m\n\u001b[1;32m    875\u001b[0m \u001b[43m            \u001b[49m\u001b[43mioargs\u001b[49m\u001b[38;5;241;43m.\u001b[39;49m\u001b[43mmode\u001b[49m\u001b[43m,\u001b[49m\n\u001b[1;32m    876\u001b[0m \u001b[43m            \u001b[49m\u001b[43mencoding\u001b[49m\u001b[38;5;241;43m=\u001b[39;49m\u001b[43mioargs\u001b[49m\u001b[38;5;241;43m.\u001b[39;49m\u001b[43mencoding\u001b[49m\u001b[43m,\u001b[49m\n\u001b[1;32m    877\u001b[0m \u001b[43m            \u001b[49m\u001b[43merrors\u001b[49m\u001b[38;5;241;43m=\u001b[39;49m\u001b[43merrors\u001b[49m\u001b[43m,\u001b[49m\n\u001b[1;32m    878\u001b[0m \u001b[43m            \u001b[49m\u001b[43mnewline\u001b[49m\u001b[38;5;241;43m=\u001b[39;49m\u001b[38;5;124;43m\"\u001b[39;49m\u001b[38;5;124;43m\"\u001b[39;49m\u001b[43m,\u001b[49m\n\u001b[1;32m    879\u001b[0m \u001b[43m        \u001b[49m\u001b[43m)\u001b[49m\n\u001b[1;32m    880\u001b[0m     \u001b[38;5;28;01melse\u001b[39;00m:\n\u001b[1;32m    881\u001b[0m         \u001b[38;5;66;03m# Binary mode\u001b[39;00m\n\u001b[1;32m    882\u001b[0m         handle \u001b[38;5;241m=\u001b[39m \u001b[38;5;28mopen\u001b[39m(handle, ioargs\u001b[38;5;241m.\u001b[39mmode)\n",
      "\u001b[0;31mFileNotFoundError\u001b[0m: [Errno 2] No such file or directory: 'survey_responses.csv'"
     ]
    }
   ],
   "source": [
    "######################################## SURVEY PLOT\n",
    "import pandas as pd\n",
    "import matplotlib.pyplot as plt\n",
    "from sklearn.cluster import KMeans\n",
    "from sklearn.preprocessing import StandardScaler\n",
    "\n",
    "# Load the survey responses CSV file\n",
    "df = pd.read_csv(\"survey_responses.csv\")\n",
    "\n",
    "# Inspect the columns\n",
    "print(\"Columns in survey data:\", df.columns.tolist())\n",
    "\n",
    "# For trend analysis, we'll use:\n",
    "# - 'trigger' (categorical trigger emotion)\n",
    "# - 'intensity' (convert to numeric)\n",
    "# - 'mood_impact' (convert yes/no to 1/0)\n",
    "df['intensity'] = pd.to_numeric(df['intensity'], errors='coerce')\n",
    "df['mood_impact_numeric'] = df['mood_impact'].apply(lambda x: 1 if x.strip().lower() == 'yes' else 0)\n",
    "\n",
    "# 1. Trend Analysis\n",
    "# a) Frequency of trigger emotions\n",
    "trigger_counts = df['trigger'].value_counts()\n",
    "print(\"\\nTrigger Emotion Frequencies:\")\n",
    "print(trigger_counts)\n",
    "\n",
    "plt.figure(figsize=(8, 6))\n",
    "trigger_counts.plot(kind='bar', color='skyblue', edgecolor='black')\n",
    "plt.title(\"Frequency of Trigger Emotions\")\n",
    "plt.xlabel(\"Trigger Emotion\")\n",
    "plt.ylabel(\"Count\")\n",
    "plt.xticks(rotation=45)\n",
    "plt.tight_layout()\n",
    "plt.show()\n",
    "\n",
    "# b) Average intensity by trigger emotion\n",
    "avg_intensity = df.groupby('trigger')['intensity'].mean()\n",
    "print(\"\\nAverage Intensity by Trigger Emotion:\")\n",
    "print(avg_intensity)\n",
    "\n",
    "plt.figure(figsize=(8, 6))\n",
    "avg_intensity.plot(kind='bar', color='coral', edgecolor='black')\n",
    "plt.title(\"Average Intensity by Trigger Emotion\")\n",
    "plt.xlabel(\"Trigger Emotion\")\n",
    "plt.ylabel(\"Average Intensity (1-10)\")\n",
    "plt.xticks(rotation=45)\n",
    "plt.tight_layout()\n",
    "plt.show()\n",
    "\n",
    "# 2. Risk Identification via Clustering\n",
    "# We create a feature matrix using 'intensity' and 'mood_impact_numeric'\n",
    "features = df[['intensity', 'mood_impact_numeric']].dropna()\n",
    "\n",
    "# Standardize features\n",
    "scaler = StandardScaler()\n",
    "features_scaled = scaler.fit_transform(features)\n",
    "\n",
    "# Determine number of clusters (e.g., 3 clusters)\n",
    "k = 3\n",
    "kmeans = KMeans(n_clusters=k, random_state=42)\n",
    "clusters = kmeans.fit_predict(features_scaled)\n",
    "\n",
    "# Add cluster assignments to the DataFrame\n",
    "df.loc[features.index, 'cluster'] = clusters\n",
    "\n",
    "print(\"\\nCluster Counts:\")\n",
    "print(df['cluster'].value_counts())\n",
    "\n",
    "# Visualize clusters\n",
    "plt.figure(figsize=(8, 6))\n",
    "plt.scatter(features_scaled[:, 0], features_scaled[:, 1], c=clusters, cmap='viridis', alpha=0.6)\n",
    "plt.title(\"Clustering of Users by Intensity and Mood Impact\")\n",
    "plt.xlabel(\"Standardized Intensity\")\n",
    "plt.ylabel(\"Standardized Mood Impact\")\n",
    "plt.colorbar(label='Cluster')\n",
    "plt.tight_layout()\n",
    "plt.show()\n",
    "\n",
    "# Output insights\n",
    "print(\"\\nData-Driven Insights:\")\n",
    "print(\"Trigger Emotion Frequencies:\\n\", trigger_counts)\n",
    "print(\"Average Intensity by Trigger Emotion:\\n\", avg_intensity)\n",
    "print(\"Cluster assignments:\\n\", df['cluster'].value_counts())"
   ]
  },
  {
   "cell_type": "markdown",
   "metadata": {},
   "source": [
    "<h1 style=\"color: #FF5733; font-size: 19px;\">Youtube data"
   ]
  },
  {
   "cell_type": "markdown",
   "metadata": {},
   "source": [
    "Explanation\n",
    "\t1.\tVADER Sentiment Analysis:\n",
    "The script uses NLTK’s VADER (Valence Aware Dictionary and sEntiment Reasoner) to calculate sentiment scores for each comment. The classify_sentiment_vader function computes the compound score—a single metric that summarizes the overall sentiment. If the compound score is below a specified threshold (here, -0.5), the text is flagged as “Aggressive”; otherwise, it is marked as “Non-Aggressive.” Additionally, the complete set of sentiment scores is returned for further analysis.\n",
    "\t2.\tData Loading and Processing:\n",
    "The CSV file is loaded into a pandas DataFrame. Sentiment analysis is applied to the “Text” column, and two new columns are added: one for the sentiment classification and one for the detailed emotion scores.\n",
    "\t3.\tText Wrapping for Better Output:\n",
    "A helper function wraps the text in the “Text” column so that when the DataFrame is printed, long comments are neatly formatted over multiple lines.\n",
    "\t4.\tSaving the Results:\n",
    "The updated DataFrame is saved to a new CSV file (“youtube_parsed_dataset_sentiment.csv”), preserving all changes for future reference."
   ]
  },
  {
   "cell_type": "code",
   "execution_count": null,
   "metadata": {},
   "outputs": [],
   "source": [
    "import pandas as pd\n",
    "import textwrap\n",
    "import nltk\n",
    "from nltk.sentiment import SentimentIntensityAnalyzer\n",
    "\n",
    "# Download the VADER lexicon (if not already downloaded)\n",
    "nltk.download('vader_lexicon')\n",
    "\n",
    "# Initialize VADER sentiment analyzer\n",
    "sia = SentimentIntensityAnalyzer()\n",
    "\n",
    "def classify_sentiment_vader(text, threshold=-0.5):\n",
    "    \"\"\"\n",
    "    Classify sentiment using VADER. \n",
    "    If the compound score is below the threshold (e.g., -0.5), flag as Aggressive; otherwise, Non-Aggressive.\n",
    "    Returns the sentiment label along with the complete score dictionary.\n",
    "    \"\"\"\n",
    "    scores = sia.polarity_scores(text)\n",
    "    sentiment = \"Aggressive\" if scores['compound'] < threshold else \"Non-Aggressive\"\n",
    "    return sentiment, scores\n",
    "\n",
    "# Load the CSV file containing the YouTube dataset.\n",
    "df = pd.read_csv(\"youtube_parsed_dataset.csv\")\n",
    "\n",
    "# Apply VADER sentiment analysis on the \"Text\" column.\n",
    "df[\"sentiment_class\"], df[\"emotion_scores\"] = zip(*df[\"Text\"].apply(classify_sentiment_vader))\n",
    "\n",
    "# Function to wrap long text for display\n",
    "def wrap_text(text, width=80):\n",
    "    return \"\\n\".join(textwrap.wrap(text, width=width))\n",
    "\n",
    "# Create a copy of the DataFrame for printing with wrapped \"Text\" column.\n",
    "df_wrapped = df.copy()\n",
    "df_wrapped[\"Text\"] = df_wrapped[\"Text\"].apply(lambda x: wrap_text(x, width=80))\n",
    "\n",
    "# Print the DataFrame with wrapped text.\n",
    "print(\"Updated DataFrame with Sentiment Analysis:\\n\")\n",
    "print(df_wrapped.to_string())\n",
    "\n",
    "# Save the updated DataFrame to a new CSV file.\n",
    "df.to_csv(\"youtube_parsed_dataset_sentiment.csv\", index=False)\n",
    "print(\"\\nSentiment analysis complete. Results saved to 'youtube_parsed_dataset_sentiment.csv'.\")"
   ]
  },
  {
   "cell_type": "markdown",
   "metadata": {},
   "source": [
    "AGe distribution chart- \n",
    "The plot indicates that younger individuals dominate the aggressive comment space, while a relatively small portion of older users also contribute to it. This insight can inform targeted anti-bullying measures and help platforms prioritize which age groups may need the most support or intervention.\n",
    "\n",
    "Distribution of comment-\n",
    "Overall, the data suggests that when users post aggressive comments, they typically do so in brief bursts rather than in extensive text. This insight can inform moderation strategies (e.g., scanning for specific offensive words or phrases in short messages) and help prioritize the detection of quick, hostile remarks."
   ]
  },
  {
   "cell_type": "code",
   "execution_count": 10,
   "metadata": {},
   "outputs": [
    {
     "data": {
      "image/png": "[encoded data removed]",
      "text/plain": [
       "<Figure size 1000x600 with 1 Axes>"
      ]
     },
     "metadata": {},
     "output_type": "display_data"
    },
    {
     "data": {
      "image/png": "[encoded data removed]",
      "text/plain": [
       "<Figure size 1000x600 with 1 Axes>"
      ]
     },
     "metadata": {},
     "output_type": "display_data"
    }
   ],
   "source": [
    "import pandas as pd\n",
    "import matplotlib.pyplot as plt\n",
    "import seaborn as sns\n",
    "\n",
    "# Load the CSV file with sentiment analysis results\n",
    "df = pd.read_csv(\"youtube_parsed_dataset_sentiment.csv\")\n",
    "\n",
    "# Filter for rows flagged as \"Aggressive\" and create a copy to avoid SettingWithCopyWarning\n",
    "df_aggressive = df[df['sentiment_class'] == 'Aggressive'].copy()\n",
    "\n",
    "# Create a new column for comment length (number of words)\n",
    "df_aggressive['comment_length'] = df_aggressive['Text'].apply(lambda x: len(str(x).split()))\n",
    "\n",
    "# ---------------- Enhanced Age Distribution ----------------\n",
    "plt.figure(figsize=(10, 6))\n",
    "sns.violinplot(x=df_aggressive['Age'], color='skyblue', inner='quartile')\n",
    "sns.swarmplot(x=df_aggressive['Age'], color='darkblue', size=3, alpha=0.6)\n",
    "plt.title(\"Enhanced Age Distribution for Aggressive Comments\", fontsize=14)\n",
    "plt.xlabel(\"Age\", fontsize=12)\n",
    "plt.ylabel(\"Density\", fontsize=12)\n",
    "plt.tight_layout()\n",
    "plt.show()\n",
    "\n",
    "\n",
    "\n",
    "\n",
    "# Plot the KDE + Histogram\n",
    "plt.figure(figsize=(10, 6))\n",
    "\n",
    "# Plot the KDE (Density)\n",
    "ax = sns.kdeplot(\n",
    "    data=df_aggressive,\n",
    "    x='comment_length',\n",
    "    fill=True,\n",
    "    color='orange',\n",
    "    alpha=0.5,\n",
    "    linewidth=2,\n",
    "    label=\"Density\"\n",
    ")\n",
    "\n",
    "# Plot the Histogram\n",
    "hist_plot = sns.histplot(\n",
    "    data=df_aggressive,\n",
    "    x='comment_length',\n",
    "    bins=20,\n",
    "    color='orange',\n",
    "    edgecolor='black',\n",
    "    alpha=0.3,\n",
    "    label=\"Count\"\n",
    ")\n",
    "\n",
    "# Annotate each histogram bar with its count\n",
    "for patch in hist_plot.patches:\n",
    "    height = patch.get_height()\n",
    "    if height > 0:  # Only annotate bars that have a height > 0\n",
    "        x_position = patch.get_x() + patch.get_width() / 2\n",
    "        hist_plot.text(\n",
    "            x_position,\n",
    "            height + 1,             # Slight offset above the bar\n",
    "            f'{int(height)}',       # Convert float to int for a clean label\n",
    "            ha='center',\n",
    "            va='bottom',\n",
    "            fontsize=8\n",
    "        )\n",
    "\n",
    "plt.title(\"Enhanced Comment Length Distribution for Aggressive Comments\", fontsize=14)\n",
    "plt.xlabel(\"Number of Words in Comment\", fontsize=12)\n",
    "plt.ylabel(\"Density / Count\", fontsize=12)\n",
    "plt.legend()\n",
    "plt.tight_layout()\n",
    "plt.show()"
   ]
  },
  {
   "cell_type": "markdown",
   "metadata": {},
   "source": [
    "This code loads a CSV file containing cyber bullying data, filters out non-bullying entries, and preprocesses the text. It then creates a large, interactive donut chart using Plotly to show the distribution of bullying categories (with labels and percentages). When you click on a segment of the donut chart, a drill-down callback generates and displays a word cloud for that specific category, enabling you to explore the key terms used in each bullying category directly in a Jupyter Notebook."
   ]
  },
  {
   "cell_type": "code",
   "execution_count": 1,
   "metadata": {},
   "outputs": [
    {
     "ename": "ProgrammingError",
     "evalue": "(mysql.connector.errors.ProgrammingError) 1146 (42S02): Table 'shieldspace.cb_multi_labeled_balanced' doesn't exist\n[SQL: SELECT * FROM cb_multi_labeled_balanced]\n(Background on this error at: https://sqlalche.me/e/20/f405)",
     "output_type": "error",
     "traceback": [
      "\u001b[0;31m---------------------------------------------------------------------------\u001b[0m",
      "\u001b[0;31mMySQLInterfaceError\u001b[0m                       Traceback (most recent call last)",
      "File \u001b[0;32m/Library/Frameworks/Python.framework/Versions/3.10/lib/python3.10/site-packages/mysql/connector/connection_cext.py:755\u001b[0m, in \u001b[0;36mCMySQLConnection.cmd_query\u001b[0;34m(self, query, raw, buffered, raw_as_string, **kwargs)\u001b[0m\n\u001b[1;32m    754\u001b[0m         query \u001b[38;5;241m=\u001b[39m query\u001b[38;5;241m.\u001b[39mencode(\u001b[38;5;124m\"\u001b[39m\u001b[38;5;124mutf-8\u001b[39m\u001b[38;5;124m\"\u001b[39m)\n\u001b[0;32m--> 755\u001b[0m     \u001b[38;5;28;43mself\u001b[39;49m\u001b[38;5;241;43m.\u001b[39;49m\u001b[43m_cmysql\u001b[49m\u001b[38;5;241;43m.\u001b[39;49m\u001b[43mquery\u001b[49m\u001b[43m(\u001b[49m\n\u001b[1;32m    756\u001b[0m \u001b[43m        \u001b[49m\u001b[43mquery\u001b[49m\u001b[43m,\u001b[49m\n\u001b[1;32m    757\u001b[0m \u001b[43m        \u001b[49m\u001b[43mraw\u001b[49m\u001b[38;5;241;43m=\u001b[39;49m\u001b[43mraw\u001b[49m\u001b[43m,\u001b[49m\n\u001b[1;32m    758\u001b[0m \u001b[43m        \u001b[49m\u001b[43mbuffered\u001b[49m\u001b[38;5;241;43m=\u001b[39;49m\u001b[43mbuffered\u001b[49m\u001b[43m,\u001b[49m\n\u001b[1;32m    759\u001b[0m \u001b[43m        \u001b[49m\u001b[43mraw_as_string\u001b[49m\u001b[38;5;241;43m=\u001b[39;49m\u001b[43mraw_as_string\u001b[49m\u001b[43m,\u001b[49m\n\u001b[1;32m    760\u001b[0m \u001b[43m        \u001b[49m\u001b[43mquery_attrs\u001b[49m\u001b[38;5;241;43m=\u001b[39;49m\u001b[38;5;28;43mself\u001b[39;49m\u001b[38;5;241;43m.\u001b[39;49m\u001b[43mquery_attrs\u001b[49m\u001b[43m,\u001b[49m\n\u001b[1;32m    761\u001b[0m \u001b[43m    \u001b[49m\u001b[43m)\u001b[49m\n\u001b[1;32m    762\u001b[0m \u001b[38;5;28;01mexcept\u001b[39;00m MySQLInterfaceError \u001b[38;5;28;01mas\u001b[39;00m err:\n",
      "\u001b[0;31mMySQLInterfaceError\u001b[0m: Table 'shieldspace.cb_multi_labeled_balanced' doesn't exist",
      "\nThe above exception was the direct cause of the following exception:\n",
      "\u001b[0;31mProgrammingError\u001b[0m                          Traceback (most recent call last)",
      "File \u001b[0;32m/Library/Frameworks/Python.framework/Versions/3.10/lib/python3.10/site-packages/sqlalchemy/engine/base.py:1967\u001b[0m, in \u001b[0;36mConnection._exec_single_context\u001b[0;34m(self, dialect, context, statement, parameters)\u001b[0m\n\u001b[1;32m   1966\u001b[0m     \u001b[38;5;28;01mif\u001b[39;00m \u001b[38;5;129;01mnot\u001b[39;00m evt_handled:\n\u001b[0;32m-> 1967\u001b[0m         \u001b[38;5;28;43mself\u001b[39;49m\u001b[38;5;241;43m.\u001b[39;49m\u001b[43mdialect\u001b[49m\u001b[38;5;241;43m.\u001b[39;49m\u001b[43mdo_execute\u001b[49m\u001b[43m(\u001b[49m\n\u001b[1;32m   1968\u001b[0m \u001b[43m            \u001b[49m\u001b[43mcursor\u001b[49m\u001b[43m,\u001b[49m\u001b[43m \u001b[49m\u001b[43mstr_statement\u001b[49m\u001b[43m,\u001b[49m\u001b[43m \u001b[49m\u001b[43meffective_parameters\u001b[49m\u001b[43m,\u001b[49m\u001b[43m \u001b[49m\u001b[43mcontext\u001b[49m\n\u001b[1;32m   1969\u001b[0m \u001b[43m        \u001b[49m\u001b[43m)\u001b[49m\n\u001b[1;32m   1971\u001b[0m \u001b[38;5;28;01mif\u001b[39;00m \u001b[38;5;28mself\u001b[39m\u001b[38;5;241m.\u001b[39m_has_events \u001b[38;5;129;01mor\u001b[39;00m \u001b[38;5;28mself\u001b[39m\u001b[38;5;241m.\u001b[39mengine\u001b[38;5;241m.\u001b[39m_has_events:\n",
      "File \u001b[0;32m/Library/Frameworks/Python.framework/Versions/3.10/lib/python3.10/site-packages/sqlalchemy/engine/default.py:941\u001b[0m, in \u001b[0;36mDefaultDialect.do_execute\u001b[0;34m(self, cursor, statement, parameters, context)\u001b[0m\n\u001b[1;32m    940\u001b[0m \u001b[38;5;28;01mdef\u001b[39;00m \u001b[38;5;21mdo_execute\u001b[39m(\u001b[38;5;28mself\u001b[39m, cursor, statement, parameters, context\u001b[38;5;241m=\u001b[39m\u001b[38;5;28;01mNone\u001b[39;00m):\n\u001b[0;32m--> 941\u001b[0m     \u001b[43mcursor\u001b[49m\u001b[38;5;241;43m.\u001b[39;49m\u001b[43mexecute\u001b[49m\u001b[43m(\u001b[49m\u001b[43mstatement\u001b[49m\u001b[43m,\u001b[49m\u001b[43m \u001b[49m\u001b[43mparameters\u001b[49m\u001b[43m)\u001b[49m\n",
      "File \u001b[0;32m/Library/Frameworks/Python.framework/Versions/3.10/lib/python3.10/site-packages/mysql/connector/cursor_cext.py:351\u001b[0m, in \u001b[0;36mCMySQLCursor.execute\u001b[0;34m(self, operation, params, map_results)\u001b[0m\n\u001b[1;32m    349\u001b[0m \u001b[38;5;28;01mtry\u001b[39;00m:\n\u001b[1;32m    350\u001b[0m     \u001b[38;5;28mself\u001b[39m\u001b[38;5;241m.\u001b[39m_handle_result(\n\u001b[0;32m--> 351\u001b[0m         \u001b[38;5;28;43mself\u001b[39;49m\u001b[38;5;241;43m.\u001b[39;49m\u001b[43m_connection\u001b[49m\u001b[38;5;241;43m.\u001b[39;49m\u001b[43mcmd_query\u001b[49m\u001b[43m(\u001b[49m\n\u001b[1;32m    352\u001b[0m \u001b[43m            \u001b[49m\u001b[38;5;28;43mself\u001b[39;49m\u001b[38;5;241;43m.\u001b[39;49m\u001b[43m_stmt_partition\u001b[49m\u001b[43m[\u001b[49m\u001b[38;5;124;43m\"\u001b[39;49m\u001b[38;5;124;43mmappable_stmt\u001b[39;49m\u001b[38;5;124;43m\"\u001b[39;49m\u001b[43m]\u001b[49m\u001b[43m,\u001b[49m\n\u001b[1;32m    353\u001b[0m \u001b[43m            \u001b[49m\u001b[43mraw\u001b[49m\u001b[38;5;241;43m=\u001b[39;49m\u001b[38;5;28;43mself\u001b[39;49m\u001b[38;5;241;43m.\u001b[39;49m\u001b[43m_raw\u001b[49m\u001b[43m,\u001b[49m\n\u001b[1;32m    354\u001b[0m \u001b[43m            \u001b[49m\u001b[43mbuffered\u001b[49m\u001b[38;5;241;43m=\u001b[39;49m\u001b[38;5;28;43mself\u001b[39;49m\u001b[38;5;241;43m.\u001b[39;49m\u001b[43m_buffered\u001b[49m\u001b[43m,\u001b[49m\n\u001b[1;32m    355\u001b[0m \u001b[43m            \u001b[49m\u001b[43mraw_as_string\u001b[49m\u001b[38;5;241;43m=\u001b[39;49m\u001b[38;5;28;43mself\u001b[39;49m\u001b[38;5;241;43m.\u001b[39;49m\u001b[43m_raw_as_string\u001b[49m\u001b[43m,\u001b[49m\n\u001b[1;32m    356\u001b[0m \u001b[43m        \u001b[49m\u001b[43m)\u001b[49m\n\u001b[1;32m    357\u001b[0m     )\n\u001b[1;32m    358\u001b[0m \u001b[38;5;28;01mexcept\u001b[39;00m MySQLInterfaceError \u001b[38;5;28;01mas\u001b[39;00m err:\n",
      "File \u001b[0;32m/Library/Frameworks/Python.framework/Versions/3.10/lib/python3.10/site-packages/mysql/connector/opentelemetry/context_propagation.py:97\u001b[0m, in \u001b[0;36mwith_context_propagation.<locals>.wrapper\u001b[0;34m(cnx, *args, **kwargs)\u001b[0m\n\u001b[1;32m     96\u001b[0m \u001b[38;5;28;01mif\u001b[39;00m \u001b[38;5;129;01mnot\u001b[39;00m OTEL_ENABLED \u001b[38;5;129;01mor\u001b[39;00m \u001b[38;5;129;01mnot\u001b[39;00m cnx\u001b[38;5;241m.\u001b[39motel_context_propagation:\n\u001b[0;32m---> 97\u001b[0m     \u001b[38;5;28;01mreturn\u001b[39;00m \u001b[43mmethod\u001b[49m\u001b[43m(\u001b[49m\u001b[43mcnx\u001b[49m\u001b[43m,\u001b[49m\u001b[43m \u001b[49m\u001b[38;5;241;43m*\u001b[39;49m\u001b[43margs\u001b[49m\u001b[43m,\u001b[49m\u001b[43m \u001b[49m\u001b[38;5;241;43m*\u001b[39;49m\u001b[38;5;241;43m*\u001b[39;49m\u001b[43mkwargs\u001b[49m\u001b[43m)\u001b[49m\n\u001b[1;32m     99\u001b[0m current_span \u001b[38;5;241m=\u001b[39m trace\u001b[38;5;241m.\u001b[39mget_current_span()\n",
      "File \u001b[0;32m/Library/Frameworks/Python.framework/Versions/3.10/lib/python3.10/site-packages/mysql/connector/connection_cext.py:763\u001b[0m, in \u001b[0;36mCMySQLConnection.cmd_query\u001b[0;34m(self, query, raw, buffered, raw_as_string, **kwargs)\u001b[0m\n\u001b[1;32m    762\u001b[0m \u001b[38;5;28;01mexcept\u001b[39;00m MySQLInterfaceError \u001b[38;5;28;01mas\u001b[39;00m err:\n\u001b[0;32m--> 763\u001b[0m     \u001b[38;5;28;01mraise\u001b[39;00m get_mysql_exception(\n\u001b[1;32m    764\u001b[0m         err\u001b[38;5;241m.\u001b[39merrno, msg\u001b[38;5;241m=\u001b[39merr\u001b[38;5;241m.\u001b[39mmsg, sqlstate\u001b[38;5;241m=\u001b[39merr\u001b[38;5;241m.\u001b[39msqlstate\n\u001b[1;32m    765\u001b[0m     ) \u001b[38;5;28;01mfrom\u001b[39;00m \u001b[38;5;21;01merr\u001b[39;00m\n\u001b[1;32m    766\u001b[0m \u001b[38;5;28;01mexcept\u001b[39;00m \u001b[38;5;167;01mAttributeError\u001b[39;00m \u001b[38;5;28;01mas\u001b[39;00m err:\n",
      "\u001b[0;31mProgrammingError\u001b[0m: 1146 (42S02): Table 'shieldspace.cb_multi_labeled_balanced' doesn't exist",
      "\nThe above exception was the direct cause of the following exception:\n",
      "\u001b[0;31mProgrammingError\u001b[0m                          Traceback (most recent call last)",
      "Cell \u001b[0;32mIn[1], line 54\u001b[0m\n\u001b[1;32m     51\u001b[0m \u001b[38;5;66;03m# ------------------ Load Data from Database ------------------\u001b[39;00m\n\u001b[1;32m     52\u001b[0m \u001b[38;5;66;03m# This query retrieves all records from the table that holds your CSV data.\u001b[39;00m\n\u001b[1;32m     53\u001b[0m query \u001b[38;5;241m=\u001b[39m \u001b[38;5;124m\"\u001b[39m\u001b[38;5;124mSELECT * FROM cb_multi_labeled_balanced\u001b[39m\u001b[38;5;124m\"\u001b[39m\n\u001b[0;32m---> 54\u001b[0m df \u001b[38;5;241m=\u001b[39m \u001b[43mpd\u001b[49m\u001b[38;5;241;43m.\u001b[39;49m\u001b[43mread_sql\u001b[49m\u001b[43m(\u001b[49m\u001b[43mquery\u001b[49m\u001b[43m,\u001b[49m\u001b[43m \u001b[49m\u001b[43mengine\u001b[49m\u001b[43m)\u001b[49m\n\u001b[1;32m     56\u001b[0m \u001b[38;5;66;03m# Filter out rows labeled as 'not_cyberbullying'\u001b[39;00m\n\u001b[1;32m     57\u001b[0m df \u001b[38;5;241m=\u001b[39m df[df[\u001b[38;5;124m'\u001b[39m\u001b[38;5;124mlabel\u001b[39m\u001b[38;5;124m'\u001b[39m] \u001b[38;5;241m!=\u001b[39m \u001b[38;5;124m'\u001b[39m\u001b[38;5;124mnot_cyberbullying\u001b[39m\u001b[38;5;124m'\u001b[39m]\n",
      "File \u001b[0;32m/Library/Frameworks/Python.framework/Versions/3.10/lib/python3.10/site-packages/pandas/io/sql.py:734\u001b[0m, in \u001b[0;36mread_sql\u001b[0;34m(sql, con, index_col, coerce_float, params, parse_dates, columns, chunksize, dtype_backend, dtype)\u001b[0m\n\u001b[1;32m    724\u001b[0m     \u001b[38;5;28;01mreturn\u001b[39;00m pandas_sql\u001b[38;5;241m.\u001b[39mread_table(\n\u001b[1;32m    725\u001b[0m         sql,\n\u001b[1;32m    726\u001b[0m         index_col\u001b[38;5;241m=\u001b[39mindex_col,\n\u001b[0;32m   (...)\u001b[0m\n\u001b[1;32m    731\u001b[0m         dtype_backend\u001b[38;5;241m=\u001b[39mdtype_backend,\n\u001b[1;32m    732\u001b[0m     )\n\u001b[1;32m    733\u001b[0m \u001b[38;5;28;01melse\u001b[39;00m:\n\u001b[0;32m--> 734\u001b[0m     \u001b[38;5;28;01mreturn\u001b[39;00m \u001b[43mpandas_sql\u001b[49m\u001b[38;5;241;43m.\u001b[39;49m\u001b[43mread_query\u001b[49m\u001b[43m(\u001b[49m\n\u001b[1;32m    735\u001b[0m \u001b[43m        \u001b[49m\u001b[43msql\u001b[49m\u001b[43m,\u001b[49m\n\u001b[1;32m    736\u001b[0m \u001b[43m        \u001b[49m\u001b[43mindex_col\u001b[49m\u001b[38;5;241;43m=\u001b[39;49m\u001b[43mindex_col\u001b[49m\u001b[43m,\u001b[49m\n\u001b[1;32m    737\u001b[0m \u001b[43m        \u001b[49m\u001b[43mparams\u001b[49m\u001b[38;5;241;43m=\u001b[39;49m\u001b[43mparams\u001b[49m\u001b[43m,\u001b[49m\n\u001b[1;32m    738\u001b[0m \u001b[43m        \u001b[49m\u001b[43mcoerce_float\u001b[49m\u001b[38;5;241;43m=\u001b[39;49m\u001b[43mcoerce_float\u001b[49m\u001b[43m,\u001b[49m\n\u001b[1;32m    739\u001b[0m \u001b[43m        \u001b[49m\u001b[43mparse_dates\u001b[49m\u001b[38;5;241;43m=\u001b[39;49m\u001b[43mparse_dates\u001b[49m\u001b[43m,\u001b[49m\n\u001b[1;32m    740\u001b[0m \u001b[43m        \u001b[49m\u001b[43mchunksize\u001b[49m\u001b[38;5;241;43m=\u001b[39;49m\u001b[43mchunksize\u001b[49m\u001b[43m,\u001b[49m\n\u001b[1;32m    741\u001b[0m \u001b[43m        \u001b[49m\u001b[43mdtype_backend\u001b[49m\u001b[38;5;241;43m=\u001b[39;49m\u001b[43mdtype_backend\u001b[49m\u001b[43m,\u001b[49m\n\u001b[1;32m    742\u001b[0m \u001b[43m        \u001b[49m\u001b[43mdtype\u001b[49m\u001b[38;5;241;43m=\u001b[39;49m\u001b[43mdtype\u001b[49m\u001b[43m,\u001b[49m\n\u001b[1;32m    743\u001b[0m \u001b[43m    \u001b[49m\u001b[43m)\u001b[49m\n",
      "File \u001b[0;32m/Library/Frameworks/Python.framework/Versions/3.10/lib/python3.10/site-packages/pandas/io/sql.py:1836\u001b[0m, in \u001b[0;36mSQLDatabase.read_query\u001b[0;34m(self, sql, index_col, coerce_float, parse_dates, params, chunksize, dtype, dtype_backend)\u001b[0m\n\u001b[1;32m   1779\u001b[0m \u001b[38;5;28;01mdef\u001b[39;00m \u001b[38;5;21mread_query\u001b[39m(\n\u001b[1;32m   1780\u001b[0m     \u001b[38;5;28mself\u001b[39m,\n\u001b[1;32m   1781\u001b[0m     sql: \u001b[38;5;28mstr\u001b[39m,\n\u001b[0;32m   (...)\u001b[0m\n\u001b[1;32m   1788\u001b[0m     dtype_backend: DtypeBackend \u001b[38;5;241m|\u001b[39m Literal[\u001b[38;5;124m\"\u001b[39m\u001b[38;5;124mnumpy\u001b[39m\u001b[38;5;124m\"\u001b[39m] \u001b[38;5;241m=\u001b[39m \u001b[38;5;124m\"\u001b[39m\u001b[38;5;124mnumpy\u001b[39m\u001b[38;5;124m\"\u001b[39m,\n\u001b[1;32m   1789\u001b[0m ) \u001b[38;5;241m-\u001b[39m\u001b[38;5;241m>\u001b[39m DataFrame \u001b[38;5;241m|\u001b[39m Iterator[DataFrame]:\n\u001b[1;32m   1790\u001b[0m \u001b[38;5;250m    \u001b[39m\u001b[38;5;124;03m\"\"\"\u001b[39;00m\n\u001b[1;32m   1791\u001b[0m \u001b[38;5;124;03m    Read SQL query into a DataFrame.\u001b[39;00m\n\u001b[1;32m   1792\u001b[0m \n\u001b[0;32m   (...)\u001b[0m\n\u001b[1;32m   1834\u001b[0m \n\u001b[1;32m   1835\u001b[0m \u001b[38;5;124;03m    \"\"\"\u001b[39;00m\n\u001b[0;32m-> 1836\u001b[0m     result \u001b[38;5;241m=\u001b[39m \u001b[38;5;28;43mself\u001b[39;49m\u001b[38;5;241;43m.\u001b[39;49m\u001b[43mexecute\u001b[49m\u001b[43m(\u001b[49m\u001b[43msql\u001b[49m\u001b[43m,\u001b[49m\u001b[43m \u001b[49m\u001b[43mparams\u001b[49m\u001b[43m)\u001b[49m\n\u001b[1;32m   1837\u001b[0m     columns \u001b[38;5;241m=\u001b[39m result\u001b[38;5;241m.\u001b[39mkeys()\n\u001b[1;32m   1839\u001b[0m     \u001b[38;5;28;01mif\u001b[39;00m chunksize \u001b[38;5;129;01mis\u001b[39;00m \u001b[38;5;129;01mnot\u001b[39;00m \u001b[38;5;28;01mNone\u001b[39;00m:\n",
      "File \u001b[0;32m/Library/Frameworks/Python.framework/Versions/3.10/lib/python3.10/site-packages/pandas/io/sql.py:1659\u001b[0m, in \u001b[0;36mSQLDatabase.execute\u001b[0;34m(self, sql, params)\u001b[0m\n\u001b[1;32m   1657\u001b[0m args \u001b[38;5;241m=\u001b[39m [] \u001b[38;5;28;01mif\u001b[39;00m params \u001b[38;5;129;01mis\u001b[39;00m \u001b[38;5;28;01mNone\u001b[39;00m \u001b[38;5;28;01melse\u001b[39;00m [params]\n\u001b[1;32m   1658\u001b[0m \u001b[38;5;28;01mif\u001b[39;00m \u001b[38;5;28misinstance\u001b[39m(sql, \u001b[38;5;28mstr\u001b[39m):\n\u001b[0;32m-> 1659\u001b[0m     \u001b[38;5;28;01mreturn\u001b[39;00m \u001b[38;5;28;43mself\u001b[39;49m\u001b[38;5;241;43m.\u001b[39;49m\u001b[43mcon\u001b[49m\u001b[38;5;241;43m.\u001b[39;49m\u001b[43mexec_driver_sql\u001b[49m\u001b[43m(\u001b[49m\u001b[43msql\u001b[49m\u001b[43m,\u001b[49m\u001b[43m \u001b[49m\u001b[38;5;241;43m*\u001b[39;49m\u001b[43margs\u001b[49m\u001b[43m)\u001b[49m\n\u001b[1;32m   1660\u001b[0m \u001b[38;5;28;01mreturn\u001b[39;00m \u001b[38;5;28mself\u001b[39m\u001b[38;5;241m.\u001b[39mcon\u001b[38;5;241m.\u001b[39mexecute(sql, \u001b[38;5;241m*\u001b[39margs)\n",
      "File \u001b[0;32m/Library/Frameworks/Python.framework/Versions/3.10/lib/python3.10/site-packages/sqlalchemy/engine/base.py:1779\u001b[0m, in \u001b[0;36mConnection.exec_driver_sql\u001b[0;34m(self, statement, parameters, execution_options)\u001b[0m\n\u001b[1;32m   1774\u001b[0m execution_options \u001b[38;5;241m=\u001b[39m \u001b[38;5;28mself\u001b[39m\u001b[38;5;241m.\u001b[39m_execution_options\u001b[38;5;241m.\u001b[39mmerge_with(\n\u001b[1;32m   1775\u001b[0m     execution_options\n\u001b[1;32m   1776\u001b[0m )\n\u001b[1;32m   1778\u001b[0m dialect \u001b[38;5;241m=\u001b[39m \u001b[38;5;28mself\u001b[39m\u001b[38;5;241m.\u001b[39mdialect\n\u001b[0;32m-> 1779\u001b[0m ret \u001b[38;5;241m=\u001b[39m \u001b[38;5;28;43mself\u001b[39;49m\u001b[38;5;241;43m.\u001b[39;49m\u001b[43m_execute_context\u001b[49m\u001b[43m(\u001b[49m\n\u001b[1;32m   1780\u001b[0m \u001b[43m    \u001b[49m\u001b[43mdialect\u001b[49m\u001b[43m,\u001b[49m\n\u001b[1;32m   1781\u001b[0m \u001b[43m    \u001b[49m\u001b[43mdialect\u001b[49m\u001b[38;5;241;43m.\u001b[39;49m\u001b[43mexecution_ctx_cls\u001b[49m\u001b[38;5;241;43m.\u001b[39;49m\u001b[43m_init_statement\u001b[49m\u001b[43m,\u001b[49m\n\u001b[1;32m   1782\u001b[0m \u001b[43m    \u001b[49m\u001b[43mstatement\u001b[49m\u001b[43m,\u001b[49m\n\u001b[1;32m   1783\u001b[0m \u001b[43m    \u001b[49m\u001b[38;5;28;43;01mNone\u001b[39;49;00m\u001b[43m,\u001b[49m\n\u001b[1;32m   1784\u001b[0m \u001b[43m    \u001b[49m\u001b[43mexecution_options\u001b[49m\u001b[43m,\u001b[49m\n\u001b[1;32m   1785\u001b[0m \u001b[43m    \u001b[49m\u001b[43mstatement\u001b[49m\u001b[43m,\u001b[49m\n\u001b[1;32m   1786\u001b[0m \u001b[43m    \u001b[49m\u001b[43mdistilled_parameters\u001b[49m\u001b[43m,\u001b[49m\n\u001b[1;32m   1787\u001b[0m \u001b[43m\u001b[49m\u001b[43m)\u001b[49m\n\u001b[1;32m   1789\u001b[0m \u001b[38;5;28;01mreturn\u001b[39;00m ret\n",
      "File \u001b[0;32m/Library/Frameworks/Python.framework/Versions/3.10/lib/python3.10/site-packages/sqlalchemy/engine/base.py:1846\u001b[0m, in \u001b[0;36mConnection._execute_context\u001b[0;34m(self, dialect, constructor, statement, parameters, execution_options, *args, **kw)\u001b[0m\n\u001b[1;32m   1844\u001b[0m     \u001b[38;5;28;01mreturn\u001b[39;00m \u001b[38;5;28mself\u001b[39m\u001b[38;5;241m.\u001b[39m_exec_insertmany_context(dialect, context)\n\u001b[1;32m   1845\u001b[0m \u001b[38;5;28;01melse\u001b[39;00m:\n\u001b[0;32m-> 1846\u001b[0m     \u001b[38;5;28;01mreturn\u001b[39;00m \u001b[38;5;28;43mself\u001b[39;49m\u001b[38;5;241;43m.\u001b[39;49m\u001b[43m_exec_single_context\u001b[49m\u001b[43m(\u001b[49m\n\u001b[1;32m   1847\u001b[0m \u001b[43m        \u001b[49m\u001b[43mdialect\u001b[49m\u001b[43m,\u001b[49m\u001b[43m \u001b[49m\u001b[43mcontext\u001b[49m\u001b[43m,\u001b[49m\u001b[43m \u001b[49m\u001b[43mstatement\u001b[49m\u001b[43m,\u001b[49m\u001b[43m \u001b[49m\u001b[43mparameters\u001b[49m\n\u001b[1;32m   1848\u001b[0m \u001b[43m    \u001b[49m\u001b[43m)\u001b[49m\n",
      "File \u001b[0;32m/Library/Frameworks/Python.framework/Versions/3.10/lib/python3.10/site-packages/sqlalchemy/engine/base.py:1986\u001b[0m, in \u001b[0;36mConnection._exec_single_context\u001b[0;34m(self, dialect, context, statement, parameters)\u001b[0m\n\u001b[1;32m   1983\u001b[0m     result \u001b[38;5;241m=\u001b[39m context\u001b[38;5;241m.\u001b[39m_setup_result_proxy()\n\u001b[1;32m   1985\u001b[0m \u001b[38;5;28;01mexcept\u001b[39;00m \u001b[38;5;167;01mBaseException\u001b[39;00m \u001b[38;5;28;01mas\u001b[39;00m e:\n\u001b[0;32m-> 1986\u001b[0m     \u001b[38;5;28;43mself\u001b[39;49m\u001b[38;5;241;43m.\u001b[39;49m\u001b[43m_handle_dbapi_exception\u001b[49m\u001b[43m(\u001b[49m\n\u001b[1;32m   1987\u001b[0m \u001b[43m        \u001b[49m\u001b[43me\u001b[49m\u001b[43m,\u001b[49m\u001b[43m \u001b[49m\u001b[43mstr_statement\u001b[49m\u001b[43m,\u001b[49m\u001b[43m \u001b[49m\u001b[43meffective_parameters\u001b[49m\u001b[43m,\u001b[49m\u001b[43m \u001b[49m\u001b[43mcursor\u001b[49m\u001b[43m,\u001b[49m\u001b[43m \u001b[49m\u001b[43mcontext\u001b[49m\n\u001b[1;32m   1988\u001b[0m \u001b[43m    \u001b[49m\u001b[43m)\u001b[49m\n\u001b[1;32m   1990\u001b[0m \u001b[38;5;28;01mreturn\u001b[39;00m result\n",
      "File \u001b[0;32m/Library/Frameworks/Python.framework/Versions/3.10/lib/python3.10/site-packages/sqlalchemy/engine/base.py:2355\u001b[0m, in \u001b[0;36mConnection._handle_dbapi_exception\u001b[0;34m(self, e, statement, parameters, cursor, context, is_sub_exec)\u001b[0m\n\u001b[1;32m   2353\u001b[0m \u001b[38;5;28;01melif\u001b[39;00m should_wrap:\n\u001b[1;32m   2354\u001b[0m     \u001b[38;5;28;01massert\u001b[39;00m sqlalchemy_exception \u001b[38;5;129;01mis\u001b[39;00m \u001b[38;5;129;01mnot\u001b[39;00m \u001b[38;5;28;01mNone\u001b[39;00m\n\u001b[0;32m-> 2355\u001b[0m     \u001b[38;5;28;01mraise\u001b[39;00m sqlalchemy_exception\u001b[38;5;241m.\u001b[39mwith_traceback(exc_info[\u001b[38;5;241m2\u001b[39m]) \u001b[38;5;28;01mfrom\u001b[39;00m \u001b[38;5;21;01me\u001b[39;00m\n\u001b[1;32m   2356\u001b[0m \u001b[38;5;28;01melse\u001b[39;00m:\n\u001b[1;32m   2357\u001b[0m     \u001b[38;5;28;01massert\u001b[39;00m exc_info[\u001b[38;5;241m1\u001b[39m] \u001b[38;5;129;01mis\u001b[39;00m \u001b[38;5;129;01mnot\u001b[39;00m \u001b[38;5;28;01mNone\u001b[39;00m\n",
      "File \u001b[0;32m/Library/Frameworks/Python.framework/Versions/3.10/lib/python3.10/site-packages/sqlalchemy/engine/base.py:1967\u001b[0m, in \u001b[0;36mConnection._exec_single_context\u001b[0;34m(self, dialect, context, statement, parameters)\u001b[0m\n\u001b[1;32m   1965\u001b[0m                 \u001b[38;5;28;01mbreak\u001b[39;00m\n\u001b[1;32m   1966\u001b[0m     \u001b[38;5;28;01mif\u001b[39;00m \u001b[38;5;129;01mnot\u001b[39;00m evt_handled:\n\u001b[0;32m-> 1967\u001b[0m         \u001b[38;5;28;43mself\u001b[39;49m\u001b[38;5;241;43m.\u001b[39;49m\u001b[43mdialect\u001b[49m\u001b[38;5;241;43m.\u001b[39;49m\u001b[43mdo_execute\u001b[49m\u001b[43m(\u001b[49m\n\u001b[1;32m   1968\u001b[0m \u001b[43m            \u001b[49m\u001b[43mcursor\u001b[49m\u001b[43m,\u001b[49m\u001b[43m \u001b[49m\u001b[43mstr_statement\u001b[49m\u001b[43m,\u001b[49m\u001b[43m \u001b[49m\u001b[43meffective_parameters\u001b[49m\u001b[43m,\u001b[49m\u001b[43m \u001b[49m\u001b[43mcontext\u001b[49m\n\u001b[1;32m   1969\u001b[0m \u001b[43m        \u001b[49m\u001b[43m)\u001b[49m\n\u001b[1;32m   1971\u001b[0m \u001b[38;5;28;01mif\u001b[39;00m \u001b[38;5;28mself\u001b[39m\u001b[38;5;241m.\u001b[39m_has_events \u001b[38;5;129;01mor\u001b[39;00m \u001b[38;5;28mself\u001b[39m\u001b[38;5;241m.\u001b[39mengine\u001b[38;5;241m.\u001b[39m_has_events:\n\u001b[1;32m   1972\u001b[0m     \u001b[38;5;28mself\u001b[39m\u001b[38;5;241m.\u001b[39mdispatch\u001b[38;5;241m.\u001b[39mafter_cursor_execute(\n\u001b[1;32m   1973\u001b[0m         \u001b[38;5;28mself\u001b[39m,\n\u001b[1;32m   1974\u001b[0m         cursor,\n\u001b[0;32m   (...)\u001b[0m\n\u001b[1;32m   1978\u001b[0m         context\u001b[38;5;241m.\u001b[39mexecutemany,\n\u001b[1;32m   1979\u001b[0m     )\n",
      "File \u001b[0;32m/Library/Frameworks/Python.framework/Versions/3.10/lib/python3.10/site-packages/sqlalchemy/engine/default.py:941\u001b[0m, in \u001b[0;36mDefaultDialect.do_execute\u001b[0;34m(self, cursor, statement, parameters, context)\u001b[0m\n\u001b[1;32m    940\u001b[0m \u001b[38;5;28;01mdef\u001b[39;00m \u001b[38;5;21mdo_execute\u001b[39m(\u001b[38;5;28mself\u001b[39m, cursor, statement, parameters, context\u001b[38;5;241m=\u001b[39m\u001b[38;5;28;01mNone\u001b[39;00m):\n\u001b[0;32m--> 941\u001b[0m     \u001b[43mcursor\u001b[49m\u001b[38;5;241;43m.\u001b[39;49m\u001b[43mexecute\u001b[49m\u001b[43m(\u001b[49m\u001b[43mstatement\u001b[49m\u001b[43m,\u001b[49m\u001b[43m \u001b[49m\u001b[43mparameters\u001b[49m\u001b[43m)\u001b[49m\n",
      "File \u001b[0;32m/Library/Frameworks/Python.framework/Versions/3.10/lib/python3.10/site-packages/mysql/connector/cursor_cext.py:351\u001b[0m, in \u001b[0;36mCMySQLCursor.execute\u001b[0;34m(self, operation, params, map_results)\u001b[0m\n\u001b[1;32m    343\u001b[0m \u001b[38;5;28mself\u001b[39m\u001b[38;5;241m.\u001b[39m_executed \u001b[38;5;241m=\u001b[39m (\n\u001b[1;32m    344\u001b[0m     \u001b[38;5;28mself\u001b[39m\u001b[38;5;241m.\u001b[39m_stmt_partition[\u001b[38;5;124m\"\u001b[39m\u001b[38;5;124msingle_stmts\u001b[39m\u001b[38;5;124m\"\u001b[39m]\u001b[38;5;241m.\u001b[39mpopleft()\n\u001b[1;32m    345\u001b[0m     \u001b[38;5;28;01mif\u001b[39;00m map_results\n\u001b[1;32m    346\u001b[0m     \u001b[38;5;28;01melse\u001b[39;00m \u001b[38;5;28mself\u001b[39m\u001b[38;5;241m.\u001b[39m_stmt_partition[\u001b[38;5;124m\"\u001b[39m\u001b[38;5;124mmappable_stmt\u001b[39m\u001b[38;5;124m\"\u001b[39m]\n\u001b[1;32m    347\u001b[0m )\n\u001b[1;32m    349\u001b[0m \u001b[38;5;28;01mtry\u001b[39;00m:\n\u001b[1;32m    350\u001b[0m     \u001b[38;5;28mself\u001b[39m\u001b[38;5;241m.\u001b[39m_handle_result(\n\u001b[0;32m--> 351\u001b[0m         \u001b[38;5;28;43mself\u001b[39;49m\u001b[38;5;241;43m.\u001b[39;49m\u001b[43m_connection\u001b[49m\u001b[38;5;241;43m.\u001b[39;49m\u001b[43mcmd_query\u001b[49m\u001b[43m(\u001b[49m\n\u001b[1;32m    352\u001b[0m \u001b[43m            \u001b[49m\u001b[38;5;28;43mself\u001b[39;49m\u001b[38;5;241;43m.\u001b[39;49m\u001b[43m_stmt_partition\u001b[49m\u001b[43m[\u001b[49m\u001b[38;5;124;43m\"\u001b[39;49m\u001b[38;5;124;43mmappable_stmt\u001b[39;49m\u001b[38;5;124;43m\"\u001b[39;49m\u001b[43m]\u001b[49m\u001b[43m,\u001b[49m\n\u001b[1;32m    353\u001b[0m \u001b[43m            \u001b[49m\u001b[43mraw\u001b[49m\u001b[38;5;241;43m=\u001b[39;49m\u001b[38;5;28;43mself\u001b[39;49m\u001b[38;5;241;43m.\u001b[39;49m\u001b[43m_raw\u001b[49m\u001b[43m,\u001b[49m\n\u001b[1;32m    354\u001b[0m \u001b[43m            \u001b[49m\u001b[43mbuffered\u001b[49m\u001b[38;5;241;43m=\u001b[39;49m\u001b[38;5;28;43mself\u001b[39;49m\u001b[38;5;241;43m.\u001b[39;49m\u001b[43m_buffered\u001b[49m\u001b[43m,\u001b[49m\n\u001b[1;32m    355\u001b[0m \u001b[43m            \u001b[49m\u001b[43mraw_as_string\u001b[49m\u001b[38;5;241;43m=\u001b[39;49m\u001b[38;5;28;43mself\u001b[39;49m\u001b[38;5;241;43m.\u001b[39;49m\u001b[43m_raw_as_string\u001b[49m\u001b[43m,\u001b[49m\n\u001b[1;32m    356\u001b[0m \u001b[43m        \u001b[49m\u001b[43m)\u001b[49m\n\u001b[1;32m    357\u001b[0m     )\n\u001b[1;32m    358\u001b[0m \u001b[38;5;28;01mexcept\u001b[39;00m MySQLInterfaceError \u001b[38;5;28;01mas\u001b[39;00m err:\n\u001b[1;32m    359\u001b[0m     \u001b[38;5;28;01mraise\u001b[39;00m get_mysql_exception(\n\u001b[1;32m    360\u001b[0m         msg\u001b[38;5;241m=\u001b[39merr\u001b[38;5;241m.\u001b[39mmsg, errno\u001b[38;5;241m=\u001b[39merr\u001b[38;5;241m.\u001b[39merrno, sqlstate\u001b[38;5;241m=\u001b[39merr\u001b[38;5;241m.\u001b[39msqlstate\n\u001b[1;32m    361\u001b[0m     ) \u001b[38;5;28;01mfrom\u001b[39;00m \u001b[38;5;21;01merr\u001b[39;00m\n",
      "File \u001b[0;32m/Library/Frameworks/Python.framework/Versions/3.10/lib/python3.10/site-packages/mysql/connector/opentelemetry/context_propagation.py:97\u001b[0m, in \u001b[0;36mwith_context_propagation.<locals>.wrapper\u001b[0;34m(cnx, *args, **kwargs)\u001b[0m\n\u001b[1;32m     95\u001b[0m \u001b[38;5;66;03m# pylint: disable=possibly-used-before-assignment\u001b[39;00m\n\u001b[1;32m     96\u001b[0m \u001b[38;5;28;01mif\u001b[39;00m \u001b[38;5;129;01mnot\u001b[39;00m OTEL_ENABLED \u001b[38;5;129;01mor\u001b[39;00m \u001b[38;5;129;01mnot\u001b[39;00m cnx\u001b[38;5;241m.\u001b[39motel_context_propagation:\n\u001b[0;32m---> 97\u001b[0m     \u001b[38;5;28;01mreturn\u001b[39;00m \u001b[43mmethod\u001b[49m\u001b[43m(\u001b[49m\u001b[43mcnx\u001b[49m\u001b[43m,\u001b[49m\u001b[43m \u001b[49m\u001b[38;5;241;43m*\u001b[39;49m\u001b[43margs\u001b[49m\u001b[43m,\u001b[49m\u001b[43m \u001b[49m\u001b[38;5;241;43m*\u001b[39;49m\u001b[38;5;241;43m*\u001b[39;49m\u001b[43mkwargs\u001b[49m\u001b[43m)\u001b[49m\n\u001b[1;32m     99\u001b[0m current_span \u001b[38;5;241m=\u001b[39m trace\u001b[38;5;241m.\u001b[39mget_current_span()\n\u001b[1;32m    100\u001b[0m tp_header \u001b[38;5;241m=\u001b[39m \u001b[38;5;28;01mNone\u001b[39;00m\n",
      "File \u001b[0;32m/Library/Frameworks/Python.framework/Versions/3.10/lib/python3.10/site-packages/mysql/connector/connection_cext.py:763\u001b[0m, in \u001b[0;36mCMySQLConnection.cmd_query\u001b[0;34m(self, query, raw, buffered, raw_as_string, **kwargs)\u001b[0m\n\u001b[1;32m    755\u001b[0m     \u001b[38;5;28mself\u001b[39m\u001b[38;5;241m.\u001b[39m_cmysql\u001b[38;5;241m.\u001b[39mquery(\n\u001b[1;32m    756\u001b[0m         query,\n\u001b[1;32m    757\u001b[0m         raw\u001b[38;5;241m=\u001b[39mraw,\n\u001b[0;32m   (...)\u001b[0m\n\u001b[1;32m    760\u001b[0m         query_attrs\u001b[38;5;241m=\u001b[39m\u001b[38;5;28mself\u001b[39m\u001b[38;5;241m.\u001b[39mquery_attrs,\n\u001b[1;32m    761\u001b[0m     )\n\u001b[1;32m    762\u001b[0m \u001b[38;5;28;01mexcept\u001b[39;00m MySQLInterfaceError \u001b[38;5;28;01mas\u001b[39;00m err:\n\u001b[0;32m--> 763\u001b[0m     \u001b[38;5;28;01mraise\u001b[39;00m get_mysql_exception(\n\u001b[1;32m    764\u001b[0m         err\u001b[38;5;241m.\u001b[39merrno, msg\u001b[38;5;241m=\u001b[39merr\u001b[38;5;241m.\u001b[39mmsg, sqlstate\u001b[38;5;241m=\u001b[39merr\u001b[38;5;241m.\u001b[39msqlstate\n\u001b[1;32m    765\u001b[0m     ) \u001b[38;5;28;01mfrom\u001b[39;00m \u001b[38;5;21;01merr\u001b[39;00m\n\u001b[1;32m    766\u001b[0m \u001b[38;5;28;01mexcept\u001b[39;00m \u001b[38;5;167;01mAttributeError\u001b[39;00m \u001b[38;5;28;01mas\u001b[39;00m err:\n\u001b[1;32m    767\u001b[0m     addr \u001b[38;5;241m=\u001b[39m (\n\u001b[1;32m    768\u001b[0m         \u001b[38;5;28mself\u001b[39m\u001b[38;5;241m.\u001b[39m_unix_socket \u001b[38;5;28;01mif\u001b[39;00m \u001b[38;5;28mself\u001b[39m\u001b[38;5;241m.\u001b[39m_unix_socket \u001b[38;5;28;01melse\u001b[39;00m \u001b[38;5;124mf\u001b[39m\u001b[38;5;124m\"\u001b[39m\u001b[38;5;132;01m{\u001b[39;00m\u001b[38;5;28mself\u001b[39m\u001b[38;5;241m.\u001b[39m_host\u001b[38;5;132;01m}\u001b[39;00m\u001b[38;5;124m:\u001b[39m\u001b[38;5;132;01m{\u001b[39;00m\u001b[38;5;28mself\u001b[39m\u001b[38;5;241m.\u001b[39m_port\u001b[38;5;132;01m}\u001b[39;00m\u001b[38;5;124m\"\u001b[39m\n\u001b[1;32m    769\u001b[0m     )\n",
      "\u001b[0;31mProgrammingError\u001b[0m: (mysql.connector.errors.ProgrammingError) 1146 (42S02): Table 'shieldspace.cb_multi_labeled_balanced' doesn't exist\n[SQL: SELECT * FROM cb_multi_labeled_balanced]\n(Background on this error at: https://sqlalche.me/e/20/f405)"
     ]
    }
   ],
   "source": [
    "# import pandas as pd\n",
    "# import plotly.graph_objects as go\n",
    "# import plotly.express as px\n",
    "# import re, string\n",
    "\n",
    "# # ------------------ Load and Preprocess Data ------------------\n",
    "# df = pd.read_csv(\"cb_multi_labeled_balanced.csv\")\n",
    "# # Filter out rows labeled as 'not_cyberbullying'\n",
    "# df = df[df['label'] != 'not_cyberbullying']\n",
    "\n",
    "# def preprocess_text(text):\n",
    "#     \"\"\"Lowercase, remove punctuation, digits, and extra spaces.\"\"\"\n",
    "#     text = str(text).lower()\n",
    "#     text = text.translate(str.maketrans('', '', string.punctuation))\n",
    "#     text = re.sub(r'\\d+', '', text)\n",
    "#     text = re.sub(r'\\s+', ' ', text).strip()\n",
    "#     return text\n",
    "\n",
    "# df['cleaned_text'] = df['text'].apply(preprocess_text)\n",
    "\n",
    "# # ------------------ Create Donut Chart ------------------\n",
    "# label_counts = df['label'].value_counts()\n",
    "# labels = label_counts.index.tolist()\n",
    "# counts = label_counts.values.tolist()\n",
    "\n",
    "# fig = go.Figure(data=[go.Pie(labels=labels, values=counts, hole=0.4,\n",
    "#                               marker=dict(colors=px.colors.qualitative.Plotly))])\n",
    "# fig.update_layout(title_text=\"Distribution of Cyber Bullying Categories\",\n",
    "#                   width=1000, height=800)\n",
    "\n",
    "# # ------------------ Display the Visualization ------------------\n",
    "# fig.show()\n",
    "\n",
    "\n",
    "\n",
    "import pandas as pd\n",
    "import plotly.graph_objects as go\n",
    "import plotly.express as px\n",
    "import re, string\n",
    "from sqlalchemy import create_engine\n",
    "\n",
    "# ------------------ Database Connection ------------------\n",
    "username = 'admin'      # Replace with your RDS username\n",
    "password = 'fit5120ta30'      # Replace with your RDS password\n",
    "host = 'shieldspace.ck1sygqoe3hd.us-east-1.rds.amazonaws.com'\n",
    "database = 'shieldspace'\n",
    "\n",
    "# Create the connection string and engine for MySQL\n",
    "engine = create_engine(f\"mysql+mysqlconnector://{username}:{password}@{host}/{database}\")\n",
    "\n",
    "# ------------------ Load Data from Database ------------------\n",
    "# This query retrieves all records from the table that holds your CSV data.\n",
    "query = \"SELECT * FROM cb_multi_labeled_balanced\"\n",
    "df = pd.read_sql(query, engine)\n",
    "\n",
    "# Filter out rows labeled as 'not_cyberbullying'\n",
    "df = df[df['label'] != 'not_cyberbullying']\n",
    "\n",
    "# ------------------ Preprocess Data ------------------\n",
    "def preprocess_text(text):\n",
    "    \"\"\"Lowercase, remove punctuation, digits, and extra spaces.\"\"\"\n",
    "    text = str(text).lower()\n",
    "    text = text.translate(str.maketrans('', '', string.punctuation))\n",
    "    text = re.sub(r'\\d+', '', text)\n",
    "    text = re.sub(r'\\s+', ' ', text).strip()\n",
    "    return text\n",
    "\n",
    "df['cleaned_text'] = df['text'].apply(preprocess_text)\n",
    "\n",
    "# ------------------ Create Donut Chart ------------------\n",
    "label_counts = df['label'].value_counts()\n",
    "labels = label_counts.index.tolist()\n",
    "counts = label_counts.values.tolist()\n",
    "\n",
    "fig = go.Figure(data=[go.Pie(labels=labels, values=counts, hole=0.4,\n",
    "                              marker=dict(colors=px.colors.qualitative.Plotly))])\n",
    "fig.update_layout(title_text=\"Distribution of Cyber Bullying Categories\",\n",
    "                  width=1000, height=800)\n",
    "\n",
    "# ------------------ Display the Visualization ------------------\n",
    "fig.show()"
   ]
  },
  {
   "cell_type": "code",
   "execution_count": 2,
   "metadata": {},
   "outputs": [
    {
     "ename": "FileNotFoundError",
     "evalue": "[Errno 2] No such file or directory: 'cb_multi_labeled_balanced.csv'",
     "output_type": "error",
     "traceback": [
      "\u001b[0;31m---------------------------------------------------------------------------\u001b[0m",
      "\u001b[0;31mFileNotFoundError\u001b[0m                         Traceback (most recent call last)",
      "Cell \u001b[0;32mIn[2], line 22\u001b[0m\n\u001b[1;32m     18\u001b[0m     \u001b[38;5;28mprint\u001b[39m(\u001b[38;5;124mf\u001b[39m\u001b[38;5;124m\"\u001b[39m\u001b[38;5;124mNumber of Columns: \u001b[39m\u001b[38;5;132;01m{\u001b[39;00mcolumns\u001b[38;5;132;01m}\u001b[39;00m\u001b[38;5;124m\"\u001b[39m)\n\u001b[1;32m     20\u001b[0m \u001b[38;5;66;03m# Example usage:\u001b[39;00m\n\u001b[1;32m     21\u001b[0m \u001b[38;5;66;03m# Replace 'your_file.csv' with the path to your CSV file.\u001b[39;00m\n\u001b[0;32m---> 22\u001b[0m \u001b[43manalyze_csv\u001b[49m\u001b[43m(\u001b[49m\u001b[38;5;124;43m'\u001b[39;49m\u001b[38;5;124;43myour_file.csv\u001b[39;49m\u001b[38;5;124;43m'\u001b[39;49m\u001b[43m)\u001b[49m\n",
      "Cell \u001b[0;32mIn[2], line 5\u001b[0m, in \u001b[0;36manalyze_csv\u001b[0;34m(file_path)\u001b[0m\n\u001b[1;32m      3\u001b[0m \u001b[38;5;28;01mdef\u001b[39;00m \u001b[38;5;21manalyze_csv\u001b[39m(file_path):\n\u001b[1;32m      4\u001b[0m     \u001b[38;5;66;03m# Read the CSV file into a DataFrame\u001b[39;00m\n\u001b[0;32m----> 5\u001b[0m     df \u001b[38;5;241m=\u001b[39m \u001b[43mpd\u001b[49m\u001b[38;5;241;43m.\u001b[39;49m\u001b[43mread_csv\u001b[49m\u001b[43m(\u001b[49m\u001b[38;5;124;43m\"\u001b[39;49m\u001b[38;5;124;43mcb_multi_labeled_balanced.csv\u001b[39;49m\u001b[38;5;124;43m\"\u001b[39;49m\u001b[43m)\u001b[49m\n\u001b[1;32m      7\u001b[0m     \u001b[38;5;66;03m# Print column names\u001b[39;00m\n\u001b[1;32m      8\u001b[0m     \u001b[38;5;28mprint\u001b[39m(\u001b[38;5;124m\"\u001b[39m\u001b[38;5;124mColumn Names:\u001b[39m\u001b[38;5;124m\"\u001b[39m)\n",
      "File \u001b[0;32m/Library/Frameworks/Python.framework/Versions/3.10/lib/python3.10/site-packages/pandas/io/parsers/readers.py:1026\u001b[0m, in \u001b[0;36mread_csv\u001b[0;34m(filepath_or_buffer, sep, delimiter, header, names, index_col, usecols, dtype, engine, converters, true_values, false_values, skipinitialspace, skiprows, skipfooter, nrows, na_values, keep_default_na, na_filter, verbose, skip_blank_lines, parse_dates, infer_datetime_format, keep_date_col, date_parser, date_format, dayfirst, cache_dates, iterator, chunksize, compression, thousands, decimal, lineterminator, quotechar, quoting, doublequote, escapechar, comment, encoding, encoding_errors, dialect, on_bad_lines, delim_whitespace, low_memory, memory_map, float_precision, storage_options, dtype_backend)\u001b[0m\n\u001b[1;32m   1013\u001b[0m kwds_defaults \u001b[38;5;241m=\u001b[39m _refine_defaults_read(\n\u001b[1;32m   1014\u001b[0m     dialect,\n\u001b[1;32m   1015\u001b[0m     delimiter,\n\u001b[0;32m   (...)\u001b[0m\n\u001b[1;32m   1022\u001b[0m     dtype_backend\u001b[38;5;241m=\u001b[39mdtype_backend,\n\u001b[1;32m   1023\u001b[0m )\n\u001b[1;32m   1024\u001b[0m kwds\u001b[38;5;241m.\u001b[39mupdate(kwds_defaults)\n\u001b[0;32m-> 1026\u001b[0m \u001b[38;5;28;01mreturn\u001b[39;00m \u001b[43m_read\u001b[49m\u001b[43m(\u001b[49m\u001b[43mfilepath_or_buffer\u001b[49m\u001b[43m,\u001b[49m\u001b[43m \u001b[49m\u001b[43mkwds\u001b[49m\u001b[43m)\u001b[49m\n",
      "File \u001b[0;32m/Library/Frameworks/Python.framework/Versions/3.10/lib/python3.10/site-packages/pandas/io/parsers/readers.py:620\u001b[0m, in \u001b[0;36m_read\u001b[0;34m(filepath_or_buffer, kwds)\u001b[0m\n\u001b[1;32m    617\u001b[0m _validate_names(kwds\u001b[38;5;241m.\u001b[39mget(\u001b[38;5;124m\"\u001b[39m\u001b[38;5;124mnames\u001b[39m\u001b[38;5;124m\"\u001b[39m, \u001b[38;5;28;01mNone\u001b[39;00m))\n\u001b[1;32m    619\u001b[0m \u001b[38;5;66;03m# Create the parser.\u001b[39;00m\n\u001b[0;32m--> 620\u001b[0m parser \u001b[38;5;241m=\u001b[39m \u001b[43mTextFileReader\u001b[49m\u001b[43m(\u001b[49m\u001b[43mfilepath_or_buffer\u001b[49m\u001b[43m,\u001b[49m\u001b[43m \u001b[49m\u001b[38;5;241;43m*\u001b[39;49m\u001b[38;5;241;43m*\u001b[39;49m\u001b[43mkwds\u001b[49m\u001b[43m)\u001b[49m\n\u001b[1;32m    622\u001b[0m \u001b[38;5;28;01mif\u001b[39;00m chunksize \u001b[38;5;129;01mor\u001b[39;00m iterator:\n\u001b[1;32m    623\u001b[0m     \u001b[38;5;28;01mreturn\u001b[39;00m parser\n",
      "File \u001b[0;32m/Library/Frameworks/Python.framework/Versions/3.10/lib/python3.10/site-packages/pandas/io/parsers/readers.py:1620\u001b[0m, in \u001b[0;36mTextFileReader.__init__\u001b[0;34m(self, f, engine, **kwds)\u001b[0m\n\u001b[1;32m   1617\u001b[0m     \u001b[38;5;28mself\u001b[39m\u001b[38;5;241m.\u001b[39moptions[\u001b[38;5;124m\"\u001b[39m\u001b[38;5;124mhas_index_names\u001b[39m\u001b[38;5;124m\"\u001b[39m] \u001b[38;5;241m=\u001b[39m kwds[\u001b[38;5;124m\"\u001b[39m\u001b[38;5;124mhas_index_names\u001b[39m\u001b[38;5;124m\"\u001b[39m]\n\u001b[1;32m   1619\u001b[0m \u001b[38;5;28mself\u001b[39m\u001b[38;5;241m.\u001b[39mhandles: IOHandles \u001b[38;5;241m|\u001b[39m \u001b[38;5;28;01mNone\u001b[39;00m \u001b[38;5;241m=\u001b[39m \u001b[38;5;28;01mNone\u001b[39;00m\n\u001b[0;32m-> 1620\u001b[0m \u001b[38;5;28mself\u001b[39m\u001b[38;5;241m.\u001b[39m_engine \u001b[38;5;241m=\u001b[39m \u001b[38;5;28;43mself\u001b[39;49m\u001b[38;5;241;43m.\u001b[39;49m\u001b[43m_make_engine\u001b[49m\u001b[43m(\u001b[49m\u001b[43mf\u001b[49m\u001b[43m,\u001b[49m\u001b[43m \u001b[49m\u001b[38;5;28;43mself\u001b[39;49m\u001b[38;5;241;43m.\u001b[39;49m\u001b[43mengine\u001b[49m\u001b[43m)\u001b[49m\n",
      "File \u001b[0;32m/Library/Frameworks/Python.framework/Versions/3.10/lib/python3.10/site-packages/pandas/io/parsers/readers.py:1880\u001b[0m, in \u001b[0;36mTextFileReader._make_engine\u001b[0;34m(self, f, engine)\u001b[0m\n\u001b[1;32m   1878\u001b[0m     \u001b[38;5;28;01mif\u001b[39;00m \u001b[38;5;124m\"\u001b[39m\u001b[38;5;124mb\u001b[39m\u001b[38;5;124m\"\u001b[39m \u001b[38;5;129;01mnot\u001b[39;00m \u001b[38;5;129;01min\u001b[39;00m mode:\n\u001b[1;32m   1879\u001b[0m         mode \u001b[38;5;241m+\u001b[39m\u001b[38;5;241m=\u001b[39m \u001b[38;5;124m\"\u001b[39m\u001b[38;5;124mb\u001b[39m\u001b[38;5;124m\"\u001b[39m\n\u001b[0;32m-> 1880\u001b[0m \u001b[38;5;28mself\u001b[39m\u001b[38;5;241m.\u001b[39mhandles \u001b[38;5;241m=\u001b[39m \u001b[43mget_handle\u001b[49m\u001b[43m(\u001b[49m\n\u001b[1;32m   1881\u001b[0m \u001b[43m    \u001b[49m\u001b[43mf\u001b[49m\u001b[43m,\u001b[49m\n\u001b[1;32m   1882\u001b[0m \u001b[43m    \u001b[49m\u001b[43mmode\u001b[49m\u001b[43m,\u001b[49m\n\u001b[1;32m   1883\u001b[0m \u001b[43m    \u001b[49m\u001b[43mencoding\u001b[49m\u001b[38;5;241;43m=\u001b[39;49m\u001b[38;5;28;43mself\u001b[39;49m\u001b[38;5;241;43m.\u001b[39;49m\u001b[43moptions\u001b[49m\u001b[38;5;241;43m.\u001b[39;49m\u001b[43mget\u001b[49m\u001b[43m(\u001b[49m\u001b[38;5;124;43m\"\u001b[39;49m\u001b[38;5;124;43mencoding\u001b[39;49m\u001b[38;5;124;43m\"\u001b[39;49m\u001b[43m,\u001b[49m\u001b[43m \u001b[49m\u001b[38;5;28;43;01mNone\u001b[39;49;00m\u001b[43m)\u001b[49m\u001b[43m,\u001b[49m\n\u001b[1;32m   1884\u001b[0m \u001b[43m    \u001b[49m\u001b[43mcompression\u001b[49m\u001b[38;5;241;43m=\u001b[39;49m\u001b[38;5;28;43mself\u001b[39;49m\u001b[38;5;241;43m.\u001b[39;49m\u001b[43moptions\u001b[49m\u001b[38;5;241;43m.\u001b[39;49m\u001b[43mget\u001b[49m\u001b[43m(\u001b[49m\u001b[38;5;124;43m\"\u001b[39;49m\u001b[38;5;124;43mcompression\u001b[39;49m\u001b[38;5;124;43m\"\u001b[39;49m\u001b[43m,\u001b[49m\u001b[43m \u001b[49m\u001b[38;5;28;43;01mNone\u001b[39;49;00m\u001b[43m)\u001b[49m\u001b[43m,\u001b[49m\n\u001b[1;32m   1885\u001b[0m \u001b[43m    \u001b[49m\u001b[43mmemory_map\u001b[49m\u001b[38;5;241;43m=\u001b[39;49m\u001b[38;5;28;43mself\u001b[39;49m\u001b[38;5;241;43m.\u001b[39;49m\u001b[43moptions\u001b[49m\u001b[38;5;241;43m.\u001b[39;49m\u001b[43mget\u001b[49m\u001b[43m(\u001b[49m\u001b[38;5;124;43m\"\u001b[39;49m\u001b[38;5;124;43mmemory_map\u001b[39;49m\u001b[38;5;124;43m\"\u001b[39;49m\u001b[43m,\u001b[49m\u001b[43m \u001b[49m\u001b[38;5;28;43;01mFalse\u001b[39;49;00m\u001b[43m)\u001b[49m\u001b[43m,\u001b[49m\n\u001b[1;32m   1886\u001b[0m \u001b[43m    \u001b[49m\u001b[43mis_text\u001b[49m\u001b[38;5;241;43m=\u001b[39;49m\u001b[43mis_text\u001b[49m\u001b[43m,\u001b[49m\n\u001b[1;32m   1887\u001b[0m \u001b[43m    \u001b[49m\u001b[43merrors\u001b[49m\u001b[38;5;241;43m=\u001b[39;49m\u001b[38;5;28;43mself\u001b[39;49m\u001b[38;5;241;43m.\u001b[39;49m\u001b[43moptions\u001b[49m\u001b[38;5;241;43m.\u001b[39;49m\u001b[43mget\u001b[49m\u001b[43m(\u001b[49m\u001b[38;5;124;43m\"\u001b[39;49m\u001b[38;5;124;43mencoding_errors\u001b[39;49m\u001b[38;5;124;43m\"\u001b[39;49m\u001b[43m,\u001b[49m\u001b[43m \u001b[49m\u001b[38;5;124;43m\"\u001b[39;49m\u001b[38;5;124;43mstrict\u001b[39;49m\u001b[38;5;124;43m\"\u001b[39;49m\u001b[43m)\u001b[49m\u001b[43m,\u001b[49m\n\u001b[1;32m   1888\u001b[0m \u001b[43m    \u001b[49m\u001b[43mstorage_options\u001b[49m\u001b[38;5;241;43m=\u001b[39;49m\u001b[38;5;28;43mself\u001b[39;49m\u001b[38;5;241;43m.\u001b[39;49m\u001b[43moptions\u001b[49m\u001b[38;5;241;43m.\u001b[39;49m\u001b[43mget\u001b[49m\u001b[43m(\u001b[49m\u001b[38;5;124;43m\"\u001b[39;49m\u001b[38;5;124;43mstorage_options\u001b[39;49m\u001b[38;5;124;43m\"\u001b[39;49m\u001b[43m,\u001b[49m\u001b[43m \u001b[49m\u001b[38;5;28;43;01mNone\u001b[39;49;00m\u001b[43m)\u001b[49m\u001b[43m,\u001b[49m\n\u001b[1;32m   1889\u001b[0m \u001b[43m\u001b[49m\u001b[43m)\u001b[49m\n\u001b[1;32m   1890\u001b[0m \u001b[38;5;28;01massert\u001b[39;00m \u001b[38;5;28mself\u001b[39m\u001b[38;5;241m.\u001b[39mhandles \u001b[38;5;129;01mis\u001b[39;00m \u001b[38;5;129;01mnot\u001b[39;00m \u001b[38;5;28;01mNone\u001b[39;00m\n\u001b[1;32m   1891\u001b[0m f \u001b[38;5;241m=\u001b[39m \u001b[38;5;28mself\u001b[39m\u001b[38;5;241m.\u001b[39mhandles\u001b[38;5;241m.\u001b[39mhandle\n",
      "File \u001b[0;32m/Library/Frameworks/Python.framework/Versions/3.10/lib/python3.10/site-packages/pandas/io/common.py:873\u001b[0m, in \u001b[0;36mget_handle\u001b[0;34m(path_or_buf, mode, encoding, compression, memory_map, is_text, errors, storage_options)\u001b[0m\n\u001b[1;32m    868\u001b[0m \u001b[38;5;28;01melif\u001b[39;00m \u001b[38;5;28misinstance\u001b[39m(handle, \u001b[38;5;28mstr\u001b[39m):\n\u001b[1;32m    869\u001b[0m     \u001b[38;5;66;03m# Check whether the filename is to be opened in binary mode.\u001b[39;00m\n\u001b[1;32m    870\u001b[0m     \u001b[38;5;66;03m# Binary mode does not support 'encoding' and 'newline'.\u001b[39;00m\n\u001b[1;32m    871\u001b[0m     \u001b[38;5;28;01mif\u001b[39;00m ioargs\u001b[38;5;241m.\u001b[39mencoding \u001b[38;5;129;01mand\u001b[39;00m \u001b[38;5;124m\"\u001b[39m\u001b[38;5;124mb\u001b[39m\u001b[38;5;124m\"\u001b[39m \u001b[38;5;129;01mnot\u001b[39;00m \u001b[38;5;129;01min\u001b[39;00m ioargs\u001b[38;5;241m.\u001b[39mmode:\n\u001b[1;32m    872\u001b[0m         \u001b[38;5;66;03m# Encoding\u001b[39;00m\n\u001b[0;32m--> 873\u001b[0m         handle \u001b[38;5;241m=\u001b[39m \u001b[38;5;28;43mopen\u001b[39;49m\u001b[43m(\u001b[49m\n\u001b[1;32m    874\u001b[0m \u001b[43m            \u001b[49m\u001b[43mhandle\u001b[49m\u001b[43m,\u001b[49m\n\u001b[1;32m    875\u001b[0m \u001b[43m            \u001b[49m\u001b[43mioargs\u001b[49m\u001b[38;5;241;43m.\u001b[39;49m\u001b[43mmode\u001b[49m\u001b[43m,\u001b[49m\n\u001b[1;32m    876\u001b[0m \u001b[43m            \u001b[49m\u001b[43mencoding\u001b[49m\u001b[38;5;241;43m=\u001b[39;49m\u001b[43mioargs\u001b[49m\u001b[38;5;241;43m.\u001b[39;49m\u001b[43mencoding\u001b[49m\u001b[43m,\u001b[49m\n\u001b[1;32m    877\u001b[0m \u001b[43m            \u001b[49m\u001b[43merrors\u001b[49m\u001b[38;5;241;43m=\u001b[39;49m\u001b[43merrors\u001b[49m\u001b[43m,\u001b[49m\n\u001b[1;32m    878\u001b[0m \u001b[43m            \u001b[49m\u001b[43mnewline\u001b[49m\u001b[38;5;241;43m=\u001b[39;49m\u001b[38;5;124;43m\"\u001b[39;49m\u001b[38;5;124;43m\"\u001b[39;49m\u001b[43m,\u001b[49m\n\u001b[1;32m    879\u001b[0m \u001b[43m        \u001b[49m\u001b[43m)\u001b[49m\n\u001b[1;32m    880\u001b[0m     \u001b[38;5;28;01melse\u001b[39;00m:\n\u001b[1;32m    881\u001b[0m         \u001b[38;5;66;03m# Binary mode\u001b[39;00m\n\u001b[1;32m    882\u001b[0m         handle \u001b[38;5;241m=\u001b[39m \u001b[38;5;28mopen\u001b[39m(handle, ioargs\u001b[38;5;241m.\u001b[39mmode)\n",
      "\u001b[0;31mFileNotFoundError\u001b[0m: [Errno 2] No such file or directory: 'cb_multi_labeled_balanced.csv'"
     ]
    }
   ],
   "source": [
    "##################################iteration 2 \n",
    "import random\n",
    "import textwrap\n",
    "import nltk\n",
    "import matplotlib.pyplot as plt\n",
    "from matplotlib.patches import Rectangle\n",
    "from transformers import pipeline\n",
    "\n",
    "# ------------------- Download NLTK Data -------------------\n",
    "nltk.download('punkt')\n",
    "nltk.download('vader_lexicon')\n",
    "\n",
    "# ------------------- Initialize Transformer Models -------------------\n",
    "emotion_classifier = pipeline(\n",
    "    \"text-classification\",\n",
    "    model=\"SamLowe/roberta-base-go_emotions\",\n",
    "    top_k=None,\n",
    "    truncation=True\n",
    ")\n",
    "\n",
    "toxicity_classifier = pipeline(\n",
    "    \"text-classification\",\n",
    "    model=\"unitary/toxic-bert\",\n",
    "    top_k=None,\n",
    "    truncation=True\n",
    ")\n",
    "\n",
    "# ------------------- Model Helper Functions -------------------\n",
    "def get_transformer_emotions(text):\n",
    "    \"\"\"\n",
    "    Uses the GoEmotions model to compute emotion scores.\n",
    "    Returns the top 5 emotions (sorted by score) as a dictionary.\n",
    "    \"\"\"\n",
    "    results = emotion_classifier(text)[0]\n",
    "    sorted_results = sorted(results, key=lambda x: x['score'], reverse=True)[:5]\n",
    "    return {item['label']: item['score'] for item in sorted_results}\n",
    "\n",
    "def get_toxicity_score(text):\n",
    "    \"\"\"\n",
    "    Uses the Toxic-BERT model to compute toxicity scores.\n",
    "    Returns a dictionary mapping each toxicity label to its score.\n",
    "    \"\"\"\n",
    "    results = toxicity_classifier(text)[0]\n",
    "    return {item['label']: item['score'] for item in results}\n",
    "\n",
    "def display_analysis(message):\n",
    "    \"\"\"\n",
    "    Analyzes the text using the transformer models,\n",
    "    prints the results, and returns an analysis dictionary.\n",
    "    \"\"\"\n",
    "    emotions = get_transformer_emotions(message)\n",
    "    trigger_emotion = max(emotions, key=emotions.get)\n",
    "    toxicity = get_toxicity_score(message)\n",
    "    toxic_level = toxicity.get('toxic', 0.0)\n",
    "\n",
    "    analysis = {\n",
    "        \"toxic_level\": toxic_level,\n",
    "        \"toxicity\": toxicity,\n",
    "        \"emotions\": emotions,\n",
    "        \"trigger_emotion\": trigger_emotion\n",
    "    }\n",
    "\n",
    "    separator = \"=\" * 80\n",
    "    print(\"\\n\" + separator)\n",
    "    print(\"Message Analysis:\")\n",
    "    print(textwrap.fill(message, width=80))\n",
    "    print(\"\\nTop Emotions (score):\")\n",
    "    for label, score in analysis[\"emotions\"].items():\n",
    "        print(f\"  {label}: {score:.3f}\")\n",
    "    print(f\"\\nPrimary Emotion: {trigger_emotion}\")\n",
    "    print(\"\\nToxicity Scores:\")\n",
    "    for label, score in analysis[\"toxicity\"].items():\n",
    "        print(f\"  {label}: {score:.3f}\")\n",
    "    print(separator + \"\\n\")\n",
    "\n",
    "    return analysis\n",
    "\n",
    "# ------------------- ANSI Colors for Terminal Output -------------------\n",
    "HEADER_COLOR = '\\033[95m'\n",
    "SUBHEADER_COLOR = '\\033[94m'\n",
    "OKGREEN = '\\033[92m'\n",
    "WARNING_COLOR = '\\033[93m'\n",
    "FAIL_COLOR = '\\033[91m'\n",
    "RESET_COLOR = '\\033[0m'\n",
    "\n",
    "def display_results(inferences, feedback, tips, total_points, badge):\n",
    "    separator = \"=\" * 70\n",
    "    print(HEADER_COLOR + separator + RESET_COLOR)\n",
    "    print(HEADER_COLOR + \"--- What Can You Infer? ---\" + RESET_COLOR)\n",
    "    print(HEADER_COLOR + separator + RESET_COLOR)\n",
    "\n",
    "    for category, message in inferences.items():\n",
    "        print(f\"{SUBHEADER_COLOR}{category}:{RESET_COLOR} {message}\")\n",
    "\n",
    "    print(\"\\n\" + HEADER_COLOR + separator + RESET_COLOR)\n",
    "    print(HEADER_COLOR + \"--- Personalized Feedback ---\" + RESET_COLOR)\n",
    "    print(HEADER_COLOR + separator + RESET_COLOR)\n",
    "    print(feedback)\n",
    "\n",
    "    print(\"\\n\" + HEADER_COLOR + separator + RESET_COLOR)\n",
    "    print(HEADER_COLOR + \"--- Tips for a Happy, Healthy Day ---\" + RESET_COLOR)\n",
    "    print(HEADER_COLOR + separator + RESET_COLOR)\n",
    "    for tip in tips:\n",
    "        print(tip)\n",
    "\n",
    "    print(\"\\n\" + HEADER_COLOR + separator + RESET_COLOR)\n",
    "    print(f\"{OKGREEN}Points Earned: {total_points}   Badge Achieved: '{badge}'{RESET_COLOR}\")\n",
    "    print(HEADER_COLOR + separator + RESET_COLOR)\n",
    "\n",
    "# ------------------- Likert-Scale Quiz Functions -------------------\n",
    "def run_quiz(user_name):\n",
    "    total_points = 0  # For gamification\n",
    "\n",
    "    # Print a friendly welcome message using the already provided name\n",
    "    print(f\"\\nHi {user_name}, welcome to the quiz!\\n\")\n",
    "\n",
    "    # # Proceed with the quiz (no need to ask for the name again)\n",
    "    # print(\"Welcome to the Cyber Safety Quiz!\")\n",
    "    print(f\"\\nHi {user_name}, please answer the following questions by typing the option number.\\n\")\n",
    "\n",
    "    # Pre-coded messages for each question (child friendly)\n",
    "    emotion_messages = {\n",
    "        \"1\": [\n",
    "            \"Wow, you felt happy—like a bright sunny day when you play outside! Your smile makes the world a better place.\",\n",
    "            \"You felt happy, and that happy feeling is like a warm hug from your best friend.\",\n",
    "            \"I see you felt really happy—imagine your heart as a glittering star in the night sky!\",\n",
    "            \"Feeling happy is awesome! It's like riding your favorite roller coaster with a huge smile.\",\n",
    "            \"Your happy mood is like a rainbow after the rain—full of colors and wonder.\"\n",
    "        ],\n",
    "        \"2\": [\n",
    "            \"Feeling confused is okay—it’s like trying to solve a fun puzzle where things aren’t clear yet.\",\n",
    "            \"You are a bit puzzled, which means you're curious and ready to learn more.\",\n",
    "            \"It looks like you're feeling confused; even grown-ups sometimes wonder when things don’t add up.\",\n",
    "            \"Being confused is like being on a mini adventure—sometimes you have to ask questions.\",\n",
    "            \"I see you’re a bit puzzled; it can be exciting to explore and find out new things.\"\n",
    "        ],\n",
    "        \"3\": [\n",
    "            \"You felt sad, and that’s okay. Sometimes, feeling sad is like a little rain that helps you later see a beautiful rainbow.\",\n",
    "            \"I see you felt sad—remember, after rainy days come sunny ones.\",\n",
    "            \"Feeling sad shows you care. It’s okay to feel this way and to talk with someone who loves you.\",\n",
    "            \"Your sadness is like quiet music—it may feel low now, but it can help you appreciate happy times later.\",\n",
    "            \"It’s alright to feel sad; it can be like a gentle evening preparing you for a bright new day.\"\n",
    "        ],\n",
    "        \"4\": [\n",
    "            \"You felt angry, and that tells us you care about fairness. It’s okay to be upset—try taking deep breaths like blowing out birthday candles.\",\n",
    "            \"I see you felt angry. It’s a powerful feeling that can help you stand up for what’s right, as long as you find a calm way to express it.\",\n",
    "            \"Feeling angry is natural. It's like the fire in a campfire that keeps you warm—just remember to share your feelings with someone you trust.\",\n",
    "            \"Your anger is strong and shows you want things to be fair. Sometimes, a pause and a deep breath can help cool that fire.\",\n",
    "            \"When you feel angry, it means something is bothering you. Talking to someone who cares can help turn that storm into a gentle breeze.\"\n",
    "        ],\n",
    "        \"5\": [\n",
    "            \"You felt scared, and that’s important to notice—it's like a little alarm telling you to ask for help.\",\n",
    "            \"I see that you felt scared—sometimes scary things happen, and it’s always okay to ask for a hug or help.\",\n",
    "            \"Feeling scared signals that you might need someone by your side—like holding a parent’s hand when it's dark.\",\n",
    "            \"Your fear is important. It means you care about your safety; speaking with someone you trust can help you feel brave again.\",\n",
    "            \"When you feel scared, think of it as a chance to share your worries with someone who can help chase away the shadows.\"\n",
    "        ]\n",
    "    }\n",
    "\n",
    "    perception_messages = {\n",
    "        \"1\": [\n",
    "            \"You didn’t think the message was meant to hurt—which is like choosing to see the fun side of a silly joke!\",\n",
    "            \"I see you felt it was just a joke. Sometimes, laughing it off is the best way to keep your day light.\",\n",
    "            \"Your view is bright—you see the message as harmless fun, which shows you have a kind heart.\",\n",
    "            \"Not thinking it's hurtful is like spotting a small cloud and knowing the sun is still shining.\",\n",
    "            \"Your perspective shows you focus on the good things—even when others might not be kind.\"\n",
    "        ],\n",
    "        \"2\": [\n",
    "            \"It seems you're a bit unsure about the message—when things aren’t clear, it’s great to ask a grown-up for help.\",\n",
    "            \"Being unsure is natural. Sometimes a chat with someone who understands makes things clearer.\",\n",
    "            \"Your uncertainty means you're very thoughtful. Asking questions is a superpower!\",\n",
    "            \"Not being 100% sure shows you’re curious—talking with an adult can help untangle the mystery.\",\n",
    "            \"If you're not sure, that's okay—it's always good to ask for guidance when things seem mixed up.\"\n",
    "        ],\n",
    "        \"3\": [\n",
    "            \"You noticed that the message was mean, which shows you know when words can hurt. Trust your heart—it knows what's right!\",\n",
    "            \"I see you think the message was hurtful. That means you care about kindness and fairness.\",\n",
    "            \"Recognizing meanness is important. Your sense of fairness helps keep you safe.\",\n",
    "            \"Your eyes caught the unkind part of the message—it shows you care about how people treat each other.\",\n",
    "            \"Seeing the hurtful side means you're aware of feelings—and that awareness helps you make good choices.\"\n",
    "        ]\n",
    "    }\n",
    "\n",
    "    empathy_coping_messages = {\n",
    "        \"1\": [\n",
    "            \"Sometimes ignoring a mean message is the best way to keep your smile shining—like skipping over a puddle to stay dry.\",\n",
    "            \"Choosing to ignore it is like deciding not to let a little drizzle stop you from playing outside.\",\n",
    "            \"Ignoring unkind words is like turning away from a cloud so the sunshine can shine in.\",\n",
    "            \"Not giving attention to a mean message shows you’re focusing on happy things—like playing in a sunny park.\",\n",
    "            \"When you ignore a hurtful message, you're choosing to stay positive and keep your day bright.\"\n",
    "        ],\n",
    "        \"2\": [\n",
    "            \"Telling a trusted adult is a super-smart move—like calling your favorite superhero when you need help.\",\n",
    "            \"Sharing with a parent or teacher is wonderful; they can help fix problems like solving a tricky puzzle.\",\n",
    "            \"Talking to someone who cares is like having a buddy always ready to help you out.\",\n",
    "            \"Speaking with a grown-up is a brave step—imagine them as your wise mentor guiding you through challenges.\",\n",
    "            \"By telling an adult, you're unlocking a treasure chest of help and kindness.\"\n",
    "        ],\n",
    "        \"3\": [\n",
    "            \"Replying angrily might feel natural, but sometimes it makes the storm inside windier. A calm word can clear the sky.\",\n",
    "            \"When anger urges you to shout back, take a deep breath—sometimes a gentle reply is like a soft breeze after a storm.\",\n",
    "            \"Angry words can add to the chaos—imagine them like thunder, while a calm tone can bring back the sunshine.\",\n",
    "            \"Even if you feel like replying in anger, try a gentle response to help bring back peace.\",\n",
    "            \"Sometimes, a quiet answer is like a gentle breeze that calms a stormy day.\"\n",
    "        ],\n",
    "        \"4\": [\n",
    "            \"It's okay to cry—it shows your heart is full of feelings. After a cry, talking to someone can help lift those clouds.\",\n",
    "            \"Crying is a natural way to let out emotions. Sharing your tears afterward can make you feel comforted.\",\n",
    "            \"When you cry, it’s like releasing a little rain that makes space for the sun to shine again.\",\n",
    "            \"Your tears show you care deeply. Talking about them can help turn a gray day into a bright one.\",\n",
    "            \"It's perfectly okay to cry—imagine your tears watering a garden that will soon bloom with sunshine.\"\n",
    "        ]\n",
    "    }\n",
    "\n",
    "    exposure_messages = {\n",
    "        \"1\": [\n",
    "            \"It looks like you haven’t seen many mean messages—your online space is as friendly as a fun playground!\",\n",
    "            \"Good news! Your digital space seems safe and full of kind, happy messages.\",\n",
    "            \"Not many hurtful messages have reached you—like playing in a garden full of sunshine and smiles.\",\n",
    "            \"It sounds like your online world is mostly friendly and caring, just like a room full of smiling friends.\",\n",
    "            \"Your digital space is filled with kindness, like a bright, welcoming neighborhood.\"\n",
    "        ],\n",
    "        \"2\": [\n",
    "            \"Seeing a few unkind messages now and then is normal—like a few raindrops during a sunny day.\",\n",
    "            \"Sometimes, a couple of mean messages might pop up, but each one teaches you how to protect your feelings.\",\n",
    "            \"Even if you see a few unkind words, it helps you learn to stand strong, just like a little superhero.\",\n",
    "            \"A few hurtful messages are like small bumps on the road that help you learn to ride your bike better.\",\n",
    "            \"Even a couple of mean messages are chances to learn how to keep your smile shining.\"\n",
    "        ],\n",
    "        \"3\": [\n",
    "            \"Seeing lots of mean messages can feel heavy, like a long rainy day. It might help to share your feelings with someone who cares.\",\n",
    "            \"When unkind messages come a lot, it might feel like a storm. Talking to someone can be like finding shelter under a friendly tree.\",\n",
    "            \"If you often see hurtful words, it might feel like a heavy rain. Sharing how you feel can bring back the sunshine.\",\n",
    "            \"Experiencing many unkind messages might feel like a long, dark tunnel—remember, you can ask someone to help light your way.\",\n",
    "            \"When mean messages pile up, it's important to talk to someone who understands, so you don't have to face the storm alone.\"\n",
    "        ]\n",
    "    }\n",
    "\n",
    "    reaction_messages = {\n",
    "        \"1\": [\n",
    "            \"Blocking someone is like closing a door on a chilly wind—it keeps your space safe and cozy.\",\n",
    "            \"Using the block button is like wearing a superhero cape; it protects you from negativity.\",\n",
    "            \"Blocking unkind messages is smart—like building a fence around your favorite fort to keep it safe.\",\n",
    "            \"When you block someone, it shows you care about your space and want only kind words inside.\",\n",
    "            \"Your decision to block means you're guarding your happiness, like a captain steering a ship away from stormy seas.\"\n",
    "        ],\n",
    "        \"2\": [\n",
    "            \"Telling your parents or teachers is like calling your favorite helper—they're always there to make you feel safe and loved.\",\n",
    "            \"Sharing your feelings with a grown-up is brave—like inviting a wise friend to help solve a tricky puzzle.\",\n",
    "            \"Talking to someone you trust is a super move—it’s like having a friendly guide who helps you through challenges.\",\n",
    "            \"When you speak up to an adult, it's like pressing a magic button that brings comfort and support.\",\n",
    "            \"By telling a trusted adult, you open a door to help and care—it's like receiving a big, warm hug.\"\n",
    "        ],\n",
    "        \"3\": [\n",
    "            \"Sometimes replying with a little humor can turn a frown into a smile—like finding a funny cartoon that makes you laugh.\",\n",
    "            \"Using humor to respond is like discovering a shiny gem that brightens a cloudy moment.\",\n",
    "            \"A funny reply might ease a tough situation, just as a silly joke can break the ice on a cold day.\",\n",
    "            \"When you choose humor, it shows you can find a bright spot even in tricky times—like a sparkle that lights up the dark.\",\n",
    "            \"A cheerful comeback is like a burst of laughter that sends bad vibes packing.\"\n",
    "        ],\n",
    "        \"4\": [\n",
    "            \"Hiding your feelings might seem easier sometimes, but sharing them is like opening a window to let in fresh, happy air.\",\n",
    "            \"While keeping quiet may seem safe, talking to someone you trust can help lift a heavy feeling.\",\n",
    "            \"Even if keeping quiet feels comfortable, sharing your heart can turn a gloomy day into a bright one.\",\n",
    "            \"When you share how you feel, it’s like spreading sunshine all around—lifting your spirit and the spirits of others.\",\n",
    "            \"Though you might want to keep it all to yourself, remember that talking with someone who cares can really help you feel better.\"\n",
    "        ]\n",
    "    }\n",
    "\n",
    "    # --- Collect Quiz Responses ---\n",
    "\n",
    "\n",
    "    # Q1: Emotional Response\n",
    "    print(\"1. How did this message make you feel?\")\n",
    "    print(\"   1) 😃 Happy\")\n",
    "    print(\"   2) 😐 Confused\")\n",
    "    print(\"   3) 😟 Sad\")\n",
    "    print(\"   4) 😡 Angry\")\n",
    "    print(\"   5) 😨 Scared\")\n",
    "    q1 = input(\"Enter the number for your answer: \").strip()\n",
    "    total_points += int(get_point_value(\"q1\", q1))\n",
    "\n",
    "    # Adaptive branching: if Confused (2) or Scared (5), ask an extra safety question.\n",
    "    safe_response = \"\"\n",
    "    if q1 in [\"2\", \"5\"]:\n",
    "        safe_response = ask_safety_question(name)\n",
    "        total_points += int(get_point_value(\"safety\", safe_response))\n",
    "\n",
    "    # Q2: Perception of Intent\n",
    "    print(\"\\n2. Do you think this message was meant to be hurtful?\")\n",
    "    print(\"   1) 👍 No, it was just a joke\")\n",
    "    print(\"   2) 🤔 Maybe, not sure\")\n",
    "    print(\"   3) 👎 Yes, it was mean\")\n",
    "    q2 = input(\"Enter the number for your answer: \").strip()\n",
    "    total_points += int(get_point_value(\"q2\", q2))\n",
    "\n",
    "    # Q3: Advice for a Friend\n",
    "    print(\"\\n3. If someone sent this to your friend, how should they react?\")\n",
    "    print(\"   1) 🚫 Ignore it\")\n",
    "    print(\"   2) 🧑‍🏫 Tell a trusted adult or teacher\")\n",
    "    print(\"   3) ✍️ Reply back angrily\")\n",
    "    print(\"   4) 😢 Cry or feel bad\")\n",
    "    q3 = input(\"Enter the number for your answer: \").strip()\n",
    "    total_points += int(get_point_value(\"q3\", q3))\n",
    "\n",
    "    # Q4: Exposure\n",
    "    print(\"\\n4. Have you seen or received a message like this before?\")\n",
    "    print(\"   1) 🙅 Never\")\n",
    "    print(\"   2) 🔁 A few times\")\n",
    "    print(\"   3) 😞 Many times\")\n",
    "    q4 = input(\"Enter the number for your answer: \").strip()\n",
    "    total_points += int(get_point_value(\"q4\", q4))\n",
    "\n",
    "    # Q5: Personal Reaction\n",
    "    print(\"\\n5. What would you do if someone keeps sending mean messages to you?\")\n",
    "    print(\"   1) 📱 Block them\")\n",
    "    print(\"   2) 👨‍👩‍👧‍👦 Tell my parents or teachers\")\n",
    "    print(\"   3) 🙃 Say something funny back\")\n",
    "    print(\"   4) 🤐 Keep it to myself\")\n",
    "    q5 = input(\"Enter the number for your answer: \").strip()\n",
    "    total_points += int(get_point_value(\"q5\", q5))\n",
    "\n",
    "    responses = {\"q1\": q1, \"q2\": q2, \"q3\": q3, \"q4\": q4, \"q5\": q5}\n",
    "\n",
    "    # --- Assemble Inferences ---\n",
    "    inferences = {}\n",
    "    inferences[\"Emotional State\"] = random.choice(emotion_messages.get(q1, [\"Your feelings are noted.\"]))\n",
    "    inferences[\"Perception\"] = random.choice(perception_messages.get(q2, [\"Your perception is noted.\"]))\n",
    "    inferences[\"Empathy & Coping\"] = random.choice(empathy_coping_messages.get(q3, [\"Your way of handling things is unique and important.\"]))\n",
    "    inferences[\"Exposure\"] = random.choice(exposure_messages.get(q4, [\"Your exposure level is noted.\"]))\n",
    "    inferences[\"Personal Reaction\"] = random.choice(reaction_messages.get(q5, [\"Your personal reaction is noted.\"]))\n",
    "\n",
    "    # --- Build Personalized Feedback ---\n",
    "    feedback_parts = []\n",
    "    if q1 == \"3\" or q4 == \"3\":\n",
    "        feedback_parts.append(f\"{user_name}, it seems like sometimes you feel a bit down or overwhelmed when hurtful messages appear.\")\n",
    "    elif q1 == \"5\":\n",
    "        feedback_parts.append(f\"{user_name}, I see that at times you feel scared. It's very important for you to feel safe and cared for.\")\n",
    "    else:\n",
    "        feedback_parts.append(f\"{user_name}, you seem to handle your online experiences well and have a positive outlook.\")\n",
    "\n",
    "    if q2 == \"2\":\n",
    "        feedback_parts.append(\"When you're unsure if a message is mean or just silly, it's always a good idea to ask a grown-up for guidance.\")\n",
    "    elif q2 == \"3\":\n",
    "        feedback_parts.append(\"Noticing that a message could hurt shows how much you care about kindness. Trust your feelings!\")\n",
    "    else:\n",
    "        feedback_parts.append(\"It's great that you can see the fun side of things—it keeps your day bright!\")\n",
    "\n",
    "    if q3 == \"1\":\n",
    "        feedback_parts.append(\"Ignoring a mean message sometimes protects your mood—like skipping over a puddle to keep your shoes dry.\")\n",
    "    elif q3 == \"2\":\n",
    "        feedback_parts.append(\"Talking to a trusted adult is like having a superhero by your side—it makes you stronger!\")\n",
    "    elif q3 == \"3\":\n",
    "        feedback_parts.append(\"Even if anger tempts you to shout back, a calm reply can help clear the storm and bring back the sunshine.\")\n",
    "    elif q3 == \"4\":\n",
    "        feedback_parts.append(\"Crying shows you have a caring heart. Sharing your feelings can help clear away the clouds.\")\n",
    "\n",
    "    if q4 == \"3\":\n",
    "        feedback_parts.append(\"Seeing lots of hurtful messages can feel heavy—sharing your feelings can let the sunshine in.\")\n",
    "    elif q4 == \"2\":\n",
    "        feedback_parts.append(\"Even a few mean messages help you learn how to protect your smile and grow stronger.\")\n",
    "    else:\n",
    "        feedback_parts.append(\"It looks like your online world is mostly kind—a wonderful space to be in!\")\n",
    "\n",
    "    if q5 == \"4\":\n",
    "        feedback_parts.append(\"Although keeping your feelings inside might seem easier sometimes, sharing them can really help you feel lighter.\")\n",
    "    elif q5 == \"1\":\n",
    "        feedback_parts.append(\"Blocking mean messages is a smart way to protect your space—like closing a door to keep the cold wind out.\")\n",
    "    elif q5 == \"2\":\n",
    "        feedback_parts.append(\"Telling your parents or teachers is a brave move—it invites caring support when you need it.\")\n",
    "    elif q5 == \"3\":\n",
    "        feedback_parts.append(\"Using humor to respond can sometimes turn a frown upside down and brighten the moment.\")\n",
    "\n",
    "    random.shuffle(feedback_parts)\n",
    "    final_feedback = \" \".join(feedback_parts)\n",
    "    badge, level_message = get_badge(total_points)\n",
    "    final_feedback += f\" Also, you earned {total_points} points and achieved the badge: '{badge}'! {level_message}\"\n",
    "\n",
    "    tips = get_tips()\n",
    "    display_results(inferences, final_feedback, tips, total_points, badge)\n",
    "    create_risk_radar(responses, total_points)\n",
    "\n",
    "def ask_safety_question(name):\n",
    "    print(\"\\nIt looks like you sometimes feel confused or scared. Can you tell me what makes you feel safe online?\")\n",
    "    print(\"   1) Talking to a trusted adult\")\n",
    "    print(\"   2) Playing my favorite game\")\n",
    "    print(\"   3) Listening to music\")\n",
    "    print(\"   4) Reading a favorite book\")\n",
    "    print(\"   5) Spending time with friends\")\n",
    "    safe_q = input(\"Enter the number for your answer: \").strip()\n",
    "    return safe_q\n",
    "\n",
    "def get_point_value(question, answer):\n",
    "    points = {\n",
    "        \"q1\": {\"1\": 1, \"2\": 2, \"3\": 3, \"4\": 2, \"5\": 3},\n",
    "        \"q2\": {\"1\": 1, \"2\": 2, \"3\": 3},\n",
    "        \"q3\": {\"1\": 1, \"2\": 1, \"3\": 3, \"4\": 3},\n",
    "        \"q4\": {\"1\": 1, \"2\": 2, \"3\": 3},\n",
    "        \"q5\": {\"1\": 1, \"2\": 1, \"3\": 2, \"4\": 3},\n",
    "        \"safety\": {\"1\": 1, \"2\": 1, \"3\": 1, \"4\": 1, \"5\": 1}\n",
    "    }\n",
    "    return points.get(question, {}).get(answer, 0)\n",
    "\n",
    "def get_badge(total_points):\n",
    "    if total_points >= 14:\n",
    "        return (\"Kind Champion\", \"You're a true champion of kindness and bravery!\")\n",
    "    elif total_points >= 10:\n",
    "        return (\"Brave Explorer\", \"You explore your feelings with courage and care!\")\n",
    "    else:\n",
    "        return (\"Caring Star\", \"You shine bright with care and positivity!\")\n",
    "\n",
    "def get_tips():\n",
    "    tips = [\n",
    "        \"Tip: If you ever feel upset or confused, try taking three deep, slow breaths—it can help you calm down.\",\n",
    "        \"Tip: Remember, it's always a good idea to talk to someone you trust when something feels wrong.\",\n",
    "        \"Tip: If you see unkind messages, don't let them ruin your day. Focus on the things that make you happy!\",\n",
    "        \"Tip: Keep a fun journal where you draw or write about your favorite moments—it can brighten even a cloudy day.\",\n",
    "        \"Tip: Be kind to yourself. Everyone has tough days, but you have the strength to overcome them!\",\n",
    "        \"Tip: Sharing your feelings is brave. It helps you feel understood and supported.\",\n",
    "        \"Tip: Sometimes, a little humor can turn a bad day around. Don't be afraid to laugh!\",\n",
    "        \"Tip: Always remember that your feelings matter, and it's okay to ask for help when you need it.\"\n",
    "    ]\n",
    "    return random.sample(tips, 3)\n",
    "\n",
    "def create_risk_radar(responses, total_points):\n",
    "    score = 0\n",
    "    if responses[\"q1\"] == \"3\":\n",
    "        score += 3\n",
    "    elif responses[\"q1\"] == \"4\":\n",
    "        score += 2\n",
    "    elif responses[\"q1\"] == \"5\":\n",
    "        score += 3\n",
    "    else:\n",
    "        score += 1\n",
    "    if responses[\"q2\"] == \"2\":\n",
    "        score += 2\n",
    "    elif responses[\"q2\"] == \"3\":\n",
    "        score += 3\n",
    "    else:\n",
    "        score += 1\n",
    "    if responses[\"q3\"] in [\"3\", \"4\"]:\n",
    "        score += 3\n",
    "    elif responses[\"q3\"] == \"2\":\n",
    "        score += 1\n",
    "    else:\n",
    "        score += 1\n",
    "    if responses[\"q4\"] == \"1\":\n",
    "        score += 1\n",
    "    elif responses[\"q4\"] == \"2\":\n",
    "        score += 2\n",
    "    elif responses[\"q4\"] == \"3\":\n",
    "        score += 3\n",
    "    else:\n",
    "        score += 1\n",
    "    if responses[\"q5\"] == \"4\":\n",
    "        score += 3\n",
    "    elif responses[\"q5\"] == \"1\":\n",
    "        score += 1\n",
    "    elif responses[\"q5\"] == \"2\":\n",
    "        score += 1\n",
    "    elif responses[\"q5\"] == \"3\":\n",
    "        score += 2\n",
    "    else:\n",
    "        score += 1\n",
    "    if score >= 12:\n",
    "        zone = \"Needs help\"\n",
    "        indicator_position = 0.10\n",
    "    elif score >= 9:\n",
    "        zone = \"Worried\"\n",
    "        indicator_position = 0.35\n",
    "    else:\n",
    "        zone = \"Doing okay\"\n",
    "        indicator_position = 0.65\n",
    "    if zone == \"Doing okay\":\n",
    "        character_emoji = \"😃\"\n",
    "    elif zone == \"Worried\":\n",
    "        character_emoji = \"😟\"\n",
    "    else:\n",
    "        character_emoji = \"😢\"\n",
    "\n",
    "    fig, ax = plt.subplots(figsize=(8, 3))\n",
    "    ax.axis('off')\n",
    "    plt.text(0.02, 0.9, \"Emotional Wellness Radar\", fontsize=12, fontweight='bold')\n",
    "    ax.add_patch(Rectangle((0.02, 0.4), 0.20, 0.3, color='red'))\n",
    "    ax.add_patch(Rectangle((0.22, 0.4), 0.20, 0.3, color='orange'))\n",
    "    ax.add_patch(Rectangle((0.42, 0.4), 0.20, 0.3, color='yellow'))\n",
    "    ax.add_patch(Rectangle((0.62, 0.4), 0.20, 0.3, color='green'))\n",
    "    plt.text(0.02, 0.25, \"Needs help\", fontsize=10)\n",
    "    plt.text(0.25, 0.25, \"Worried\", fontsize=10)\n",
    "    plt.text(0.45, 0.25, \"Doing okay\", fontsize=10)\n",
    "    plt.text(0.65, 0.25, \"Happy zone\", fontsize=10)\n",
    "    plt.plot(indicator_position, 0.55, 'v', color='black', markersize=12)\n",
    "    plt.text(indicator_position, 0.15, f\"You're in: {zone}\", ha='center', fontsize=10)\n",
    "    plt.text(0.05, 0.05, f\"Total Points: {total_points}\", fontsize=10)\n",
    "    plt.text(0.75, 0.05, f\"Your Mood: {character_emoji}\", fontsize=20)\n",
    "    plt.title(\"Risk Radar / Emotional Flag\", fontsize=12, pad=10)\n",
    "    plt.subplots_adjust(top=0.85, bottom=0.15)\n",
    "    plt.show()\n",
    "\n",
    "def main():\n",
    "    print(\"Enter a message to analyze its emotions and toxicity:\")\n",
    "    message = input(\"Message: \").strip()\n",
    "    analysis = display_analysis(message)\n",
    "\n",
    "    play_quiz = input(\"Would you like to play a quick quiz for this message? (yes/no): \").strip().lower()\n",
    "    if play_quiz.startswith('y'):\n",
    "        name = input(\"Please enter your name: \").strip()\n",
    "        run_quiz(name)\n",
    "    else:\n",
    "        print(\"Alright! Thank you for analyzing the message.\")\n",
    "\n",
    "if __name__ == \"__main__\":\n",
    "    main()\n",
    "\n"
   ]
  },
  {
   "cell_type": "markdown",
   "metadata": {},
   "source": [
    "code to store table in db"
   ]
  },
  {
   "cell_type": "code",
   "execution_count": 8,
   "metadata": {},
   "outputs": [
    {
     "name": "stdout",
     "output_type": "stream",
     "text": [
      "✅  Successfully connected to the database.\n",
      "✅  Table `race_summary` written to `shieldspace` database.\n",
      "\n",
      "Preview from DB:\n",
      "         race  count  percentage\n",
      "0     African   3439    0.592318\n",
      "1        Arab   1090    0.187737\n",
      "2   Caucasian    603    0.103858\n",
      "3       Asian    308    0.053049\n",
      "4    Hispanic    296    0.050982\n",
      "5  Indigenous     38    0.006545\n",
      "6      Indian     32    0.005512\n",
      "7       Total   5806    1.000000\n"
     ]
    }
   ],
   "source": [
    "# ─── Packages ─────────────────────────────────────────────────────────────\n",
    "import pandas as pd\n",
    "from sqlalchemy import create_engine, text\n",
    "import sqlalchemy.types as satypes\n",
    "\n",
    "# ─── 1.  CONNECTION INFO  ─────────────────────────────────────────────────\n",
    "username = \"admin\"                 # ← your RDS user\n",
    "password = \"fit5120ta30\"           # ← your RDS password\n",
    "host     = \"shieldspace.ck1sygqoe3hd.us-east-1.rds.amazonaws.com\"\n",
    "database = \"shieldspace\"\n",
    "\n",
    "engine = create_engine(\n",
    "    f\"mysql+mysqlconnector://{username}:{password}@{host}/{database}\",\n",
    "    pool_pre_ping=True,            # quick dead-connection check\n",
    ")\n",
    "\n",
    "# ─── 2.  TEST THE CONNECTION  ─────────────────────────────────────────────\n",
    "try:\n",
    "    with engine.connect() as conn:\n",
    "        conn.execute(text(\"SELECT 1\"))\n",
    "    print(\"✅  Successfully connected to the database.\")\n",
    "except Exception as e:\n",
    "    raise RuntimeError(f\"❌  Database connection failed: {e}\")\n",
    "\n",
    "# ─── 3.  BUILD THE SUMMARY DATAFRAME  ─────────────────────────────────────\n",
    "df = (\n",
    "    pd.read_csv(\"final_hateXplain.csv\")\n",
    "      .query(\"label != 'normal'\")                           # keep hate/offensive\n",
    ")\n",
    "df = df[~df[\"Race\"].str.lower().str.replace(\" \", \"_\").eq(\"no_race\")]\n",
    "\n",
    "summary = (\n",
    "    df[\"Race\"]\n",
    "      .value_counts()\n",
    "      .rename_axis(\"race\")\n",
    "      .reset_index(name=\"count\")\n",
    "      .assign(percentage=lambda d: d[\"count\"] / d[\"count\"].sum())\n",
    ")\n",
    "\n",
    "total_row = pd.DataFrame({\n",
    "    \"race\": [\"Total\"],\n",
    "    \"count\": [summary[\"count\"].sum()],\n",
    "    \"percentage\": [1.0]\n",
    "})\n",
    "summary = pd.concat([summary, total_row], ignore_index=True)\n",
    "\n",
    "# ─── 4.  PUSH TO MYSQL  ───────────────────────────────────────────────────\n",
    "table_name = \"race_summary\"        # change if you like\n",
    "\n",
    "dtype_map = {\n",
    "    \"race\": satypes.VARCHAR(32),\n",
    "    \"count\": satypes.INTEGER(),\n",
    "    \"percentage\": satypes.FLOAT(asdecimal=False),\n",
    "}\n",
    "\n",
    "summary.to_sql(\n",
    "    name       = table_name,\n",
    "    con        = engine,\n",
    "    if_exists  = \"replace\",        # \"append\" if you want to keep old rows\n",
    "    index      = False,\n",
    "    dtype      = dtype_map,\n",
    ")\n",
    "\n",
    "print(f\"✅  Table `{table_name}` written to `{database}` database.\")\n",
    "\n",
    "# ─── 5.  OPTIONAL: QUERY BACK TO VERIFY  ──────────────────────────────────\n",
    "with engine.connect() as conn:\n",
    "    check_df = pd.read_sql(f\"SELECT * FROM {table_name}\", conn)\n",
    "print(\"\\nPreview from DB:\")\n",
    "print(check_df)"
   ]
  },
  {
   "cell_type": "code",
   "execution_count": 34,
   "metadata": {},
   "outputs": [
    {
     "name": "stdout",
     "output_type": "stream",
     "text": [
      "✅  DB connection OK\n",
      "✅  Table `aggressive_age_distribution` written to MySQL\n",
      "\n",
      "Preview (first 10 rows):\n",
      " age  count\n",
      "  13      6\n",
      "  14     21\n",
      "  15     27\n",
      "  16     25\n",
      "  17     21\n",
      "  18     28\n",
      "  19     36\n",
      "  20     44\n",
      "  21     81\n",
      "  22     67\n"
     ]
    }
   ],
   "source": [
    "############################################################################\n",
    "# 0.  Imports & DB connection\n",
    "############################################################################\n",
    "import pandas as pd\n",
    "from sqlalchemy import create_engine, text\n",
    "import sqlalchemy.types as satypes\n",
    "\n",
    "# RDS credentials\n",
    "username = \"admin\"\n",
    "password = \"fit5120ta30\"\n",
    "host     = \"shieldspace.ck1sygqoe3hd.us-east-1.rds.amazonaws.com\"\n",
    "database = \"shieldspace\"\n",
    "\n",
    "engine = create_engine(\n",
    "    f\"mysql+mysqlconnector://{username}:{password}@{host}/{database}\",\n",
    "    pool_pre_ping=True,          # auto-reconnect if needed\n",
    ")\n",
    "\n",
    "# Quick connection test\n",
    "with engine.connect() as conn:\n",
    "    conn.execute(text(\"SELECT 1\"))\n",
    "print(\"✅  DB connection OK\")\n",
    "\n",
    "############################################################################\n",
    "# 1.  Load CSV  → keep only Aggressive rows\n",
    "############################################################################\n",
    "df = pd.read_csv(\"youtube_parsed_dataset_sentiment.csv\")\n",
    "df_aggr = df[df[\"sentiment_class\"] == \"Aggressive\"].copy()\n",
    "\n",
    "# Ensure Age column is numeric; drop NaNs or non-numeric\n",
    "df_aggr[\"Age\"] = pd.to_numeric(df_aggr[\"Age\"], errors=\"coerce\")\n",
    "df_aggr = df_aggr.dropna(subset=[\"Age\"])\n",
    "\n",
    "############################################################################\n",
    "# 2.  Build summary  (one row per age, plus count)\n",
    "############################################################################\n",
    "age_summary = (\n",
    "    df_aggr[\"Age\"]\n",
    "      .value_counts()\n",
    "      .rename_axis(\"age\")\n",
    "      .reset_index(name=\"count\")\n",
    "      .sort_values(\"age\")\n",
    "      .astype({\"age\": \"int\", \"count\": \"int\"})\n",
    ")\n",
    "\n",
    "############################################################################\n",
    "# 3.  Write to MySQL  (table = aggressive_age_distribution)\n",
    "############################################################################\n",
    "dtype_map = {\n",
    "    \"age\"  : satypes.INTEGER(),\n",
    "    \"count\": satypes.INTEGER(),\n",
    "}\n",
    "\n",
    "age_summary.to_sql(\n",
    "    name      = \"aggressive_age_distribution\",\n",
    "    con       = engine,\n",
    "    if_exists = \"replace\",      # \"append\" if you prefer\n",
    "    index     = False,\n",
    "    dtype     = dtype_map,\n",
    ")\n",
    "\n",
    "print(\"✅  Table `aggressive_age_distribution` written to MySQL\")\n",
    "\n",
    "############################################################################\n",
    "# 4.  Verify: read back a preview\n",
    "############################################################################\n",
    "with engine.connect() as conn:\n",
    "    preview = pd.read_sql(\n",
    "        \"SELECT * FROM aggressive_age_distribution ORDER BY age LIMIT 10\",\n",
    "        conn\n",
    "    )\n",
    "\n",
    "print(\"\\nPreview (first 10 rows):\")\n",
    "print(preview.to_string(index=False))"
   ]
  },
  {
   "cell_type": "code",
   "execution_count": 11,
   "metadata": {},
   "outputs": [
    {
     "name": "stdout",
     "output_type": "stream",
     "text": [
      "✅  Connected to RDS\n",
      "✅  Table `religion_summary_by_label` written to MySQL\n",
      "\n",
      "Preview:\n",
      " Religion      label count pct_within_religion\n",
      " Buddhism hatespeech     3              0.3750\n",
      " Buddhism  offensive     5              0.6250\n",
      "Christian hatespeech    59              0.5268\n",
      "Christian  offensive    53              0.4732\n",
      "    Hindu hatespeech    18              0.5806\n",
      "    Hindu  offensive    13              0.4194\n",
      "    Islam hatespeech 1,497              0.6630\n",
      "    Islam  offensive   761              0.3370\n",
      "   Jewish hatespeech 1,406              0.7679\n",
      "   Jewish  offensive   425              0.2321\n"
     ]
    }
   ],
   "source": [
    "# ── 0. Imports & DB connection ────────────────────────────────────────────\n",
    "import pandas as pd\n",
    "from sqlalchemy import create_engine, text\n",
    "import sqlalchemy.types as satypes\n",
    "\n",
    "# RDS credentials\n",
    "username = \"admin\"\n",
    "password = \"fit5120ta30\"\n",
    "host     = \"shieldspace.ck1sygqoe3hd.us-east-1.rds.amazonaws.com\"\n",
    "database = \"shieldspace\"\n",
    "\n",
    "engine = create_engine(\n",
    "    f\"mysql+mysqlconnector://{username}:{password}@{host}/{database}\",\n",
    "    pool_pre_ping=True,                # auto-reconnect if idle\n",
    ")\n",
    "\n",
    "# quick connection test\n",
    "with engine.connect() as conn:\n",
    "    conn.execute(text(\"SELECT 1\"))\n",
    "print(\"✅  Connected to RDS\")\n",
    "\n",
    "# ── 1. Load CSV & filter ─────────────────────────────────────────────────\n",
    "df = pd.read_csv(\"final_hateXplain.csv\")\n",
    "\n",
    "# keep only offensive / hatespeech\n",
    "df = df.loc[df[\"label\"].ne(\"normal\")].copy()\n",
    "\n",
    "# drop “non-religious” placeholders\n",
    "drop_tokens = {\"no_religion\", \"non_religious\", \"nonreligious\", \"none\"}\n",
    "df = df[~df[\"Religion\"].str.lower().str.replace(\" \", \"_\").isin(drop_tokens)]\n",
    "\n",
    "# ── 2. Build summary by Religion *and* label ─────────────────────────────\n",
    "summary_lbl = (\n",
    "    df.groupby([\"Religion\", \"label\"], as_index=False)\n",
    "      .size()\n",
    "      .rename(columns={\"size\": \"count\"})\n",
    ")\n",
    "\n",
    "# percentage within each religion\n",
    "summary_lbl[\"pct_within_religion\"] = (\n",
    "    summary_lbl[\"count\"] /\n",
    "    summary_lbl.groupby(\"Religion\")[\"count\"].transform(\"sum\")\n",
    ")\n",
    "\n",
    "# ── 3. Write to MySQL ────────────────────────────────────────────────────\n",
    "dtype_map = {\n",
    "    \"Religion\"           : satypes.VARCHAR(48),\n",
    "    \"label\"              : satypes.VARCHAR(12),\n",
    "    \"count\"              : satypes.INTEGER(),\n",
    "    \"pct_within_religion\": satypes.FLOAT(asdecimal=False),\n",
    "}\n",
    "\n",
    "summary_lbl.to_sql(\n",
    "    name      = \"religion_summary_by_label\",\n",
    "    con       = engine,\n",
    "    if_exists = \"replace\",      # change to \"append\" if you prefer\n",
    "    index     = False,\n",
    "    dtype     = dtype_map,\n",
    ")\n",
    "\n",
    "print(\"✅  Table `religion_summary_by_label` written to MySQL\")\n",
    "\n",
    "# ── 4. Verify (read back a preview) ──────────────────────────────────────\n",
    "with engine.connect() as conn:\n",
    "    preview = pd.read_sql(\n",
    "        \"SELECT * FROM religion_summary_by_label ORDER BY Religion, label LIMIT 12\",\n",
    "        conn\n",
    "    )\n",
    "\n",
    "print(\"\\nPreview:\")\n",
    "print(preview.to_string(index=False, formatters={\n",
    "    \"count\": \"{:,}\".format,\n",
    "    \"pct_within_religion\": \"{:.4f}\".format,\n",
    "}))"
   ]
  },
  {
   "cell_type": "code",
   "execution_count": 24,
   "metadata": {},
   "outputs": [
    {
     "name": "stdout",
     "output_type": "stream",
     "text": [
      "✅  Connected to RDS\n",
      "✅  Tables `misc_by_label` and `so_bullying_totals` written to MySQL\n",
      "\n",
      "Preview misc_by_label:\n",
      "  category      label  count\n",
      "Disability hatespeech     11\n",
      "Disability  offensive      7\n",
      "  Minority hatespeech     30\n",
      "  Minority  offensive     13\n",
      "   Refugee hatespeech     26\n",
      "   Refugee  offensive      8\n",
      "\n",
      "Preview so_bullying_totals:\n",
      " orientation  count\n",
      "  Homosexual   1627\n",
      "Heterosexual     95\n",
      "    Bisexual      2\n"
     ]
    }
   ],
   "source": [
    "############################################################################\n",
    "# 0.  IMPORTS & DB CONNECTION\n",
    "############################################################################\n",
    "import pandas as pd\n",
    "from sqlalchemy import create_engine, text\n",
    "import sqlalchemy.types as satypes\n",
    "\n",
    "username = \"admin\"\n",
    "password = \"fit5120ta30\"\n",
    "host     = \"shieldspace.ck1sygqoe3hd.us-east-1.rds.amazonaws.com\"\n",
    "database = \"shieldspace\"\n",
    "\n",
    "engine = create_engine(\n",
    "    f\"mysql+mysqlconnector://{username}:{password}@{host}/{database}\",\n",
    "    pool_pre_ping=True,\n",
    ")\n",
    "\n",
    "# quick connection test\n",
    "with engine.connect() as conn:\n",
    "    conn.execute(text(\"SELECT 1\"))\n",
    "print(\"✅  Connected to RDS\")\n",
    "\n",
    "############################################################################\n",
    "# 1.  LOAD & FILTER DATA  (bullying only, drop placeholders)\n",
    "############################################################################\n",
    "df = pd.read_csv(\"final_hateXplain.csv\")\n",
    "df = df[df[\"label\"].isin([\"offensive\", \"hatespeech\"])].copy()     # bullying rows\n",
    "\n",
    "misc_drop = {\"none\", \"na\", \"n_a\", \"no_misc\", \"nomisc\", \"other\", \"\"}\n",
    "so_drop   = {\"none\", \"na\", \"n_a\", \"unknown\", \"no_orientation\", \"other\", \"\"}\n",
    "\n",
    "df = df[~df[\"Miscellaneous\"].str.lower().str.replace(\" \", \"_\").isin(misc_drop)]\n",
    "df = df[~df[\"Sexual Orientation\"].str.lower().str.replace(\" \", \"_\").isin(so_drop)]\n",
    "\n",
    "############################################################################\n",
    "# 2-A.  BUILD  Miscellaneous × label  SUMMARY\n",
    "############################################################################\n",
    "misc_summary = (\n",
    "    df.groupby([\"Miscellaneous\", \"label\"], as_index=False)\n",
    "      .size()\n",
    "      .rename(columns={\n",
    "          \"Miscellaneous\": \"category\",\n",
    "          \"size\"         : \"count\"\n",
    "      })\n",
    ")\n",
    "\n",
    "############################################################################\n",
    "# 2-B.  BUILD  Sexual-orientation bullying totals\n",
    "############################################################################\n",
    "so_summary = (\n",
    "    df[\"Sexual Orientation\"]\n",
    "      .value_counts()\n",
    "      .rename_axis(\"orientation\")\n",
    "      .reset_index(name=\"count\")\n",
    ")\n",
    "\n",
    "############################################################################\n",
    "# 3.  WRITE BOTH TABLES TO MYSQL\n",
    "############################################################################\n",
    "# dtype mappings\n",
    "misc_dtypes = {\n",
    "    \"category\": satypes.VARCHAR(64),\n",
    "    \"label\"   : satypes.VARCHAR(12),\n",
    "    \"count\"   : satypes.INTEGER()\n",
    "}\n",
    "\n",
    "so_dtypes = {\n",
    "    \"orientation\": satypes.VARCHAR(32),\n",
    "    \"count\"      : satypes.INTEGER()\n",
    "}\n",
    "\n",
    "misc_summary.to_sql(\n",
    "    name      =\"misc_by_label\",\n",
    "    con       =engine,\n",
    "    if_exists =\"replace\",          # \"append\" if you prefer\n",
    "    index     =False,\n",
    "    dtype     =misc_dtypes,\n",
    ")\n",
    "so_summary.to_sql(\n",
    "    name      =\"so_bullying_totals\",\n",
    "    con       =engine,\n",
    "    if_exists =\"replace\",\n",
    "    index     =False,\n",
    "    dtype     =so_dtypes,\n",
    ")\n",
    "\n",
    "print(\"✅  Tables `misc_by_label` and `so_bullying_totals` written to MySQL\")\n",
    "\n",
    "############################################################################\n",
    "# 4.  VERIFY  (read back a few rows)\n",
    "############################################################################\n",
    "with engine.connect() as conn:\n",
    "    print(\"\\nPreview misc_by_label:\")\n",
    "    print(pd.read_sql(\"SELECT * FROM misc_by_label LIMIT 8\", conn).to_string(index=False))\n",
    "\n",
    "    print(\"\\nPreview so_bullying_totals:\")\n",
    "    print(pd.read_sql(\"SELECT * FROM so_bullying_totals\", conn).to_string(index=False))"
   ]
  },
  {
   "cell_type": "markdown",
   "metadata": {},
   "source": [
    "vis code-"
   ]
  },
  {
   "cell_type": "code",
   "execution_count": 38,
   "metadata": {},
   "outputs": [
    {
     "name": "stdout",
     "output_type": "stream",
     "text": [
      "✅  Connected to RDS\n"
     ]
    },
    {
     "data": {
      "image/png": "[encoded data removed]",
      "text/plain": [
       "<Figure size 1000x600 with 1 Axes>"
      ]
     },
     "metadata": {},
     "output_type": "display_data"
    },
    {
     "data": {
      "application/vnd.plotly.v1+json": {
       "config": {
        "plotlyServerURL": "https://plot.ly"
       },
       "data": [
        {
         "branchvalues": "total",
         "customdata": [
          [
           3,
           "hatespeech"
          ],
          [
           59,
           "hatespeech"
          ],
          [
           18,
           "hatespeech"
          ],
          [
           1497,
           "hatespeech"
          ],
          [
           1406,
           "hatespeech"
          ],
          [
           2983,
           "hatespeech"
          ],
          [
           5,
           "offensive"
          ],
          [
           53,
           "offensive"
          ],
          [
           13,
           "offensive"
          ],
          [
           761,
           "offensive"
          ],
          [
           425,
           "offensive"
          ],
          [
           1257,
           "offensive"
          ]
         ],
         "domain": {
          "x": [
           0,
           1
          ],
          "y": [
           0,
           1
          ]
         },
         "hovertemplate": "labels=%{label}<br>count=%{customdata[0]:,}<br>parent=%{parent}<br>id=%{id}<br>label=%{customdata[1]}<extra></extra>",
         "ids": [
          "hatespeech/Buddhism",
          "hatespeech/Christian",
          "hatespeech/Hindu",
          "hatespeech/Islam",
          "hatespeech/Jewish",
          "hatespeech",
          "offensive/Buddhism",
          "offensive/Christian",
          "offensive/Hindu",
          "offensive/Islam",
          "offensive/Jewish",
          "offensive"
         ],
         "insidetextorientation": "radial",
         "labels": [
          "Buddhism",
          "Christian",
          "Hindu",
          "Islam",
          "Jewish",
          "hatespeech",
          "Buddhism",
          "Christian",
          "Hindu",
          "Islam",
          "Jewish",
          "offensive"
         ],
         "marker": {
          "colors": [
           "#003F5C",
           "#003F5C",
           "#003F5C",
           "#003F5C",
           "#003F5C",
           "#003F5C",
           "#FF6361",
           "#FF6361",
           "#FF6361",
           "#FF6361",
           "#FF6361",
           "#FF6361"
          ]
         },
         "name": "",
         "parents": [
          "hatespeech",
          "hatespeech",
          "hatespeech",
          "hatespeech",
          "hatespeech",
          "",
          "offensive",
          "offensive",
          "offensive",
          "offensive",
          "offensive",
          ""
         ],
         "type": "sunburst",
         "values": {
          "bdata": "AAAAAAAACEAAAAAAAIBNQAAAAAAAADJAAAAAAABkl0AAAAAAAPiVQAAAAAAATqdAAAAAAAAAFEAAAAAAAIBKQAAAAAAAACpAAAAAAADIh0AAAAAAAJB6QAAAAAAApJNA",
          "dtype": "f8"
         }
        }
       ],
       "layout": {
        "legend": {
         "tracegroupgap": 0
        },
        "margin": {
         "b": 0,
         "l": 0,
         "r": 0,
         "t": 40
        },
        "template": {
         "data": {
          "bar": [
           {
            "error_x": {
             "color": "#2a3f5f"
            },
            "error_y": {
             "color": "#2a3f5f"
            },
            "marker": {
             "line": {
              "color": "#E5ECF6",
              "width": 0.5
             },
             "pattern": {
              "fillmode": "overlay",
              "size": 10,
              "solidity": 0.2
             }
            },
            "type": "bar"
           }
          ],
          "barpolar": [
           {
            "marker": {
             "line": {
              "color": "#E5ECF6",
              "width": 0.5
             },
             "pattern": {
              "fillmode": "overlay",
              "size": 10,
              "solidity": 0.2
             }
            },
            "type": "barpolar"
           }
          ],
          "carpet": [
           {
            "aaxis": {
             "endlinecolor": "#2a3f5f",
             "gridcolor": "white",
             "linecolor": "white",
             "minorgridcolor": "white",
             "startlinecolor": "#2a3f5f"
            },
            "baxis": {
             "endlinecolor": "#2a3f5f",
             "gridcolor": "white",
             "linecolor": "white",
             "minorgridcolor": "white",
             "startlinecolor": "#2a3f5f"
            },
            "type": "carpet"
           }
          ],
          "choropleth": [
           {
            "colorbar": {
             "outlinewidth": 0,
             "ticks": ""
            },
            "type": "choropleth"
           }
          ],
          "contour": [
           {
            "colorbar": {
             "outlinewidth": 0,
             "ticks": ""
            },
            "colorscale": [
             [
              0,
              "#0d0887"
             ],
             [
              0.1111111111111111,
              "#46039f"
             ],
             [
              0.2222222222222222,
              "#7201a8"
             ],
             [
              0.3333333333333333,
              "#9c179e"
             ],
             [
              0.4444444444444444,
              "#bd3786"
             ],
             [
              0.5555555555555556,
              "#d8576b"
             ],
             [
              0.6666666666666666,
              "#ed7953"
             ],
             [
              0.7777777777777778,
              "#fb9f3a"
             ],
             [
              0.8888888888888888,
              "#fdca26"
             ],
             [
              1,
              "#f0f921"
             ]
            ],
            "type": "contour"
           }
          ],
          "contourcarpet": [
           {
            "colorbar": {
             "outlinewidth": 0,
             "ticks": ""
            },
            "type": "contourcarpet"
           }
          ],
          "heatmap": [
           {
            "colorbar": {
             "outlinewidth": 0,
             "ticks": ""
            },
            "colorscale": [
             [
              0,
              "#0d0887"
             ],
             [
              0.1111111111111111,
              "#46039f"
             ],
             [
              0.2222222222222222,
              "#7201a8"
             ],
             [
              0.3333333333333333,
              "#9c179e"
             ],
             [
              0.4444444444444444,
              "#bd3786"
             ],
             [
              0.5555555555555556,
              "#d8576b"
             ],
             [
              0.6666666666666666,
              "#ed7953"
             ],
             [
              0.7777777777777778,
              "#fb9f3a"
             ],
             [
              0.8888888888888888,
              "#fdca26"
             ],
             [
              1,
              "#f0f921"
             ]
            ],
            "type": "heatmap"
           }
          ],
          "histogram": [
           {
            "marker": {
             "pattern": {
              "fillmode": "overlay",
              "size": 10,
              "solidity": 0.2
             }
            },
            "type": "histogram"
           }
          ],
          "histogram2d": [
           {
            "colorbar": {
             "outlinewidth": 0,
             "ticks": ""
            },
            "colorscale": [
             [
              0,
              "#0d0887"
             ],
             [
              0.1111111111111111,
              "#46039f"
             ],
             [
              0.2222222222222222,
              "#7201a8"
             ],
             [
              0.3333333333333333,
              "#9c179e"
             ],
             [
              0.4444444444444444,
              "#bd3786"
             ],
             [
              0.5555555555555556,
              "#d8576b"
             ],
             [
              0.6666666666666666,
              "#ed7953"
             ],
             [
              0.7777777777777778,
              "#fb9f3a"
             ],
             [
              0.8888888888888888,
              "#fdca26"
             ],
             [
              1,
              "#f0f921"
             ]
            ],
            "type": "histogram2d"
           }
          ],
          "histogram2dcontour": [
           {
            "colorbar": {
             "outlinewidth": 0,
             "ticks": ""
            },
            "colorscale": [
             [
              0,
              "#0d0887"
             ],
             [
              0.1111111111111111,
              "#46039f"
             ],
             [
              0.2222222222222222,
              "#7201a8"
             ],
             [
              0.3333333333333333,
              "#9c179e"
             ],
             [
              0.4444444444444444,
              "#bd3786"
             ],
             [
              0.5555555555555556,
              "#d8576b"
             ],
             [
              0.6666666666666666,
              "#ed7953"
             ],
             [
              0.7777777777777778,
              "#fb9f3a"
             ],
             [
              0.8888888888888888,
              "#fdca26"
             ],
             [
              1,
              "#f0f921"
             ]
            ],
            "type": "histogram2dcontour"
           }
          ],
          "mesh3d": [
           {
            "colorbar": {
             "outlinewidth": 0,
             "ticks": ""
            },
            "type": "mesh3d"
           }
          ],
          "parcoords": [
           {
            "line": {
             "colorbar": {
              "outlinewidth": 0,
              "ticks": ""
             }
            },
            "type": "parcoords"
           }
          ],
          "pie": [
           {
            "automargin": true,
            "type": "pie"
           }
          ],
          "scatter": [
           {
            "fillpattern": {
             "fillmode": "overlay",
             "size": 10,
             "solidity": 0.2
            },
            "type": "scatter"
           }
          ],
          "scatter3d": [
           {
            "line": {
             "colorbar": {
              "outlinewidth": 0,
              "ticks": ""
             }
            },
            "marker": {
             "colorbar": {
              "outlinewidth": 0,
              "ticks": ""
             }
            },
            "type": "scatter3d"
           }
          ],
          "scattercarpet": [
           {
            "marker": {
             "colorbar": {
              "outlinewidth": 0,
              "ticks": ""
             }
            },
            "type": "scattercarpet"
           }
          ],
          "scattergeo": [
           {
            "marker": {
             "colorbar": {
              "outlinewidth": 0,
              "ticks": ""
             }
            },
            "type": "scattergeo"
           }
          ],
          "scattergl": [
           {
            "marker": {
             "colorbar": {
              "outlinewidth": 0,
              "ticks": ""
             }
            },
            "type": "scattergl"
           }
          ],
          "scattermap": [
           {
            "marker": {
             "colorbar": {
              "outlinewidth": 0,
              "ticks": ""
             }
            },
            "type": "scattermap"
           }
          ],
          "scattermapbox": [
           {
            "marker": {
             "colorbar": {
              "outlinewidth": 0,
              "ticks": ""
             }
            },
            "type": "scattermapbox"
           }
          ],
          "scatterpolar": [
           {
            "marker": {
             "colorbar": {
              "outlinewidth": 0,
              "ticks": ""
             }
            },
            "type": "scatterpolar"
           }
          ],
          "scatterpolargl": [
           {
            "marker": {
             "colorbar": {
              "outlinewidth": 0,
              "ticks": ""
             }
            },
            "type": "scatterpolargl"
           }
          ],
          "scatterternary": [
           {
            "marker": {
             "colorbar": {
              "outlinewidth": 0,
              "ticks": ""
             }
            },
            "type": "scatterternary"
           }
          ],
          "surface": [
           {
            "colorbar": {
             "outlinewidth": 0,
             "ticks": ""
            },
            "colorscale": [
             [
              0,
              "#0d0887"
             ],
             [
              0.1111111111111111,
              "#46039f"
             ],
             [
              0.2222222222222222,
              "#7201a8"
             ],
             [
              0.3333333333333333,
              "#9c179e"
             ],
             [
              0.4444444444444444,
              "#bd3786"
             ],
             [
              0.5555555555555556,
              "#d8576b"
             ],
             [
              0.6666666666666666,
              "#ed7953"
             ],
             [
              0.7777777777777778,
              "#fb9f3a"
             ],
             [
              0.8888888888888888,
              "#fdca26"
             ],
             [
              1,
              "#f0f921"
             ]
            ],
            "type": "surface"
           }
          ],
          "table": [
           {
            "cells": {
             "fill": {
              "color": "#EBF0F8"
             },
             "line": {
              "color": "white"
             }
            },
            "header": {
             "fill": {
              "color": "#C8D4E3"
             },
             "line": {
              "color": "white"
             }
            },
            "type": "table"
           }
          ]
         },
         "layout": {
          "annotationdefaults": {
           "arrowcolor": "#2a3f5f",
           "arrowhead": 0,
           "arrowwidth": 1
          },
          "autotypenumbers": "strict",
          "coloraxis": {
           "colorbar": {
            "outlinewidth": 0,
            "ticks": ""
           }
          },
          "colorscale": {
           "diverging": [
            [
             0,
             "#8e0152"
            ],
            [
             0.1,
             "#c51b7d"
            ],
            [
             0.2,
             "#de77ae"
            ],
            [
             0.3,
             "#f1b6da"
            ],
            [
             0.4,
             "#fde0ef"
            ],
            [
             0.5,
             "#f7f7f7"
            ],
            [
             0.6,
             "#e6f5d0"
            ],
            [
             0.7,
             "#b8e186"
            ],
            [
             0.8,
             "#7fbc41"
            ],
            [
             0.9,
             "#4d9221"
            ],
            [
             1,
             "#276419"
            ]
           ],
           "sequential": [
            [
             0,
             "#0d0887"
            ],
            [
             0.1111111111111111,
             "#46039f"
            ],
            [
             0.2222222222222222,
             "#7201a8"
            ],
            [
             0.3333333333333333,
             "#9c179e"
            ],
            [
             0.4444444444444444,
             "#bd3786"
            ],
            [
             0.5555555555555556,
             "#d8576b"
            ],
            [
             0.6666666666666666,
             "#ed7953"
            ],
            [
             0.7777777777777778,
             "#fb9f3a"
            ],
            [
             0.8888888888888888,
             "#fdca26"
            ],
            [
             1,
             "#f0f921"
            ]
           ],
           "sequentialminus": [
            [
             0,
             "#0d0887"
            ],
            [
             0.1111111111111111,
             "#46039f"
            ],
            [
             0.2222222222222222,
             "#7201a8"
            ],
            [
             0.3333333333333333,
             "#9c179e"
            ],
            [
             0.4444444444444444,
             "#bd3786"
            ],
            [
             0.5555555555555556,
             "#d8576b"
            ],
            [
             0.6666666666666666,
             "#ed7953"
            ],
            [
             0.7777777777777778,
             "#fb9f3a"
            ],
            [
             0.8888888888888888,
             "#fdca26"
            ],
            [
             1,
             "#f0f921"
            ]
           ]
          },
          "colorway": [
           "#636efa",
           "#EF553B",
           "#00cc96",
           "#ab63fa",
           "#FFA15A",
           "#19d3f3",
           "#FF6692",
           "#B6E880",
           "#FF97FF",
           "#FECB52"
          ],
          "font": {
           "color": "#2a3f5f"
          },
          "geo": {
           "bgcolor": "white",
           "lakecolor": "white",
           "landcolor": "#E5ECF6",
           "showlakes": true,
           "showland": true,
           "subunitcolor": "white"
          },
          "hoverlabel": {
           "align": "left"
          },
          "hovermode": "closest",
          "mapbox": {
           "style": "light"
          },
          "paper_bgcolor": "white",
          "plot_bgcolor": "#E5ECF6",
          "polar": {
           "angularaxis": {
            "gridcolor": "white",
            "linecolor": "white",
            "ticks": ""
           },
           "bgcolor": "#E5ECF6",
           "radialaxis": {
            "gridcolor": "white",
            "linecolor": "white",
            "ticks": ""
           }
          },
          "scene": {
           "xaxis": {
            "backgroundcolor": "#E5ECF6",
            "gridcolor": "white",
            "gridwidth": 2,
            "linecolor": "white",
            "showbackground": true,
            "ticks": "",
            "zerolinecolor": "white"
           },
           "yaxis": {
            "backgroundcolor": "#E5ECF6",
            "gridcolor": "white",
            "gridwidth": 2,
            "linecolor": "white",
            "showbackground": true,
            "ticks": "",
            "zerolinecolor": "white"
           },
           "zaxis": {
            "backgroundcolor": "#E5ECF6",
            "gridcolor": "white",
            "gridwidth": 2,
            "linecolor": "white",
            "showbackground": true,
            "ticks": "",
            "zerolinecolor": "white"
           }
          },
          "shapedefaults": {
           "line": {
            "color": "#2a3f5f"
           }
          },
          "ternary": {
           "aaxis": {
            "gridcolor": "white",
            "linecolor": "white",
            "ticks": ""
           },
           "baxis": {
            "gridcolor": "white",
            "linecolor": "white",
            "ticks": ""
           },
           "bgcolor": "#E5ECF6",
           "caxis": {
            "gridcolor": "white",
            "linecolor": "white",
            "ticks": ""
           }
          },
          "title": {
           "x": 0.05
          },
          "xaxis": {
           "automargin": true,
           "gridcolor": "white",
           "linecolor": "white",
           "ticks": "",
           "title": {
            "standoff": 15
           },
           "zerolinecolor": "white",
           "zerolinewidth": 2
          },
          "yaxis": {
           "automargin": true,
           "gridcolor": "white",
           "linecolor": "white",
           "ticks": "",
           "title": {
            "standoff": 15
           },
           "zerolinecolor": "white",
           "zerolinewidth": 2
          }
         }
        },
        "title": {
         "text": "Label → Religion sunburst"
        }
       }
      }
     },
     "metadata": {},
     "output_type": "display_data"
    },
    {
     "data": {
      "image/png": "[encoded data removed]",
      "text/plain": [
       "<Figure size 1000x500 with 1 Axes>"
      ]
     },
     "metadata": {},
     "output_type": "display_data"
    },
    {
     "data": {
      "text/html": [
       "\n",
       "<style>\n",
       "  #altair-viz-a45b8e093eec47958b7d599525085de8.vega-embed {\n",
       "    width: 100%;\n",
       "    display: flex;\n",
       "  }\n",
       "\n",
       "  #altair-viz-a45b8e093eec47958b7d599525085de8.vega-embed details,\n",
       "  #altair-viz-a45b8e093eec47958b7d599525085de8.vega-embed details summary {\n",
       "    position: relative;\n",
       "  }\n",
       "</style>\n",
       "<div id=\"altair-viz-a45b8e093eec47958b7d599525085de8\"></div>\n",
       "<script type=\"text/javascript\">\n",
       "  var VEGA_DEBUG = (typeof VEGA_DEBUG == \"undefined\") ? {} : VEGA_DEBUG;\n",
       "  (function(spec, embedOpt){\n",
       "    let outputDiv = document.currentScript.previousElementSibling;\n",
       "    if (outputDiv.id !== \"altair-viz-a45b8e093eec47958b7d599525085de8\") {\n",
       "      outputDiv = document.getElementById(\"altair-viz-a45b8e093eec47958b7d599525085de8\");\n",
       "    }\n",
       "\n",
       "    const paths = {\n",
       "      \"vega\": \"https://cdn.jsdelivr.net/npm/vega@5?noext\",\n",
       "      \"vega-lib\": \"https://cdn.jsdelivr.net/npm/vega-lib?noext\",\n",
       "      \"vega-lite\": \"https://cdn.jsdelivr.net/npm/vega-lite@5.20.1?noext\",\n",
       "      \"vega-embed\": \"https://cdn.jsdelivr.net/npm/vega-embed@6?noext\",\n",
       "    };\n",
       "\n",
       "    function maybeLoadScript(lib, version) {\n",
       "      var key = `${lib.replace(\"-\", \"\")}_version`;\n",
       "      return (VEGA_DEBUG[key] == version) ?\n",
       "        Promise.resolve(paths[lib]) :\n",
       "        new Promise(function(resolve, reject) {\n",
       "          var s = document.createElement('script');\n",
       "          document.getElementsByTagName(\"head\")[0].appendChild(s);\n",
       "          s.async = true;\n",
       "          s.onload = () => {\n",
       "            VEGA_DEBUG[key] = version;\n",
       "            return resolve(paths[lib]);\n",
       "          };\n",
       "          s.onerror = () => reject(`Error loading script: ${paths[lib]}`);\n",
       "          s.src = paths[lib];\n",
       "        });\n",
       "    }\n",
       "\n",
       "    function showError(err) {\n",
       "      outputDiv.innerHTML = `<div class=\"error\" style=\"color:red;\">${err}</div>`;\n",
       "      throw err;\n",
       "    }\n",
       "\n",
       "    function displayChart(vegaEmbed) {\n",
       "      vegaEmbed(outputDiv, spec, embedOpt)\n",
       "        .catch(err => showError(`Javascript Error: ${err.message}<br>This usually means there's a typo in your chart specification. See the javascript console for the full traceback.`));\n",
       "    }\n",
       "\n",
       "    if(typeof define === \"function\" && define.amd) {\n",
       "      requirejs.config({paths});\n",
       "      let deps = [\"vega-embed\"];\n",
       "      require(deps, displayChart, err => showError(`Error loading script: ${err.message}`));\n",
       "    } else {\n",
       "      maybeLoadScript(\"vega\", \"5\")\n",
       "        .then(() => maybeLoadScript(\"vega-lite\", \"5.20.1\"))\n",
       "        .then(() => maybeLoadScript(\"vega-embed\", \"6\"))\n",
       "        .catch(showError)\n",
       "        .then(() => displayChart(vegaEmbed));\n",
       "    }\n",
       "  })({\"config\": {\"view\": {\"continuousWidth\": 300, \"continuousHeight\": 300}}, \"data\": {\"name\": \"data-feb3d41377325d25d09afcb70b15ce0f\"}, \"mark\": {\"type\": \"bar\"}, \"encoding\": {\"color\": {\"field\": \"label\", \"scale\": {\"scheme\": \"set2\"}, \"type\": \"nominal\"}, \"tooltip\": [{\"field\": \"Religion\", \"type\": \"nominal\"}, {\"field\": \"label\", \"type\": \"nominal\"}, {\"field\": \"val\", \"type\": \"quantitative\"}], \"x\": {\"field\": \"Religion\", \"sort\": \"-y\", \"type\": \"nominal\"}, \"y\": {\"field\": \"val\", \"title\": \"Tweets\", \"type\": \"quantitative\"}}, \"height\": 400, \"params\": [{\"name\": \"view\", \"bind\": {\"input\": \"select\", \"options\": [\"count\", \"percentage\"], \"name\": \"Show \"}, \"value\": \"count\"}], \"title\": \"Religion \\u2013 interactive view (non-religious removed)\", \"transform\": [{\"filter\": \"datum.view === view\"}], \"width\": 600, \"$schema\": \"https://vega.github.io/schema/vega-lite/v5.20.1.json\", \"datasets\": {\"data-feb3d41377325d25d09afcb70b15ce0f\": [{\"Religion\": \"Buddhism\", \"label\": \"hatespeech\", \"val\": 3.0, \"view\": \"count\"}, {\"Religion\": \"Christian\", \"label\": \"hatespeech\", \"val\": 59.0, \"view\": \"count\"}, {\"Religion\": \"Hindu\", \"label\": \"hatespeech\", \"val\": 18.0, \"view\": \"count\"}, {\"Religion\": \"Islam\", \"label\": \"hatespeech\", \"val\": 1497.0, \"view\": \"count\"}, {\"Religion\": \"Jewish\", \"label\": \"hatespeech\", \"val\": 1406.0, \"view\": \"count\"}, {\"Religion\": \"Buddhism\", \"label\": \"offensive\", \"val\": 5.0, \"view\": \"count\"}, {\"Religion\": \"Christian\", \"label\": \"offensive\", \"val\": 53.0, \"view\": \"count\"}, {\"Religion\": \"Hindu\", \"label\": \"offensive\", \"val\": 13.0, \"view\": \"count\"}, {\"Religion\": \"Islam\", \"label\": \"offensive\", \"val\": 761.0, \"view\": \"count\"}, {\"Religion\": \"Jewish\", \"label\": \"offensive\", \"val\": 425.0, \"view\": \"count\"}, {\"Religion\": \"Buddhism\", \"label\": \"hatespeech\", \"val\": 0.375, \"view\": \"percentage\"}, {\"Religion\": \"Christian\", \"label\": \"hatespeech\", \"val\": 0.5267857142857143, \"view\": \"percentage\"}, {\"Religion\": \"Hindu\", \"label\": \"hatespeech\", \"val\": 0.5806451612903226, \"view\": \"percentage\"}, {\"Religion\": \"Islam\", \"label\": \"hatespeech\", \"val\": 0.6629760850310009, \"view\": \"percentage\"}, {\"Religion\": \"Jewish\", \"label\": \"hatespeech\", \"val\": 0.7678864008738394, \"view\": \"percentage\"}, {\"Religion\": \"Buddhism\", \"label\": \"offensive\", \"val\": 0.625, \"view\": \"percentage\"}, {\"Religion\": \"Christian\", \"label\": \"offensive\", \"val\": 0.4732142857142857, \"view\": \"percentage\"}, {\"Religion\": \"Hindu\", \"label\": \"offensive\", \"val\": 0.41935483870967744, \"view\": \"percentage\"}, {\"Religion\": \"Islam\", \"label\": \"offensive\", \"val\": 0.33702391496899914, \"view\": \"percentage\"}, {\"Religion\": \"Jewish\", \"label\": \"offensive\", \"val\": 0.23211359912616056, \"view\": \"percentage\"}]}}, {\"mode\": \"vega-lite\"});\n",
       "</script>"
      ],
      "text/plain": [
       "alt.Chart(...)"
      ]
     },
     "metadata": {},
     "output_type": "display_data"
    },
    {
     "data": {
      "image/png": "[encoded data removed]",
      "text/plain": [
       "<Figure size 1000x500 with 1 Axes>"
      ]
     },
     "metadata": {},
     "output_type": "display_data"
    },
    {
     "data": {
      "image/png": "[encoded data removed]",
      "text/plain": [
       "<Figure size 900x500 with 1 Axes>"
      ]
     },
     "metadata": {},
     "output_type": "display_data"
    },
    {
     "data": {
      "image/png": "[encoded data removed]",
      "text/plain": [
       "<Figure size 1000x600 with 1 Axes>"
      ]
     },
     "metadata": {},
     "output_type": "display_data"
    }
   ],
   "source": [
    "\"\"\"\n",
    "FULL VISUAL SUITE  —  data pulled straight from MySQL\n",
    "====================================================\n",
    "Relies on these tables (created earlier):\n",
    "\n",
    "  • race_summary                    (race, count)\n",
    "  • religion_summary_by_label       (Religion, label, count)\n",
    "  • misc_by_label                   (category, label, count)\n",
    "  • so_bullying_totals              (orientation, count)\n",
    "  • aggressive_age_distribution     (age, aggressive_comment_count)\n",
    "\n",
    "Run in one notebook cell. Auto-installs any missing libs.\n",
    "\"\"\"\n",
    "\n",
    "# ────────────────────────────────────────────────────────────────────────\n",
    "# 0. Imports (auto-install helper)\n",
    "# ────────────────────────────────────────────────────────────────────────\n",
    "import sys, subprocess, importlib, warnings\n",
    "\n",
    "def ensure(pkg):\n",
    "    try:\n",
    "        return importlib.import_module(pkg)\n",
    "    except ImportError:\n",
    "        subprocess.check_call([sys.executable, \"-m\", \"pip\", \"install\", pkg])\n",
    "        return importlib.import_module(pkg)\n",
    "\n",
    "pd   = ensure(\"pandas\")\n",
    "plt  = ensure(\"matplotlib.pyplot\")\n",
    "sns  = ensure(\"seaborn\")\n",
    "sq   = ensure(\"squarify\")\n",
    "px   = ensure(\"plotly.express\")\n",
    "alt  = ensure(\"altair\")\n",
    "np   = ensure(\"numpy\")\n",
    "from sqlalchemy import create_engine, text\n",
    "\n",
    "plt.style.use(\"ggplot\")\n",
    "sns.set_palette(\"Set2\")\n",
    "warnings.filterwarnings(\"ignore\", category=FutureWarning)\n",
    "\n",
    "# ────────────────────────────────────────────────────────────────────────\n",
    "# 1. DB connection\n",
    "# ────────────────────────────────────────────────────────────────────────\n",
    "username = \"admin\"\n",
    "password = \"fit5120ta30\"\n",
    "host     = \"shieldspace.ck1sygqoe3hd.us-east-1.rds.amazonaws.com\"\n",
    "database = \"shieldspace\"\n",
    "\n",
    "engine = create_engine(\n",
    "    f\"mysql+mysqlconnector://{username}:{password}@{host}/{database}\",\n",
    "    pool_pre_ping=True,\n",
    ")\n",
    "\n",
    "with engine.connect() as conn:\n",
    "    conn.execute(text(\"SELECT 1\"))\n",
    "print(\"✅  Connected to RDS\")\n",
    "\n",
    "# ════════════════════════════════════════════════════════════════════════\n",
    "# A.  Race  —  Treemap\n",
    "# ════════════════════════════════════════════════════════════════════════\n",
    "race_df = pd.read_sql(\"SELECT race, count FROM race_summary\", engine)\n",
    "\n",
    "sizes  = race_df[\"count\"].values\n",
    "labels = [f\"{r}\\n{c:,} ({c/sizes.sum():.1%})\" for r, c in zip(race_df[\"race\"], sizes)]\n",
    "colors = sns.color_palette(\"Set3\", n_colors=len(race_df))\n",
    "\n",
    "plt.figure(figsize=(10,6))\n",
    "sq.plot(sizes=sizes, label=labels, color=colors,\n",
    "        pad=True, bar_kwargs=dict(edgecolor=\"white\", linewidth=2))\n",
    "plt.axis(\"off\")\n",
    "plt.title(\"Race distribution (hatespeech + offensive)\", fontsize=16, weight=\"bold\")\n",
    "plt.tight_layout(); plt.show()\n",
    "\n",
    "# ════════════════════════════════════════════════════════════════════════\n",
    "# B.  Religion  —  Sunburst  +  Grouped bar  +  Altair dropdown\n",
    "# ════════════════════════════════════════════════════════════════════════\n",
    "rel_df = pd.read_sql(\"SELECT Religion, label, count FROM religion_summary_by_label\", engine)\n",
    "\n",
    "# Sunburst (Plotly)\n",
    "fig_sb = px.sunburst(\n",
    "    rel_df, path=[\"label\",\"Religion\"], values=\"count\",\n",
    "    color=\"label\", color_discrete_map={\"offensive\":\"#FF6361\",\"hatespeech\":\"#003F5C\"},\n",
    "    hover_data={\"count\":\":,\"},\n",
    ")\n",
    "fig_sb.update_traces(insidetextorientation=\"radial\")\n",
    "fig_sb.update_layout(title=\"Label → Religion sunburst\", margin=dict(t=40,l=0,r=0,b=0))\n",
    "fig_sb.show()\n",
    "\n",
    "# Grouped bar (static)\n",
    "bar_df = rel_df.pivot(index=\"Religion\", columns=\"label\", values=\"count\").fillna(0)\n",
    "bar_df.plot(kind=\"bar\", figsize=(10,5), color=sns.color_palette(\"Set2\", 2))\n",
    "plt.ylabel(\"Tweet count\"); plt.title(\"Religion by label – grouped bars\")\n",
    "plt.xticks(rotation=45, ha=\"right\"); plt.tight_layout(); plt.show()\n",
    "\n",
    "# Altair dropdown (count ↔ percentage)  — new param API\n",
    "alt.data_transformers.disable_max_rows()\n",
    "\n",
    "abs_df = bar_df.reset_index().melt(\"Religion\", var_name=\"label\", value_name=\"val\")\n",
    "pct_df = abs_df.assign(\n",
    "    val=lambda d: d.groupby(\"Religion\")[\"val\"].transform(lambda x: x/x.sum()),\n",
    "    view=\"percentage\"\n",
    ")\n",
    "abs_df[\"view\"] = \"count\"\n",
    "viz_df = pd.concat([abs_df, pct_df], ignore_index=True)\n",
    "\n",
    "param_view = alt.param(name=\"view\",\n",
    "                       bind=alt.binding_select(options=[\"count\",\"percentage\"], name=\"Show \"),\n",
    "                       value=\"count\")\n",
    "\n",
    "alt.Chart(viz_df).add_params(param_view)\\\n",
    "    .transform_filter(\"datum.view === view\")\\\n",
    "    .mark_bar()\\\n",
    "    .encode(\n",
    "        x=alt.X(\"Religion:N\", sort=\"-y\"),\n",
    "        y=alt.Y(\"val:Q\", title=\"Tweets\"),\n",
    "        color=alt.Color(\"label:N\", scale=alt.Scale(scheme=\"set2\")),\n",
    "        tooltip=[\"Religion:N\",\"label:N\",\"val:Q\"]\n",
    "    )\\\n",
    "    .properties(width=600, height=400,\n",
    "                title=\"Religion – interactive view (non-religious removed)\")\\\n",
    "    .display()\n",
    "\n",
    "# ════════════════════════════════════════════════════════════════════════\n",
    "# C.  Miscellaneous  —  Stacked bar\n",
    "# ════════════════════════════════════════════════════════════════════════\n",
    "misc_df = pd.read_sql(\"SELECT category, label, count FROM misc_by_label\", engine)\n",
    "misc_stack = misc_df.pivot(index=\"category\", columns=\"label\", values=\"count\").fillna(0)\n",
    "misc_stack.plot(kind=\"bar\", stacked=True, figsize=(10,5))\n",
    "plt.ylabel(\"Tweet count\"); plt.title(\"Miscellaneous by label – stacked bar\")\n",
    "plt.xticks(rotation=45, ha=\"right\"); plt.legend(title=\"Label\", bbox_to_anchor=(1.02,1))\n",
    "plt.tight_layout(); plt.show()\n",
    "\n",
    "# ════════════════════════════════════════════════════════════════════════\n",
    "# D.  Sexual Orientation  —  reversed line chart\n",
    "# ════════════════════════════════════════════════════════════════════════\n",
    "so_df = pd.read_sql(\"SELECT orientation, count FROM so_bullying_totals\", engine)\n",
    "so_df   = so_df.sort_values(\"count\", ascending=False)\n",
    "orient  = so_df[\"orientation\"].iloc[::-1]\n",
    "counts  = so_df[\"count\"].iloc[::-1]\n",
    "\n",
    "plt.figure(figsize=(9,5))\n",
    "plt.plot(orient, counts, marker=\"o\", linewidth=2)\n",
    "plt.title(\"Bullying tweets by Sexual Orientation\")\n",
    "plt.xlabel(\"Sexual Orientation (reversed)\"); plt.ylabel(\"Tweet count\")\n",
    "plt.xticks(rotation=45, ha=\"right\"); plt.tight_layout(); plt.show()\n",
    "\n",
    "# ════════════════════════════════════════════════════════════════════════\n",
    "# E.  Age distribution  — Violin + Swarm\n",
    "# ════════════════════════════════════════════════════════════════════════\n",
    "age_df = pd.read_sql(\n",
    "    \"SELECT age, aggressive_comment_count AS n FROM aggressive_age_distribution\", engine\n",
    ")\n",
    "\n",
    "ages_expanded = np.repeat(age_df[\"age\"].values, age_df[\"n\"].values)\n",
    "\n",
    "plt.figure(figsize=(10,6))\n",
    "sns.violinplot(x=ages_expanded, color=\"skyblue\", inner=\"quartile\")\n",
    "sns.swarmplot(x=ages_expanded, color=\"darkblue\", size=3, alpha=0.6)\n",
    "plt.title(\"Age distribution for aggressive comments\")\n",
    "plt.xlabel(\"Age\"); plt.ylabel(\"Density\")\n",
    "plt.tight_layout(); plt.show()"
   ]
  },
  {
   "cell_type": "code",
   "execution_count": null,
   "metadata": {},
   "outputs": [],
   "source": []
  }
 ],
 "metadata": {
  "kernelspec": {
   "display_name": "Python 3",
   "language": "python",
   "name": "python3"
  },
  "language_info": {
   "codemirror_mode": {
    "name": "ipython",
    "version": 3
   },
   "file_extension": ".py",
   "mimetype": "text/x-python",
   "name": "python",
   "nbconvert_exporter": "python",
   "pygments_lexer": "ipython3",
   "version": "3.10.2"
  }
 },
 "nbformat": 4,
 "nbformat_minor": 2
}
